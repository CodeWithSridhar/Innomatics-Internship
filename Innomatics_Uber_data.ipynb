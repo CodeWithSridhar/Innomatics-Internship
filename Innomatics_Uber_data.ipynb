{
  "nbformat": 4,
  "nbformat_minor": 0,
  "metadata": {
    "colab": {
      "provenance": [],
      "authorship_tag": "ABX9TyOKeVuQvVBKHN/x/eI9mBqF",
      "include_colab_link": true
    },
    "kernelspec": {
      "name": "python3",
      "display_name": "Python 3"
    },
    "language_info": {
      "name": "python"
    }
  },
  "cells": [
    {
      "cell_type": "markdown",
      "metadata": {
        "id": "view-in-github",
        "colab_type": "text"
      },
      "source": [
        "<a href=\"https://colab.research.google.com/github/CodeWithSridhar/Innomatics-Internship/blob/main/Innomatics_Uber_data.ipynb\" target=\"_parent\"><img src=\"https://colab.research.google.com/assets/colab-badge.svg\" alt=\"Open In Colab\"/></a>"
      ]
    },
    {
      "cell_type": "code",
      "execution_count": 2,
      "metadata": {
        "id": "n-SevScSk3SA"
      },
      "outputs": [],
      "source": [
        "import pandas as pd\n",
        "import numpy as np"
      ]
    },
    {
      "cell_type": "code",
      "source": [
        "data = 'https://raw.githubusercontent.com/CodeWithSridhar/Innomatics-Internship/main/uber_rides_data.xlsx%20-%20sample_train.csv'"
      ],
      "metadata": {
        "id": "bObiTOZTlHEk"
      },
      "execution_count": 3,
      "outputs": []
    },
    {
      "cell_type": "code",
      "source": [
        "df = pd.read_csv(data)"
      ],
      "metadata": {
        "id": "NJW-7HmIrOzD"
      },
      "execution_count": 6,
      "outputs": []
    },
    {
      "cell_type": "code",
      "source": [
        "df.head()"
      ],
      "metadata": {
        "colab": {
          "base_uri": "https://localhost:8080/",
          "height": 206
        },
        "id": "z1sAlF46rRBv",
        "outputId": "174025fb-cd05-4b00-9331-ddd33c3da2b6"
      },
      "execution_count": 7,
      "outputs": [
        {
          "output_type": "execute_result",
          "data": {
            "text/plain": [
              "    ride_id  fare_amount          pickup_datetime  pickup_longitude  \\\n",
              "0  24238194          7.5  2015-05-07 19:52:06 UTC        -73.999817   \n",
              "1  27835199          7.7  2009-07-17 20:04:56 UTC        -73.994355   \n",
              "2  44984355         12.9  2009-08-24 21:45:00 UTC        -74.005043   \n",
              "3  25894730          5.3  2009-06-26 08:22:21 UTC        -73.976124   \n",
              "4  17610152         16.0  2014-08-28 17:47:00 UTC        -73.925023   \n",
              "\n",
              "   pickup_latitude  dropoff_longitude  dropoff_latitude  passenger_count  \n",
              "0        40.738354         -73.999512         40.723217                1  \n",
              "1        40.728225         -73.994710         40.750325                1  \n",
              "2        40.740770         -73.962565         40.772647                1  \n",
              "3        40.790844         -73.965316         40.803349                3  \n",
              "4        40.744085         -73.973082         40.761247                5  "
            ],
            "text/html": [
              "\n",
              "  <div id=\"df-dfc4f0ec-f4f2-4fce-b9bd-5b4c0311a56c\" class=\"colab-df-container\">\n",
              "    <div>\n",
              "<style scoped>\n",
              "    .dataframe tbody tr th:only-of-type {\n",
              "        vertical-align: middle;\n",
              "    }\n",
              "\n",
              "    .dataframe tbody tr th {\n",
              "        vertical-align: top;\n",
              "    }\n",
              "\n",
              "    .dataframe thead th {\n",
              "        text-align: right;\n",
              "    }\n",
              "</style>\n",
              "<table border=\"1\" class=\"dataframe\">\n",
              "  <thead>\n",
              "    <tr style=\"text-align: right;\">\n",
              "      <th></th>\n",
              "      <th>ride_id</th>\n",
              "      <th>fare_amount</th>\n",
              "      <th>pickup_datetime</th>\n",
              "      <th>pickup_longitude</th>\n",
              "      <th>pickup_latitude</th>\n",
              "      <th>dropoff_longitude</th>\n",
              "      <th>dropoff_latitude</th>\n",
              "      <th>passenger_count</th>\n",
              "    </tr>\n",
              "  </thead>\n",
              "  <tbody>\n",
              "    <tr>\n",
              "      <th>0</th>\n",
              "      <td>24238194</td>\n",
              "      <td>7.5</td>\n",
              "      <td>2015-05-07 19:52:06 UTC</td>\n",
              "      <td>-73.999817</td>\n",
              "      <td>40.738354</td>\n",
              "      <td>-73.999512</td>\n",
              "      <td>40.723217</td>\n",
              "      <td>1</td>\n",
              "    </tr>\n",
              "    <tr>\n",
              "      <th>1</th>\n",
              "      <td>27835199</td>\n",
              "      <td>7.7</td>\n",
              "      <td>2009-07-17 20:04:56 UTC</td>\n",
              "      <td>-73.994355</td>\n",
              "      <td>40.728225</td>\n",
              "      <td>-73.994710</td>\n",
              "      <td>40.750325</td>\n",
              "      <td>1</td>\n",
              "    </tr>\n",
              "    <tr>\n",
              "      <th>2</th>\n",
              "      <td>44984355</td>\n",
              "      <td>12.9</td>\n",
              "      <td>2009-08-24 21:45:00 UTC</td>\n",
              "      <td>-74.005043</td>\n",
              "      <td>40.740770</td>\n",
              "      <td>-73.962565</td>\n",
              "      <td>40.772647</td>\n",
              "      <td>1</td>\n",
              "    </tr>\n",
              "    <tr>\n",
              "      <th>3</th>\n",
              "      <td>25894730</td>\n",
              "      <td>5.3</td>\n",
              "      <td>2009-06-26 08:22:21 UTC</td>\n",
              "      <td>-73.976124</td>\n",
              "      <td>40.790844</td>\n",
              "      <td>-73.965316</td>\n",
              "      <td>40.803349</td>\n",
              "      <td>3</td>\n",
              "    </tr>\n",
              "    <tr>\n",
              "      <th>4</th>\n",
              "      <td>17610152</td>\n",
              "      <td>16.0</td>\n",
              "      <td>2014-08-28 17:47:00 UTC</td>\n",
              "      <td>-73.925023</td>\n",
              "      <td>40.744085</td>\n",
              "      <td>-73.973082</td>\n",
              "      <td>40.761247</td>\n",
              "      <td>5</td>\n",
              "    </tr>\n",
              "  </tbody>\n",
              "</table>\n",
              "</div>\n",
              "    <div class=\"colab-df-buttons\">\n",
              "\n",
              "  <div class=\"colab-df-container\">\n",
              "    <button class=\"colab-df-convert\" onclick=\"convertToInteractive('df-dfc4f0ec-f4f2-4fce-b9bd-5b4c0311a56c')\"\n",
              "            title=\"Convert this dataframe to an interactive table.\"\n",
              "            style=\"display:none;\">\n",
              "\n",
              "  <svg xmlns=\"http://www.w3.org/2000/svg\" height=\"24px\" viewBox=\"0 -960 960 960\">\n",
              "    <path d=\"M120-120v-720h720v720H120Zm60-500h600v-160H180v160Zm220 220h160v-160H400v160Zm0 220h160v-160H400v160ZM180-400h160v-160H180v160Zm440 0h160v-160H620v160ZM180-180h160v-160H180v160Zm440 0h160v-160H620v160Z\"/>\n",
              "  </svg>\n",
              "    </button>\n",
              "\n",
              "  <style>\n",
              "    .colab-df-container {\n",
              "      display:flex;\n",
              "      gap: 12px;\n",
              "    }\n",
              "\n",
              "    .colab-df-convert {\n",
              "      background-color: #E8F0FE;\n",
              "      border: none;\n",
              "      border-radius: 50%;\n",
              "      cursor: pointer;\n",
              "      display: none;\n",
              "      fill: #1967D2;\n",
              "      height: 32px;\n",
              "      padding: 0 0 0 0;\n",
              "      width: 32px;\n",
              "    }\n",
              "\n",
              "    .colab-df-convert:hover {\n",
              "      background-color: #E2EBFA;\n",
              "      box-shadow: 0px 1px 2px rgba(60, 64, 67, 0.3), 0px 1px 3px 1px rgba(60, 64, 67, 0.15);\n",
              "      fill: #174EA6;\n",
              "    }\n",
              "\n",
              "    .colab-df-buttons div {\n",
              "      margin-bottom: 4px;\n",
              "    }\n",
              "\n",
              "    [theme=dark] .colab-df-convert {\n",
              "      background-color: #3B4455;\n",
              "      fill: #D2E3FC;\n",
              "    }\n",
              "\n",
              "    [theme=dark] .colab-df-convert:hover {\n",
              "      background-color: #434B5C;\n",
              "      box-shadow: 0px 1px 3px 1px rgba(0, 0, 0, 0.15);\n",
              "      filter: drop-shadow(0px 1px 2px rgba(0, 0, 0, 0.3));\n",
              "      fill: #FFFFFF;\n",
              "    }\n",
              "  </style>\n",
              "\n",
              "    <script>\n",
              "      const buttonEl =\n",
              "        document.querySelector('#df-dfc4f0ec-f4f2-4fce-b9bd-5b4c0311a56c button.colab-df-convert');\n",
              "      buttonEl.style.display =\n",
              "        google.colab.kernel.accessAllowed ? 'block' : 'none';\n",
              "\n",
              "      async function convertToInteractive(key) {\n",
              "        const element = document.querySelector('#df-dfc4f0ec-f4f2-4fce-b9bd-5b4c0311a56c');\n",
              "        const dataTable =\n",
              "          await google.colab.kernel.invokeFunction('convertToInteractive',\n",
              "                                                    [key], {});\n",
              "        if (!dataTable) return;\n",
              "\n",
              "        const docLinkHtml = 'Like what you see? Visit the ' +\n",
              "          '<a target=\"_blank\" href=https://colab.research.google.com/notebooks/data_table.ipynb>data table notebook</a>'\n",
              "          + ' to learn more about interactive tables.';\n",
              "        element.innerHTML = '';\n",
              "        dataTable['output_type'] = 'display_data';\n",
              "        await google.colab.output.renderOutput(dataTable, element);\n",
              "        const docLink = document.createElement('div');\n",
              "        docLink.innerHTML = docLinkHtml;\n",
              "        element.appendChild(docLink);\n",
              "      }\n",
              "    </script>\n",
              "  </div>\n",
              "\n",
              "\n",
              "<div id=\"df-aea1dec1-56e1-48d7-a10d-8fb835fb4be2\">\n",
              "  <button class=\"colab-df-quickchart\" onclick=\"quickchart('df-aea1dec1-56e1-48d7-a10d-8fb835fb4be2')\"\n",
              "            title=\"Suggest charts.\"\n",
              "            style=\"display:none;\">\n",
              "\n",
              "<svg xmlns=\"http://www.w3.org/2000/svg\" height=\"24px\"viewBox=\"0 0 24 24\"\n",
              "     width=\"24px\">\n",
              "    <g>\n",
              "        <path d=\"M19 3H5c-1.1 0-2 .9-2 2v14c0 1.1.9 2 2 2h14c1.1 0 2-.9 2-2V5c0-1.1-.9-2-2-2zM9 17H7v-7h2v7zm4 0h-2V7h2v10zm4 0h-2v-4h2v4z\"/>\n",
              "    </g>\n",
              "</svg>\n",
              "  </button>\n",
              "\n",
              "<style>\n",
              "  .colab-df-quickchart {\n",
              "      --bg-color: #E8F0FE;\n",
              "      --fill-color: #1967D2;\n",
              "      --hover-bg-color: #E2EBFA;\n",
              "      --hover-fill-color: #174EA6;\n",
              "      --disabled-fill-color: #AAA;\n",
              "      --disabled-bg-color: #DDD;\n",
              "  }\n",
              "\n",
              "  [theme=dark] .colab-df-quickchart {\n",
              "      --bg-color: #3B4455;\n",
              "      --fill-color: #D2E3FC;\n",
              "      --hover-bg-color: #434B5C;\n",
              "      --hover-fill-color: #FFFFFF;\n",
              "      --disabled-bg-color: #3B4455;\n",
              "      --disabled-fill-color: #666;\n",
              "  }\n",
              "\n",
              "  .colab-df-quickchart {\n",
              "    background-color: var(--bg-color);\n",
              "    border: none;\n",
              "    border-radius: 50%;\n",
              "    cursor: pointer;\n",
              "    display: none;\n",
              "    fill: var(--fill-color);\n",
              "    height: 32px;\n",
              "    padding: 0;\n",
              "    width: 32px;\n",
              "  }\n",
              "\n",
              "  .colab-df-quickchart:hover {\n",
              "    background-color: var(--hover-bg-color);\n",
              "    box-shadow: 0 1px 2px rgba(60, 64, 67, 0.3), 0 1px 3px 1px rgba(60, 64, 67, 0.15);\n",
              "    fill: var(--button-hover-fill-color);\n",
              "  }\n",
              "\n",
              "  .colab-df-quickchart-complete:disabled,\n",
              "  .colab-df-quickchart-complete:disabled:hover {\n",
              "    background-color: var(--disabled-bg-color);\n",
              "    fill: var(--disabled-fill-color);\n",
              "    box-shadow: none;\n",
              "  }\n",
              "\n",
              "  .colab-df-spinner {\n",
              "    border: 2px solid var(--fill-color);\n",
              "    border-color: transparent;\n",
              "    border-bottom-color: var(--fill-color);\n",
              "    animation:\n",
              "      spin 1s steps(1) infinite;\n",
              "  }\n",
              "\n",
              "  @keyframes spin {\n",
              "    0% {\n",
              "      border-color: transparent;\n",
              "      border-bottom-color: var(--fill-color);\n",
              "      border-left-color: var(--fill-color);\n",
              "    }\n",
              "    20% {\n",
              "      border-color: transparent;\n",
              "      border-left-color: var(--fill-color);\n",
              "      border-top-color: var(--fill-color);\n",
              "    }\n",
              "    30% {\n",
              "      border-color: transparent;\n",
              "      border-left-color: var(--fill-color);\n",
              "      border-top-color: var(--fill-color);\n",
              "      border-right-color: var(--fill-color);\n",
              "    }\n",
              "    40% {\n",
              "      border-color: transparent;\n",
              "      border-right-color: var(--fill-color);\n",
              "      border-top-color: var(--fill-color);\n",
              "    }\n",
              "    60% {\n",
              "      border-color: transparent;\n",
              "      border-right-color: var(--fill-color);\n",
              "    }\n",
              "    80% {\n",
              "      border-color: transparent;\n",
              "      border-right-color: var(--fill-color);\n",
              "      border-bottom-color: var(--fill-color);\n",
              "    }\n",
              "    90% {\n",
              "      border-color: transparent;\n",
              "      border-bottom-color: var(--fill-color);\n",
              "    }\n",
              "  }\n",
              "</style>\n",
              "\n",
              "  <script>\n",
              "    async function quickchart(key) {\n",
              "      const quickchartButtonEl =\n",
              "        document.querySelector('#' + key + ' button');\n",
              "      quickchartButtonEl.disabled = true;  // To prevent multiple clicks.\n",
              "      quickchartButtonEl.classList.add('colab-df-spinner');\n",
              "      try {\n",
              "        const charts = await google.colab.kernel.invokeFunction(\n",
              "            'suggestCharts', [key], {});\n",
              "      } catch (error) {\n",
              "        console.error('Error during call to suggestCharts:', error);\n",
              "      }\n",
              "      quickchartButtonEl.classList.remove('colab-df-spinner');\n",
              "      quickchartButtonEl.classList.add('colab-df-quickchart-complete');\n",
              "    }\n",
              "    (() => {\n",
              "      let quickchartButtonEl =\n",
              "        document.querySelector('#df-aea1dec1-56e1-48d7-a10d-8fb835fb4be2 button');\n",
              "      quickchartButtonEl.style.display =\n",
              "        google.colab.kernel.accessAllowed ? 'block' : 'none';\n",
              "    })();\n",
              "  </script>\n",
              "</div>\n",
              "    </div>\n",
              "  </div>\n"
            ]
          },
          "metadata": {},
          "execution_count": 7
        }
      ]
    },
    {
      "cell_type": "markdown",
      "source": [
        "### 1. What is the shape of given dataset?`\n"
      ],
      "metadata": {
        "id": "RuPtiiQcrs8Y"
      }
    },
    {
      "cell_type": "code",
      "source": [
        "df.shape"
      ],
      "metadata": {
        "colab": {
          "base_uri": "https://localhost:8080/"
        },
        "id": "yCVzA7GCrdA7",
        "outputId": "758726d4-b000-45c4-8703-94a03d1113ce"
      },
      "execution_count": 8,
      "outputs": [
        {
          "output_type": "execute_result",
          "data": {
            "text/plain": [
              "(200000, 8)"
            ]
          },
          "metadata": {},
          "execution_count": 8
        }
      ]
    },
    {
      "cell_type": "markdown",
      "source": [
        "### 2. How many integer columns(by default) are given in the dataset?"
      ],
      "metadata": {
        "id": "_lsdT6VXr1X_"
      }
    },
    {
      "cell_type": "code",
      "source": [
        "# Select integer columns (by default)\n",
        "int_columns = df.select_dtypes(include=['int64'])\n",
        "\n",
        "# Get the number of integer columns\n",
        "num_int_columns = int_columns.shape[1]\n",
        "\n",
        "print(\"Number of integer columns in the dataset:\", num_int_columns)\n"
      ],
      "metadata": {
        "colab": {
          "base_uri": "https://localhost:8080/"
        },
        "id": "94GndLTyroVc",
        "outputId": "b931bcc5-3b27-40e7-d1fb-4f902dc481a6"
      },
      "execution_count": 9,
      "outputs": [
        {
          "output_type": "stream",
          "name": "stdout",
          "text": [
            "Number of integer columns in the dataset: 2\n"
          ]
        }
      ]
    },
    {
      "cell_type": "markdown",
      "source": [
        "### 3. How many missing values exists in 'dropoff_longitude' column?"
      ],
      "metadata": {
        "id": "aiCz58BytgxV"
      }
    },
    {
      "cell_type": "code",
      "source": [
        "# Count missing values in the 'dropoff_longitude' column\n",
        "missing_values = df['dropoff_longitude'].isna().sum()\n",
        "\n",
        "print(\"Number of missing values in 'dropoff_longitude' column:\", missing_values)\n"
      ],
      "metadata": {
        "colab": {
          "base_uri": "https://localhost:8080/"
        },
        "id": "mO3_ZFXwtHjI",
        "outputId": "3f88a753-9513-461e-b4ac-43ca6fbf184d"
      },
      "execution_count": 10,
      "outputs": [
        {
          "output_type": "stream",
          "name": "stdout",
          "text": [
            "Number of missing values in 'dropoff_longitude' column: 1\n"
          ]
        }
      ]
    },
    {
      "cell_type": "code",
      "source": [],
      "metadata": {
        "id": "9v_WapcwuJO_"
      },
      "execution_count": null,
      "outputs": []
    },
    {
      "cell_type": "markdown",
      "source": [
        "### 4. What is the data type of ' pickup_datetime' feature in your data?"
      ],
      "metadata": {
        "id": "ib4OIRDcuSIX"
      }
    },
    {
      "cell_type": "code",
      "source": [
        "# Get the data type of the 'pickup_datetime' feature\n",
        "pickup_datetime_dtype = df['pickup_datetime'].dtype\n",
        "\n",
        "print(\"Data type of 'pickup_datetime' feature:\", pickup_datetime_dtype)\n"
      ],
      "metadata": {
        "colab": {
          "base_uri": "https://localhost:8080/"
        },
        "id": "rXofNlGWuHao",
        "outputId": "e32a8c03-bba9-4164-8e41-ee365d858108"
      },
      "execution_count": 11,
      "outputs": [
        {
          "output_type": "stream",
          "name": "stdout",
          "text": [
            "Data type of 'pickup_datetime' feature: object\n"
          ]
        }
      ]
    },
    {
      "cell_type": "markdown",
      "source": [
        "### 5.correct syntax to convert 'pickup_datetime' to datetime datatype?"
      ],
      "metadata": {
        "id": "1lA9s-DsuVwW"
      }
    },
    {
      "cell_type": "code",
      "source": [
        "# Convert 'pickup_datetime' to datetime data type\n",
        "df['pickup_datetime'] = pd.to_datetime(df['pickup_datetime'])\n",
        "\n",
        "# Now 'pickup_datetime' is of datetime data type\n",
        "print(df['pickup_datetime'].dtype)"
      ],
      "metadata": {
        "colab": {
          "base_uri": "https://localhost:8080/"
        },
        "id": "1eRDm1psuOeU",
        "outputId": "8c79aa75-6782-48e2-846b-bd3082aa9021"
      },
      "execution_count": 12,
      "outputs": [
        {
          "output_type": "stream",
          "name": "stdout",
          "text": [
            "datetime64[ns, UTC]\n"
          ]
        }
      ]
    },
    {
      "cell_type": "markdown",
      "source": [
        "### What is the average fare amount?\n",
        "*\n",
        "Remove the null values from the dataframe to answer the following question."
      ],
      "metadata": {
        "id": "1tZuoE2T3VS7"
      }
    },
    {
      "cell_type": "code",
      "source": [
        "# Remove rows with null values\n",
        "df_cleaned = df.dropna(subset=['fare_amount'])\n",
        "\n",
        "# Calculate the average fare amount\n",
        "average_fare = df_cleaned['fare_amount'].mean()\n",
        "\n",
        "print(\"Average fare amount:\", average_fare)\n"
      ],
      "metadata": {
        "colab": {
          "base_uri": "https://localhost:8080/"
        },
        "id": "goD6mY86wbu_",
        "outputId": "0d6a546e-f8ee-437e-b47f-383d5c76cecd"
      },
      "execution_count": 13,
      "outputs": [
        {
          "output_type": "stream",
          "name": "stdout",
          "text": [
            "Average fare amount: 11.359955250000002\n"
          ]
        }
      ]
    },
    {
      "cell_type": "markdown",
      "source": [
        "### Calculate distance between each pickup and dropoff points using Haversine formula.\n",
        "What is the median haversine distance between pickup and dropoff location according to the given dataset?\n",
        "*\n",
        "Read about Haversine Distance here: https://en.wikipedia.org/wiki/Haversine_formula"
      ],
      "metadata": {
        "id": "-wtAZA2I3pUv"
      }
    },
    {
      "cell_type": "code",
      "source": [
        "# Function to calculate Haversine distance\n",
        "def haversine(lat1, lon1, lat2, lon2):\n",
        "    # Convert latitude and longitude from degrees to radians\n",
        "    lat1, lon1, lat2, lon2 = map(np.radians, [lat1, lon1, lat2, lon2])\n",
        "\n",
        "    # Haversine formula\n",
        "    dlat = lat2 - lat1\n",
        "    dlon = lon2 - lon1\n",
        "    a = np.sin(dlat/2)**2 + np.cos(lat1) * np.cos(lat2) * np.sin(dlon/2)**2\n",
        "    c = 2 * np.arctan2(np.sqrt(a), np.sqrt(1-a))\n",
        "    r = 6371  # Radius of the Earth in kilometers\n",
        "    distance = r * c\n",
        "\n",
        "    return distance\n",
        "\n",
        "# Calculate Haversine distance for each row\n",
        "df['haversine_distance'] = df.apply(lambda row: haversine(row['pickup_latitude'], row['pickup_longitude'],\n",
        "                                                          row['dropoff_latitude'], row['dropoff_longitude']), axis=1)\n",
        "\n",
        "# Calculate the median Haversine distance\n",
        "median_haversine_distance = df['haversine_distance'].median()\n",
        "\n",
        "print(\"Median Haversine distance between pickup and dropoff locations:\", median_haversine_distance, \"kilometers\")\n"
      ],
      "metadata": {
        "colab": {
          "base_uri": "https://localhost:8080/"
        },
        "id": "WpkeWqZ13puo",
        "outputId": "8ae472b9-944e-4f84-e362-6c1d8e9e9663"
      },
      "execution_count": 14,
      "outputs": [
        {
          "output_type": "stream",
          "name": "stdout",
          "text": [
            "Median Haversine distance between pickup and dropoff locations: 2.1209923961833708 kilometers\n"
          ]
        }
      ]
    },
    {
      "cell_type": "markdown",
      "source": [
        "### What is the maximum haversine distance between pickup and dropoff location according to the given dataset?"
      ],
      "metadata": {
        "id": "TUVPwKUR35F-"
      }
    },
    {
      "cell_type": "code",
      "source": [
        "# Find the maximum Haversine distance\n",
        "max_haversine_distance = df['haversine_distance'].max()\n",
        "\n",
        "print(\"Maximum Haversine distance between pickup and dropoff locations:\", max_haversine_distance, \"kilometers\")\n"
      ],
      "metadata": {
        "colab": {
          "base_uri": "https://localhost:8080/"
        },
        "id": "tZPo9SmA35hf",
        "outputId": "1f04cbcf-c9b3-4dd5-b105-3f90fb479c23"
      },
      "execution_count": 15,
      "outputs": [
        {
          "output_type": "stream",
          "name": "stdout",
          "text": [
            "Maximum Haversine distance between pickup and dropoff locations: 16409.239135313168 kilometers\n"
          ]
        }
      ]
    },
    {
      "cell_type": "markdown",
      "source": [
        "### How many rides have 0.0 haversine distance between pickup and dropoff location according to the given dataset?"
      ],
      "metadata": {
        "id": "3yqaNfcD4et3"
      }
    },
    {
      "cell_type": "code",
      "source": [
        "# Count the number of rides with 0.0 Haversine distance\n",
        "zero_distance_rides = df[df['haversine_distance'] == 0.0]\n",
        "num_zero_distance_rides = zero_distance_rides.shape[0]\n",
        "\n",
        "print(\"Number of rides with 0.0 Haversine distance between pickup and dropoff locations:\", num_zero_distance_rides)\n"
      ],
      "metadata": {
        "colab": {
          "base_uri": "https://localhost:8080/"
        },
        "id": "X630Sbxp4eHX",
        "outputId": "013c1b43-3e4b-4b39-f945-8f5355566e0c"
      },
      "execution_count": 16,
      "outputs": [
        {
          "output_type": "stream",
          "name": "stdout",
          "text": [
            "Number of rides with 0.0 Haversine distance between pickup and dropoff locations: 5632\n"
          ]
        }
      ]
    },
    {
      "cell_type": "markdown",
      "source": [
        "### What is the mean 'fare_amount' for rides with 0 haversine distance?\n",
        "\n",
        "Do you sense something fishy? Try to analyze, and give your expert opinion in Notebook."
      ],
      "metadata": {
        "id": "GM50yeis5AdQ"
      }
    },
    {
      "cell_type": "code",
      "source": [
        "# Calculate the mean 'fare_amount' for rides with 0.0 Haversine distance\n",
        "mean_fare_for_zero_distance_rides = zero_distance_rides['fare_amount'].mean()\n",
        "\n",
        "print(\"Mean 'fare_amount' for rides with 0.0 Haversine distance:\", mean_fare_for_zero_distance_rides)\n"
      ],
      "metadata": {
        "colab": {
          "base_uri": "https://localhost:8080/"
        },
        "id": "L47sb_zI4Zbm",
        "outputId": "c8b6f14e-cd5f-4902-95ea-fa1927ddd80a"
      },
      "execution_count": 17,
      "outputs": [
        {
          "output_type": "stream",
          "name": "stdout",
          "text": [
            "Mean 'fare_amount' for rides with 0.0 Haversine distance: 11.585317826704546\n"
          ]
        }
      ]
    },
    {
      "cell_type": "markdown",
      "source": [
        "    Having a 0.0 Haversine distance for rides suggests that the pickup and dropoff locations are very close or even identical. This is unusual because it implies that passengers are being charged a fare amount for a ride that did not actually occur or that the data might contain some errors.\n",
        "\n",
        "    It's important to investigate these cases further to determine the cause of these 0.0 distance rides. Some possible explanations could include:\n",
        "\n",
        "      1. Data entry errors, such as incorrect latitude and longitude coordinates for pickup and dropoff locations.\n",
        "      2. Rides that were canceled immediately after pickup.\n",
        "      3. Rides where the pickup and dropoff locations are very close, such as within the same building or street, but still incur a minimum fare."
      ],
      "metadata": {
        "id": "e7ir5sXU5uMv"
      }
    },
    {
      "cell_type": "markdown",
      "source": [
        "### What is the maximum 'fare_amount' for a ride?\n"
      ],
      "metadata": {
        "id": "Z00c_lTJ5zHF"
      }
    },
    {
      "cell_type": "code",
      "source": [
        "max_fare_amount = df['fare_amount'].max()\n",
        "\n",
        "print(\"Maximum 'fare_amount' for a ride:\", max_fare_amount)\n"
      ],
      "metadata": {
        "colab": {
          "base_uri": "https://localhost:8080/"
        },
        "id": "Y2FjQEZE5ydH",
        "outputId": "e5479070-376a-438a-9ad5-a1c435b84110"
      },
      "execution_count": 18,
      "outputs": [
        {
          "output_type": "stream",
          "name": "stdout",
          "text": [
            "Maximum 'fare_amount' for a ride: 499.0\n"
          ]
        }
      ]
    },
    {
      "cell_type": "markdown",
      "source": [
        "### What is the haversine distance between pickup and dropoff location for the costliest ride?\n",
        "*\n",
        "Do you sense something fishy? Try to analyze, and give your expert opinion"
      ],
      "metadata": {
        "id": "fujU8FGc6oM_"
      }
    },
    {
      "cell_type": "code",
      "source": [
        "# Find the row with the highest 'fare_amount'\n",
        "costliest_ride_row = df[df['fare_amount'] == df['fare_amount'].max()]\n",
        "\n",
        "# Calculate the Haversine distance for the costliest ride\n",
        "haversine_distance_costliest_ride = haversine(costliest_ride_row['pickup_latitude'].values[0],\n",
        "                                              costliest_ride_row['pickup_longitude'].values[0],\n",
        "                                              costliest_ride_row['dropoff_latitude'].values[0],\n",
        "                                              costliest_ride_row['dropoff_longitude'].values[0])\n",
        "\n",
        "print(\"Haversine distance for the costliest ride:\", haversine_distance_costliest_ride, \"kilometers\")\n"
      ],
      "metadata": {
        "colab": {
          "base_uri": "https://localhost:8080/"
        },
        "id": "5qsXVyEx6cCb",
        "outputId": "077e2662-bdc1-4b79-da1f-0076657002ff"
      },
      "execution_count": 19,
      "outputs": [
        {
          "output_type": "stream",
          "name": "stdout",
          "text": [
            "Haversine distance for the costliest ride: 0.0007899213191009993 kilometers\n"
          ]
        }
      ]
    },
    {
      "cell_type": "markdown",
      "source": [
        "    Having an unusually high 'fare_amount' for a ride could indicate several potential issues or anomalies in the data:\n",
        "\n",
        "      1. **Data Entry Errors**: There might be data entry errors leading to an artificially high fare amount.\n",
        "\n",
        "      2. **Outliers**: The costliest ride might be a legitimate outlier, such as a long-distance trip or a ride with multiple stops.\n",
        "\n",
        "      3. **Pricing Model Issues**: There could be issues with the pricing model, leading to overcharging.\n",
        "\n",
        "      4. **Fraud or Anomalies**: It's also possible that this high fare is a result of fraudulent activity or anomalies."
      ],
      "metadata": {
        "id": "1teL4fN77XTo"
      }
    },
    {
      "cell_type": "markdown",
      "source": [
        "### How many rides were recorded in the year 2014?"
      ],
      "metadata": {
        "id": "pkLxaSzh7unf"
      }
    },
    {
      "cell_type": "code",
      "source": [
        "# Extract the year from 'pickup_datetime'\n",
        "df['pickup_year'] = df['pickup_datetime'].dt.year\n",
        "\n",
        "# Count the number of rides recorded in 2014\n",
        "rides_in_2014 = df[df['pickup_year'] == 2014]\n",
        "num_rides_in_2014 = rides_in_2014.shape[0]\n",
        "\n",
        "print(\"Number of rides recorded in the year 2014:\", num_rides_in_2014)\n"
      ],
      "metadata": {
        "colab": {
          "base_uri": "https://localhost:8080/"
        },
        "id": "J1tS95la7vBV",
        "outputId": "2285bc72-6ce2-4dbf-e1b8-02042537e7b4"
      },
      "execution_count": 20,
      "outputs": [
        {
          "output_type": "stream",
          "name": "stdout",
          "text": [
            "Number of rides recorded in the year 2014: 29968\n"
          ]
        }
      ]
    },
    {
      "cell_type": "markdown",
      "source": [
        "### How many rides were recorded in the first quarter of 2014?"
      ],
      "metadata": {
        "id": "T7cKOX2G9gZe"
      }
    },
    {
      "cell_type": "code",
      "source": [
        "# Extract the quarter from 'pickup_datetime'\n",
        "df['pickup_quarter'] = df['pickup_datetime'].dt.quarter\n",
        "\n",
        "# Count the number of rides recorded in the first quarter of 2014 (quarter = 1)\n",
        "rides_in_first_quarter_2014 = df[(df['pickup_year'] == 2014) & (df['pickup_quarter'] == 1)]\n",
        "num_rides_in_first_quarter_2014 = rides_in_first_quarter_2014.shape[0]\n",
        "\n",
        "print(\"Number of rides recorded in the first quarter of 2014:\", num_rides_in_first_quarter_2014)\n"
      ],
      "metadata": {
        "colab": {
          "base_uri": "https://localhost:8080/"
        },
        "id": "7W39hHZa9Qxd",
        "outputId": "c0fada6b-0d0a-474f-a43a-750f7cd428e9"
      },
      "execution_count": 21,
      "outputs": [
        {
          "output_type": "stream",
          "name": "stdout",
          "text": [
            "Number of rides recorded in the first quarter of 2014: 7687\n"
          ]
        }
      ]
    },
    {
      "cell_type": "markdown",
      "source": [
        "### On which day of the week in September 2010, maximum rides were recorded ?"
      ],
      "metadata": {
        "id": "dxb3dJj593UU"
      }
    },
    {
      "cell_type": "code",
      "source": [
        "# Extract the year and month from 'pickup_datetime'\n",
        "df['pickup_year'] = df['pickup_datetime'].dt.year\n",
        "df['pickup_month'] = df['pickup_datetime'].dt.month\n",
        "\n",
        "# Filter rides for September 2010 (year = 2010, month = 9)\n",
        "rides_in_september_2010 = df[(df['pickup_year'] == 2010) & (df['pickup_month'] == 9)]\n",
        "\n",
        "# Find the day of the week with the maximum number of rides\n",
        "max_rides_day_of_week = rides_in_september_2010['pickup_datetime'].dt.day_name().mode().values[0]\n",
        "\n",
        "print(\"Day of the week in September 2010 with the maximum rides:\", max_rides_day_of_week)\n"
      ],
      "metadata": {
        "colab": {
          "base_uri": "https://localhost:8080/"
        },
        "id": "C3GQ8hzF9wqD",
        "outputId": "c41d51d4-f8fe-48d0-ca90-ff3242059cdf"
      },
      "execution_count": 22,
      "outputs": [
        {
          "output_type": "stream",
          "name": "stdout",
          "text": [
            "Day of the week in September 2010 with the maximum rides: Thursday\n"
          ]
        }
      ]
    },
    {
      "cell_type": "markdown",
      "source": [
        "### Apply a Machine Learning Algorithm to predict the fare amount given following input features:\n",
        "passenger_count, distance and ride_week_day.\n",
        "\n",
        "Perform a 70-30 split of data.\n",
        "\n",
        "Which algorithm gives the least adjusted R square value?"
      ],
      "metadata": {
        "id": "jUEcySap-m7V"
      }
    },
    {
      "cell_type": "code",
      "source": [
        "import pandas as pd\n",
        "from sklearn.model_selection import train_test_split\n",
        "from sklearn.linear_model import LinearRegression\n",
        "from sklearn.tree import DecisionTreeRegressor\n",
        "from sklearn.ensemble import RandomForestRegressor\n",
        "from sklearn.metrics import r2_score\n",
        "from sklearn.impute import SimpleImputer\n",
        "\n",
        "\n",
        "# Select features and target variable (excluding 'ride_week_day')\n",
        "X = df[['passenger_count', 'haversine_distance']]\n",
        "y = df['fare_amount']\n",
        "\n",
        "# Impute missing values (NaN) with mean for numerical features\n",
        "imputer = SimpleImputer(strategy='mean')\n",
        "X = imputer.fit_transform(X)\n",
        "\n",
        "# Split the data into training and test sets (70-30 split)\n",
        "X_train, X_test, y_train, y_test = train_test_split(X, y, test_size=0.3, random_state=42)\n",
        "\n",
        "# Initialize regression models\n",
        "models = {\n",
        "    \"Linear Regression\": LinearRegression(),\n",
        "    \"Decision Tree Regressor\": DecisionTreeRegressor(),\n",
        "    \"Random Forest Regressor\": RandomForestRegressor()\n",
        "}\n",
        "\n",
        "# Train and evaluate models\n",
        "adjusted_r2_scores = {}\n",
        "\n",
        "for model_name, model in models.items():\n",
        "    model.fit(X_train, y_train)\n",
        "    y_pred = model.predict(X_test)\n",
        "\n",
        "    # Calculate the R-squared value\n",
        "    r2 = r2_score(y_test, y_pred)\n",
        "\n",
        "    # Calculate adjusted R-squared\n",
        "    n = len(X_test)\n",
        "    p = X_test.shape[1]\n",
        "    adjusted_r2 = 1 - (1 - r2) * ((n - 1) / (n - p - 1))\n",
        "\n",
        "    adjusted_r2_scores[model_name] = adjusted_r2\n",
        "\n",
        "# Find the algorithm with the least adjusted R-squared value\n",
        "least_adjusted_r2_model = min(adjusted_r2_scores, key=adjusted_r2_scores.get)\n",
        "least_adjusted_r2_value = adjusted_r2_scores[least_adjusted_r2_model]\n",
        "\n",
        "print(\"Algorithm with the least adjusted R-squared value:\", least_adjusted_r2_model)\n",
        "print(\"Least adjusted R-squared value:\", least_adjusted_r2_value)\n"
      ],
      "metadata": {
        "colab": {
          "base_uri": "https://localhost:8080/"
        },
        "id": "6s2lzoW8H87k",
        "outputId": "cf0b5118-b648-4129-b4e7-bb5cfc8ce18b"
      },
      "execution_count": 33,
      "outputs": [
        {
          "output_type": "stream",
          "name": "stdout",
          "text": [
            "Algorithm with the least adjusted R-squared value: Linear Regression\n",
            "Least adjusted R-squared value: 0.0006828926442224992\n"
          ]
        }
      ]
    }
  ]
}