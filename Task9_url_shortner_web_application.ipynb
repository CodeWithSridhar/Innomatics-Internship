{
  "nbformat": 4,
  "nbformat_minor": 0,
  "metadata": {
    "colab": {
      "name": "Task9_url_shortner_web_application.ipynb",
      "provenance": [],
      "authorship_tag": "ABX9TyN3V8+cv65vlodAc9WK+Lip",
      "include_colab_link": true
    },
    "kernelspec": {
      "name": "python3",
      "display_name": "Python 3"
    },
    "language_info": {
      "name": "python"
    }
  },
  "cells": [
    {
      "cell_type": "markdown",
      "metadata": {
        "id": "view-in-github",
        "colab_type": "text"
      },
      "source": [
        "<a href=\"https://colab.research.google.com/github/CodeWithSridhar/Innomatics-Internship/blob/main/Task9_url_shortner_web_application.ipynb\" target=\"_parent\"><img src=\"https://colab.research.google.com/assets/colab-badge.svg\" alt=\"Open In Colab\"/></a>"
      ]
    },
    {
      "cell_type": "code",
      "metadata": {
        "id": "ecuAUkMU4vQO"
      },
      "source": [
        "from flask import Flask, render_template, request, redirect\n",
        "import random\n",
        "app = Flask(__name__)\n",
        "index2 = 1\n",
        "data = {}\n",
        "prefix_url = \"http://127.0.0.1:5000/short/\"\n",
        "################\n",
        "@app.route('/')\n",
        "def home_get():\n",
        "    return render_template('index.html')\n",
        "\n",
        "@app.route('/', methods=['POST'])\n",
        "def home_post():\n",
        "    original_url = request.form.get('in_1')\n",
        "    print(original_url)\n",
        "    index2 = 1\n",
        "    data[index2] = original_url\n",
        "    shorten_url = str(prefix_url) + str(index2)\n",
        "    \n",
        "    data[shorten_url] = original_url\n",
        "    return render_template('index.html', data=shorten_url)\n",
        "\n",
        "@app.route('/history')\n",
        "def history_get():\n",
        "    print(data)\n",
        "    return render_template('history.html', data=data)\n",
        "\n",
        "@app.route('/short/<url>')\n",
        "def fun(url):\n",
        "    if int(url) in data:\n",
        "        return redirect(data[int(url)])\n",
        "    return \"Incorrect URL\"\n",
        "################\n",
        "\n",
        "if __name__ == \"__main__\":\n",
        "    app.run(debug=True)"
      ],
      "execution_count": null,
      "outputs": []
    }
  ]
}