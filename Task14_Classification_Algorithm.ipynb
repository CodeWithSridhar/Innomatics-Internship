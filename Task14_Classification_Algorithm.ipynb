{
  "nbformat": 4,
  "nbformat_minor": 5,
  "metadata": {
    "colab": {
      "name": "Task14_Classification_Algorithm.ipynb",
      "provenance": [],
      "include_colab_link": true
    },
    "kernelspec": {
      "display_name": "Python 3",
      "language": "python",
      "name": "python3"
    },
    "language_info": {
      "codemirror_mode": {
        "name": "ipython",
        "version": 3
      },
      "file_extension": ".py",
      "mimetype": "text/x-python",
      "name": "python",
      "nbconvert_exporter": "python",
      "pygments_lexer": "ipython3",
      "version": "3.9.1"
    }
  },
  "cells": [
    {
      "cell_type": "markdown",
      "metadata": {
        "id": "view-in-github",
        "colab_type": "text"
      },
      "source": [
        "<a href=\"https://colab.research.google.com/github/CodeWithSridhar/Innomatics-Internship/blob/main/Task14_Classification_Algorithm.ipynb\" target=\"_parent\"><img src=\"https://colab.research.google.com/assets/colab-badge.svg\" alt=\"Open In Colab\"/></a>"
      ]
    },
    {
      "cell_type": "markdown",
      "metadata": {
        "id": "automated-newspaper"
      },
      "source": [
        "# Classification on CIFAR 10 Dataset"
      ],
      "id": "automated-newspaper"
    },
    {
      "cell_type": "markdown",
      "metadata": {
        "id": "humanitarian-vegetable"
      },
      "source": [
        "Instructions - \n",
        "1. In order to kick start, code for setting up the dataframes has already been given (Step 1 to 5)\n",
        "2. Go through the entire code written below and put the relavent comment for each line of code. Understanding below mentioned code is very important.\n",
        "3. After commenting the code in step 1 to 5, complete step 6 and 7"
      ],
      "id": "humanitarian-vegetable"
    },
    {
      "cell_type": "markdown",
      "metadata": {
        "id": "coral-present"
      },
      "source": [
        "### Step - 1 (Setup Code)"
      ],
      "id": "coral-present"
    },
    {
      "cell_type": "code",
      "metadata": {
        "id": "iraqi-being"
      },
      "source": [
        "# Run some setup code for this notebook.\n",
        "\n",
        "import random\n",
        "import numpy as np\n",
        "import matplotlib.pyplot as plt\n",
        "import os\n",
        "\n",
        "\n",
        "from __future__ import print_function\n",
        "\n",
        "from builtins import range\n",
        "from six.moves import cPickle as pickle\n",
        "from imageio import imread\n",
        "import platform\n",
        "\n",
        "# This is a bit of magic to make matplotlib figures appear inline in the notebook\n",
        "# rather than in a new window.\n",
        "%matplotlib inline\n",
        "plt.rcParams['figure.figsize'] = (10.0, 8.0) # set default size of plots\n",
        "plt.rcParams['image.interpolation'] = 'nearest'\n",
        "plt.rcParams['image.cmap'] = 'gray'\n",
        "\n",
        "# Some more magic so that the notebook will reload external python modules;\n",
        "# see http://stackoverflow.com/questions/1907993/autoreload-of-modules-in-ipython\n",
        "%load_ext autoreload\n",
        "%autoreload 2"
      ],
      "id": "iraqi-being",
      "execution_count": 1,
      "outputs": []
    },
    {
      "cell_type": "markdown",
      "metadata": {
        "id": "double-catalyst"
      },
      "source": [
        "### Step - 2 (Download the dataset)"
      ],
      "id": "double-catalyst"
    },
    {
      "cell_type": "code",
      "metadata": {
        "id": "recovered-consistency",
        "colab": {
          "base_uri": "https://localhost:8080/"
        },
        "outputId": "a7d50821-7fbd-4fc9-a40e-2c22302d30da"
      },
      "source": [
        "# # Use this code to download the dataset for the first time\n",
        "# # You will be required to install wget using pip\n",
        "# # For Linux users checkout the alternative for 'del'\n",
        "\n",
        "!wget http://www.cs.toronto.edu/~kriz/cifar-10-python.tar.gz -O cifar-10-python.tar.gz\n",
        "!tar -xzvf cifar-10-python.tar.gz\n",
        "!del cifar-10-python.tar.gz"
      ],
      "id": "recovered-consistency",
      "execution_count": 2,
      "outputs": [
        {
          "output_type": "stream",
          "name": "stdout",
          "text": [
            "--2021-11-22 20:50:38--  http://www.cs.toronto.edu/~kriz/cifar-10-python.tar.gz\n",
            "Resolving www.cs.toronto.edu (www.cs.toronto.edu)... 128.100.3.30\n",
            "Connecting to www.cs.toronto.edu (www.cs.toronto.edu)|128.100.3.30|:80... connected.\n",
            "HTTP request sent, awaiting response... 200 OK\n",
            "Length: 170498071 (163M) [application/x-gzip]\n",
            "Saving to: ‘cifar-10-python.tar.gz’\n",
            "\n",
            "cifar-10-python.tar 100%[===================>] 162.60M  70.1MB/s    in 2.3s    \n",
            "\n",
            "2021-11-22 20:50:41 (70.1 MB/s) - ‘cifar-10-python.tar.gz’ saved [170498071/170498071]\n",
            "\n",
            "cifar-10-batches-py/\n",
            "cifar-10-batches-py/data_batch_4\n",
            "cifar-10-batches-py/readme.html\n",
            "cifar-10-batches-py/test_batch\n",
            "cifar-10-batches-py/data_batch_3\n",
            "cifar-10-batches-py/batches.meta\n",
            "cifar-10-batches-py/data_batch_2\n",
            "cifar-10-batches-py/data_batch_5\n",
            "cifar-10-batches-py/data_batch_1\n",
            "/bin/bash: del: command not found\n"
          ]
        }
      ]
    },
    {
      "cell_type": "markdown",
      "metadata": {
        "id": "scientific-sword"
      },
      "source": [
        "### Step - 3 (Load the Dataset)"
      ],
      "id": "scientific-sword"
    },
    {
      "cell_type": "code",
      "metadata": {
        "colab": {
          "base_uri": "https://localhost:8080/"
        },
        "id": "rotary-colorado",
        "outputId": "9017ef80-65e8-443a-f202-03b48a657b7d"
      },
      "source": [
        "# This cell loads the training and testing dataset. Please note the variables at\n",
        "# the end of the cell as you would require them to access the train/test data \n",
        "# and labels throughout the assignment\n",
        "def load_pickle(f):\n",
        "    version = platform.python_version_tuple()\n",
        "    if version[0] == '2':\n",
        "        return  pickle.load(f)\n",
        "    elif version[0] == '3':\n",
        "        return  pickle.load(f, encoding='latin1')\n",
        "    raise ValueError(\"invalid python version: {}\".format(version))\n",
        "\n",
        "\n",
        "def load_CIFAR_batch(filename):\n",
        "    \"\"\" load single batch of cifar \"\"\"\n",
        "    with open(filename, 'rb') as f:\n",
        "        datadict = load_pickle(f)\n",
        "        X = datadict['data']\n",
        "        Y = datadict['labels']\n",
        "        X = X.reshape(10000, 3, 32, 32).transpose(0,2,3,1).astype(\"float\")\n",
        "        Y = np.array(Y)\n",
        "        return X, Y\n",
        "\n",
        "\n",
        "def load_CIFAR10(ROOT):\n",
        "    \"\"\" load all of cifar \"\"\"\n",
        "    xs = []\n",
        "    ys = []\n",
        "    for b in range(1,6):\n",
        "        f = os.path.join(ROOT, 'data_batch_%d' % (b, ))\n",
        "        X, Y = load_CIFAR_batch(f)\n",
        "        xs.append(X)\n",
        "        ys.append(Y)\n",
        "    Xtr = np.concatenate(xs)\n",
        "    Ytr = np.concatenate(ys)\n",
        "    del X, Y\n",
        "    Xte, Yte = load_CIFAR_batch(os.path.join(ROOT, 'test_batch'))\n",
        "    return Xtr, Ytr, Xte, Yte\n",
        "\n",
        "\n",
        "cifar10_dir = 'cifar-10-batches-py'\n",
        "\n",
        "# Cleaning up variables to prevent loading data multiple times\n",
        "try:\n",
        "    del X_train, y_train\n",
        "    del X_test, y_test\n",
        "    print('Clear previously loaded data.')\n",
        "except:\n",
        "    pass\n",
        "\n",
        "X_train, y_train, X_test, y_test = load_CIFAR10(cifar10_dir)\n",
        "\n",
        "# As a sanity check, we print out the size of the training and test data.\n",
        "print('Training data shape: ', X_train.shape)\n",
        "print('Training labels shape: ', y_train.shape)\n",
        "print('Test data shape: ', X_test.shape)\n",
        "print('Test labels shape: ', y_test.shape)"
      ],
      "id": "rotary-colorado",
      "execution_count": 3,
      "outputs": [
        {
          "output_type": "stream",
          "name": "stdout",
          "text": [
            "Training data shape:  (50000, 32, 32, 3)\n",
            "Training labels shape:  (50000,)\n",
            "Test data shape:  (10000, 32, 32, 3)\n",
            "Test labels shape:  (10000,)\n"
          ]
        }
      ]
    },
    {
      "cell_type": "markdown",
      "metadata": {
        "id": "flying-dairy"
      },
      "source": [
        "### Step - 4 (Visualization)"
      ],
      "id": "flying-dairy"
    },
    {
      "cell_type": "markdown",
      "metadata": {
        "id": "constant-plaintiff"
      },
      "source": [
        "Next we visualize the CIFAR-10 dataset. Although these functions are being written for you, we highly recommend you go through the code and make yourself familiar as these are things you will be required to do very often when working on AI/ML projects"
      ],
      "id": "constant-plaintiff"
    },
    {
      "cell_type": "code",
      "metadata": {
        "id": "incorporated-binding",
        "colab": {
          "base_uri": "https://localhost:8080/",
          "height": 264
        },
        "outputId": "0ce6a61d-98a7-4caf-d0e0-e03e0c53cdb7"
      },
      "source": [
        "# Visualize some examples from the dataset.\n",
        "# We show a few examples of training images from each class.\n",
        "classes = ['plane', 'car', 'bird', 'cat', 'deer', 'dog', 'frog', 'horse', 'ship', 'truck']\n",
        "num_classes = len(classes)\n",
        "samples_per_class = 7\n",
        "for y, cls in enumerate(classes):\n",
        "    idxs = np.flatnonzero(y_train == y)\n",
        "    \n",
        "    idxs = np.random.choice(idxs, samples_per_class, replace=False)\n",
        "    for i, idx in enumerate(idxs):\n",
        "        plt_idx = i * num_classes + y + 1\n",
        "        plt.subplot(samples_per_class, num_classes, plt_idx)\n",
        "        plt.imshow(X_train[idx].astype('uint8'))\n",
        "        plt.axis('off')\n",
        "        if i == 0:\n",
        "            plt.title(cls)\n",
        "plt.show()"
      ],
      "id": "incorporated-binding",
      "execution_count": 4,
      "outputs": [
        {
          "output_type": "display_data",
          "data": {
            "image/png": "[encoded data removed]",
            "text/plain": [
              "<Figure size 432x288 with 70 Axes>"
            ]
          },
          "metadata": {
            "needs_background": "light"
          }
        }
      ]
    },
    {
      "cell_type": "markdown",
      "metadata": {
        "id": "interior-baptist"
      },
      "source": [
        "### Step - 5 (Flattening the images)"
      ],
      "id": "interior-baptist"
    },
    {
      "cell_type": "markdown",
      "metadata": {
        "id": "catholic-prophet"
      },
      "source": [
        "In the next cell we flatten each image into a single dimensional vector so that it is easy to process. You should be able to reason about the dimensions comfortable."
      ],
      "id": "catholic-prophet"
    },
    {
      "cell_type": "code",
      "metadata": {
        "id": "chief-woman",
        "scrolled": true,
        "colab": {
          "base_uri": "https://localhost:8080/"
        },
        "outputId": "de8e36de-8731-4571-e992-f88ac42d72d2"
      },
      "source": [
        "# Subsample the data for more efficient code execution in this exercise\n",
        "num_training = 5000\n",
        "mask = list(range(num_training))\n",
        "X_train = X_train[mask]\n",
        "y_train = y_train[mask]\n",
        "\n",
        "num_test = 500\n",
        "mask = list(range(num_test))\n",
        "X_test = X_test[mask]\n",
        "y_test = y_test[mask]\n",
        "\n",
        "# Reshape the image data into rows\n",
        "X_train = np.reshape(X_train, (X_train.shape[0], -1))\n",
        "X_test = np.reshape(X_test, (X_test.shape[0], -1))\n",
        "print(X_train.shape, X_test.shape)"
      ],
      "id": "chief-woman",
      "execution_count": 5,
      "outputs": [
        {
          "output_type": "stream",
          "name": "stdout",
          "text": [
            "(5000, 3072) (500, 3072)\n"
          ]
        }
      ]
    },
    {
      "cell_type": "markdown",
      "metadata": {
        "id": "painful-charleston"
      },
      "source": [
        "### Step - 6 (Apply all possible classification algorithms)"
      ],
      "id": "painful-charleston"
    },
    {
      "cell_type": "markdown",
      "metadata": {
        "id": "assured-clone"
      },
      "source": [
        "For each algo complete the following steps with appropriate plots, diagrams and code - \n",
        "1. Discuss the intuition behind each algorithm\n",
        "2. Mention pros and cons\n",
        "3. Discuss about Model parameters and Hyperparameters\n",
        "4. Discuss about overfitting and underfitting with relavant plots and code (Hint: Use cross validation and plot hyperparameter vs accuracy score)\n",
        "5. Discuss about train and test time/space complexities\n",
        "6. Measure the performance of model using various metrics and write in detail about each metric"
      ],
      "id": "assured-clone"
    },
    {
      "cell_type": "code",
      "metadata": {
        "id": "OUxpwfKJ5F7l"
      },
      "source": [
        "# defining blank list for the input of scores of models\n",
        "model_accuracy=[]\n",
        "model_precision=[]\n",
        "model_recall=[]\n",
        "model_f1_score=[]\n",
        "model_roc_auc_score=[]\n",
        "model_train_time=[]\n"
      ],
      "id": "OUxpwfKJ5F7l",
      "execution_count": 6,
      "outputs": []
    },
    {
      "cell_type": "code",
      "metadata": {
        "id": "-P9ACd8bz6m5"
      },
      "source": [
        "# making a function to train the model and evaluate the model\n",
        "def train_and_score (model,X_test,X_train,y_test,y_train, best_parameter=True, best_score=True):\n",
        "  '''\n",
        "  train the model and gives mse,rmse,r2,adj r2 score of the model\n",
        "  can be used for any model where y is not transformed \n",
        "  '''\n",
        "\n",
        "  #storing the start time of model training\n",
        "  start=time.time()\n",
        "  #training the model\n",
        "  model.fit(X_train,y_train)\n",
        "  #storing the time when the model ended trining \n",
        "  stop = time.time()\n",
        "  #calculating the total time taken for model training \n",
        "  time_min=round((stop - start)/60,4)\n",
        "  # printing the time taken to train the model\n",
        "  print(f\"Training time: {time_min}min\")\n",
        "  model_train_time.append(time_min)\n",
        "  \n",
        "  \n",
        "\n",
        "  # finding the best parameters of the model if any \n",
        "  if best_parameter==True:\n",
        "    # using try except method to avoid any error\n",
        "    try:\n",
        "      print(\"The best parameters found out to be :\" ,model.best_params_)\n",
        "    except:\n",
        "      pass\n",
        "  # finding best score of the model \n",
        "  if best_score==True:\n",
        "    try:\n",
        "      print(\" \\nwhere negative mean squared error is: \", model.best_score_,'\\n')\n",
        "    except:\n",
        "      pass\n",
        "\n",
        "\n",
        "  #predicting the values of y from x via model\n",
        "  y_pred_test = model.predict(X_test)\n",
        "  y_pred_train = model.predict(X_train)\n",
        "\n",
        "  def score (actual,predicted,append=True):\n",
        "    '''\n",
        "    calcuating diffrent score matrix of the model\n",
        "    '''\n",
        "    # calculating f1_score score\n",
        "    f1 = f1_score(actual,predicted,average='micro')\n",
        "\n",
        "    \n",
        "    # printing all the scores\n",
        "    print(\"\\tThe f1 is \", f1)\n",
        "\n",
        "    # uploading all the score of the matrix in in the list \n",
        "    if append==True:\n",
        "      model_f1_score.append(f1)\n",
        "    else:\n",
        "      pass\n",
        "# printing the score by the help of coustom score function\n",
        "  # for train set\n",
        "  print('\\t\\t\\t\\tscore matrix for train')\n",
        "  print('*'*80)\n",
        "  score(y_train,y_pred_train,False)\n",
        "  print('\\n')\n",
        "  # for test set\n",
        "  print('\\t\\t\\t\\tscore matrix for test')\n",
        "  print('*'*80)\n",
        "  score(y_test,y_pred_test)\n"
      ],
      "id": "-P9ACd8bz6m5",
      "execution_count": 7,
      "outputs": []
    },
    {
      "cell_type": "code",
      "metadata": {
        "id": "dByMsuzT8Tnw"
      },
      "source": [
        "#importing all the important librarys\n",
        "import pandas as pd\n",
        "import numpy as np\n",
        "import matplotlib.pyplot as plt\n",
        "import seaborn as sns\n",
        "import math\n",
        "import time\n",
        "from sklearn.metrics import accuracy_score, confusion_matrix, classification_report, roc_auc_score, plot_precision_recall_curve\n",
        "from sklearn.metrics import precision_score,recall_score,f1_score\n",
        "from sklearn.linear_model import LogisticRegression\n",
        "from sklearn.model_selection import train_test_split\n",
        "from sklearn.model_selection import GridSearchCV\n",
        "from sklearn.preprocessing import MinMaxScaler\n",
        "import warnings\n",
        "warnings.filterwarnings(\"ignore\")"
      ],
      "id": "dByMsuzT8Tnw",
      "execution_count": 8,
      "outputs": []
    },
    {
      "cell_type": "markdown",
      "metadata": {
        "id": "qy_06v6825JP"
      },
      "source": [
        "---\n",
        "# Desision Tree\n",
        "---"
      ],
      "id": "qy_06v6825JP"
    },
    {
      "cell_type": "code",
      "metadata": {
        "id": "w6uvte_dr353",
        "colab": {
          "base_uri": "https://localhost:8080/"
        },
        "outputId": "a75987e9-56fa-481f-ea8d-f0b227d55ef7"
      },
      "source": [
        "from sklearn.tree import DecisionTreeClassifier\n",
        "# creating DecisionTree model\n",
        "DecisionTree = DecisionTreeClassifier(max_depth=10,max_leaf_nodes=45,criterion='entropy')\n",
        "\n",
        "# training and evaluating the DecisionTree\n",
        "train_and_score(DecisionTree,X_test, X_train, y_test, y_train)"
      ],
      "id": "w6uvte_dr353",
      "execution_count": 9,
      "outputs": [
        {
          "output_type": "stream",
          "name": "stdout",
          "text": [
            "Training time: 0.4385min\n",
            "\t\t\t\tscore matrix for train\n",
            "********************************************************************************\n",
            "\tThe f1 is  0.3346\n",
            "\n",
            "\n",
            "\t\t\t\tscore matrix for test\n",
            "********************************************************************************\n",
            "\tThe f1 is  0.264\n"
          ]
        }
      ]
    },
    {
      "cell_type": "markdown",
      "metadata": {
        "id": "0udFSoX_Kjzf"
      },
      "source": [
        "---\n",
        "# Random forest\n",
        "---"
      ],
      "id": "0udFSoX_Kjzf"
    },
    {
      "cell_type": "code",
      "metadata": {
        "id": "1k3J2HGlgk9Y"
      },
      "source": [
        "from sklearn.ensemble import RandomForestClassifier"
      ],
      "id": "1k3J2HGlgk9Y",
      "execution_count": 10,
      "outputs": []
    },
    {
      "cell_type": "code",
      "metadata": {
        "id": "z27xksk4hDth"
      },
      "source": [
        "# creating Random Forest Regressor model\n",
        "rfc=RandomForestClassifier(n_jobs=-1,verbose=0)"
      ],
      "id": "z27xksk4hDth",
      "execution_count": 11,
      "outputs": []
    },
    {
      "cell_type": "code",
      "metadata": {
        "id": "S8DJQm7qsdmv",
        "colab": {
          "base_uri": "https://localhost:8080/"
        },
        "outputId": "ecb7370c-bf47-4317-aab0-ddf33930bcfb"
      },
      "source": [
        "# training and evaluating the Random Forest Regressor\n",
        "train_and_score(rfc,X_test, X_train, y_test, y_train,best_parameter=True)"
      ],
      "id": "S8DJQm7qsdmv",
      "execution_count": 12,
      "outputs": [
        {
          "output_type": "stream",
          "name": "stdout",
          "text": [
            "Training time: 0.2383min\n",
            "\t\t\t\tscore matrix for train\n",
            "********************************************************************************\n",
            "\tThe f1 is  1.0\n",
            "\n",
            "\n",
            "\t\t\t\tscore matrix for test\n",
            "********************************************************************************\n",
            "\tThe f1 is  0.384\n"
          ]
        }
      ]
    },
    {
      "cell_type": "code",
      "metadata": {
        "id": "L8VOxSQ5eeeP",
        "colab": {
          "base_uri": "https://localhost:8080/"
        },
        "outputId": "06f8fac7-09f1-4dee-cd76-9d904148ded6"
      },
      "source": [
        "rfc.get_params"
      ],
      "id": "L8VOxSQ5eeeP",
      "execution_count": 13,
      "outputs": [
        {
          "output_type": "execute_result",
          "data": {
            "text/plain": [
              "<bound method BaseEstimator.get_params of RandomForestClassifier(n_jobs=-1)>"
            ]
          },
          "metadata": {},
          "execution_count": 13
        }
      ]
    },
    {
      "cell_type": "markdown",
      "metadata": {
        "id": "WqyxIM0DNXjT"
      },
      "source": [
        "## Implimenting grid search random forest\n",
        "---"
      ],
      "id": "WqyxIM0DNXjT"
    },
    {
      "cell_type": "code",
      "metadata": {
        "id": "GOEx--DXUsNF"
      },
      "source": [
        "# creating RandomForestRegressor model\n",
        "rfc=RandomForestClassifier()"
      ],
      "id": "GOEx--DXUsNF",
      "execution_count": 14,
      "outputs": []
    },
    {
      "cell_type": "code",
      "metadata": {
        "id": "7GbtolOWeQ0F",
        "colab": {
          "base_uri": "https://localhost:8080/"
        },
        "outputId": "1eea0cec-944b-4151-a99b-3e4df128f6c4"
      },
      "source": [
        "rfc.get_params"
      ],
      "id": "7GbtolOWeQ0F",
      "execution_count": 15,
      "outputs": [
        {
          "output_type": "execute_result",
          "data": {
            "text/plain": [
              "<bound method BaseEstimator.get_params of RandomForestClassifier()>"
            ]
          },
          "metadata": {},
          "execution_count": 15
        }
      ]
    },
    {
      "cell_type": "code",
      "metadata": {
        "id": "R9jBcHOBrZ71"
      },
      "source": [
        "# finding the best parameters for knn_model by gridsearchcv\n",
        "grid_values_rf = {'n_estimators': [100,125,150],'max_depth': [3,5,7],'criterion': ['entropy']}\n",
        "rfc_grid = GridSearchCV(estimator=rfc,param_grid = grid_values_rf, scoring='recall',cv=5,verbose=5,n_jobs=-1)"
      ],
      "id": "R9jBcHOBrZ71",
      "execution_count": 16,
      "outputs": []
    },
    {
      "cell_type": "code",
      "metadata": {
        "id": "vw-lHy63bxDg",
        "colab": {
          "base_uri": "https://localhost:8080/"
        },
        "outputId": "ce5d06ed-e667-4c93-8497-c1d6628820d4"
      },
      "source": [
        "# training and evaluating the Random Forest Regressor\n",
        "train_and_score(rfc_grid,X_train, X_test, y_train, y_test)"
      ],
      "id": "vw-lHy63bxDg",
      "execution_count": 17,
      "outputs": [
        {
          "output_type": "stream",
          "name": "stdout",
          "text": [
            "Fitting 5 folds for each of 9 candidates, totalling 45 fits\n",
            "Training time: 2.1972min\n",
            "The best parameters found out to be : {'criterion': 'entropy', 'max_depth': 3, 'n_estimators': 100}\n",
            " \n",
            "where negative mean squared error is:  nan \n",
            "\n",
            "\t\t\t\tscore matrix for train\n",
            "********************************************************************************\n",
            "\tThe f1 is  0.494\n",
            "\n",
            "\n",
            "\t\t\t\tscore matrix for test\n",
            "********************************************************************************\n",
            "\tThe f1 is  0.2672\n"
          ]
        }
      ]
    },
    {
      "cell_type": "markdown",
      "metadata": {
        "id": "xgR8YnjLbcAD"
      },
      "source": [
        "---\n",
        "#XGboost\n",
        "---"
      ],
      "id": "xgR8YnjLbcAD"
    },
    {
      "cell_type": "code",
      "metadata": {
        "id": "LOrYta-CcgwI"
      },
      "source": [
        "from xgboost import XGBClassifier"
      ],
      "id": "LOrYta-CcgwI",
      "execution_count": 18,
      "outputs": []
    },
    {
      "cell_type": "code",
      "metadata": {
        "id": "ZP2HDqMEcPWa"
      },
      "source": [
        "# creating XGBRegressor model\n",
        "xgbc=XGBClassifier()"
      ],
      "id": "ZP2HDqMEcPWa",
      "execution_count": 19,
      "outputs": []
    },
    {
      "cell_type": "code",
      "metadata": {
        "id": "a_xukeSLjNId",
        "colab": {
          "base_uri": "https://localhost:8080/"
        },
        "outputId": "d3d678ac-69c5-4946-ba00-4500c49d759b"
      },
      "source": [
        "# training and evaluating the xgb_grid\n",
        "train_and_score(xgbc,X_test, X_train, y_test, y_train)"
      ],
      "id": "a_xukeSLjNId",
      "execution_count": 20,
      "outputs": [
        {
          "output_type": "stream",
          "name": "stdout",
          "text": [
            "Training time: 7.4892min\n",
            "\t\t\t\tscore matrix for train\n",
            "********************************************************************************\n",
            "\tThe f1 is  0.8358\n",
            "\n",
            "\n",
            "\t\t\t\tscore matrix for test\n",
            "********************************************************************************\n",
            "\tThe f1 is  0.398\n"
          ]
        }
      ]
    },
    {
      "cell_type": "code",
      "metadata": {
        "id": "ChzauGx3yyc2",
        "colab": {
          "base_uri": "https://localhost:8080/"
        },
        "outputId": "0e2bc4b7-35c2-4067-f129-3d660813bded"
      },
      "source": [
        "xgbc.get_params"
      ],
      "id": "ChzauGx3yyc2",
      "execution_count": 21,
      "outputs": [
        {
          "output_type": "execute_result",
          "data": {
            "text/plain": [
              "<bound method XGBModel.get_params of XGBClassifier(objective='multi:softprob')>"
            ]
          },
          "metadata": {},
          "execution_count": 21
        }
      ]
    },
    {
      "cell_type": "markdown",
      "metadata": {
        "id": "_kijouVP3hHK"
      },
      "source": [
        "## implimenting grid search xgb\n",
        "---"
      ],
      "id": "_kijouVP3hHK"
    },
    {
      "cell_type": "code",
      "metadata": {
        "id": "3GbdBF9Md56J"
      },
      "source": [
        "# finding the best parameters for XGBRegressor by gridsearchcv\n",
        "xgbc_param={'n_estimators': [100,125,150],'max_depth': [7,10,15],'criterion': ['entropy']}\n",
        "xgbc_grid=GridSearchCV(estimator=xgbc,param_grid=xgbc_param,cv=3,scoring='recall',verbose=5,n_jobs=-1)"
      ],
      "id": "3GbdBF9Md56J",
      "execution_count": 22,
      "outputs": []
    },
    {
      "cell_type": "code",
      "metadata": {
        "id": "h3IEw41rlr_o",
        "colab": {
          "base_uri": "https://localhost:8080/"
        },
        "outputId": "14ad01cd-eb36-42a7-fd7f-b1e30087faf7"
      },
      "source": [
        "# training and evaluating the xgb_grid\n",
        "train_and_score(xgbc_grid,X_test, X_train, y_test, y_train)"
      ],
      "id": "h3IEw41rlr_o",
      "execution_count": null,
      "outputs": [
        {
          "output_type": "stream",
          "name": "stdout",
          "text": [
            "Fitting 3 folds for each of 9 candidates, totalling 27 fits\n"
          ]
        }
      ]
    },
    {
      "cell_type": "code",
      "metadata": {
        "id": "XGlhWdzPbYpW"
      },
      "source": [
        "feature_importances_graph(xgbc_grid.best_estimator_,'Is_Defaulter')"
      ],
      "id": "XGlhWdzPbYpW",
      "execution_count": null,
      "outputs": []
    },
    {
      "cell_type": "markdown",
      "metadata": {
        "id": "FKBMHBWPCxEj"
      },
      "source": [
        "---\n",
        "# CatBoost\n",
        "---"
      ],
      "id": "FKBMHBWPCxEj"
    },
    {
      "cell_type": "code",
      "metadata": {
        "id": "LD2KzpZtBP5u"
      },
      "source": [
        "!pip install catboost"
      ],
      "id": "LD2KzpZtBP5u",
      "execution_count": null,
      "outputs": []
    },
    {
      "cell_type": "code",
      "metadata": {
        "id": "jM3gEkvre3MN"
      },
      "source": [
        "from catboost import CatBoostClassifier"
      ],
      "id": "jM3gEkvre3MN",
      "execution_count": null,
      "outputs": []
    },
    {
      "cell_type": "code",
      "metadata": {
        "id": "DQOjsxlGBvZH"
      },
      "source": [
        "cb_model=CatBoostClassifier(verbose=0)"
      ],
      "id": "DQOjsxlGBvZH",
      "execution_count": null,
      "outputs": []
    },
    {
      "cell_type": "code",
      "metadata": {
        "id": "03Ef38C1B0pH"
      },
      "source": [
        "# training and evaluating the PolynomialFeatures\n",
        "train_and_score(cb_model,X_test, X_train, y_test, y_train)"
      ],
      "id": "03Ef38C1B0pH",
      "execution_count": null,
      "outputs": []
    },
    {
      "cell_type": "code",
      "metadata": {
        "id": "czik2FScCKDd"
      },
      "source": [
        "cb_model=CatBoostClassifier()"
      ],
      "id": "czik2FScCKDd",
      "execution_count": null,
      "outputs": []
    },
    {
      "cell_type": "code",
      "metadata": {
        "id": "DcfwGrNigzQ0"
      },
      "source": [
        "# finding the best parameters for XGBRegressor by gridsearchcv\n",
        "cat_para={'n_estimators': [100,125,150],'max_depth': [3,5,7]}\n",
        "cat_grid=GridSearchCV(estimator=cb_model,param_grid=cat_para,cv=3,scoring='recall',verbose=3,n_jobs=-1)"
      ],
      "id": "DcfwGrNigzQ0",
      "execution_count": null,
      "outputs": []
    },
    {
      "cell_type": "code",
      "metadata": {
        "id": "KJUVAQwVEsMX"
      },
      "source": [
        "# training and evaluating the PolynomialFeatures\n",
        "train_and_score(cat_grid,X_test, X_train, y_test, y_train)"
      ],
      "id": "KJUVAQwVEsMX",
      "execution_count": null,
      "outputs": []
    },
    {
      "cell_type": "markdown",
      "metadata": {
        "id": "ySPDwBh7dFon"
      },
      "source": [
        "---\n",
        "# lightGBM\n",
        "---"
      ],
      "id": "ySPDwBh7dFon"
    },
    {
      "cell_type": "code",
      "metadata": {
        "id": "FEUBZVS3eftM"
      },
      "source": [
        "import lightgbm as lgb"
      ],
      "id": "FEUBZVS3eftM",
      "execution_count": null,
      "outputs": []
    },
    {
      "cell_type": "code",
      "metadata": {
        "id": "LZxcCDAmdH_C"
      },
      "source": [
        "lgbc=lgb.LGBMClassifier()"
      ],
      "id": "LZxcCDAmdH_C",
      "execution_count": null,
      "outputs": []
    },
    {
      "cell_type": "code",
      "metadata": {
        "id": "zpGvu7VCILB2"
      },
      "source": [
        "# training and evaluating the lgbr_grid\n",
        "train_and_score(lgbc, X_test, X_train, y_test, y_train)"
      ],
      "id": "zpGvu7VCILB2",
      "execution_count": null,
      "outputs": []
    },
    {
      "cell_type": "code",
      "metadata": {
        "id": "iaUplSrmd3ou"
      },
      "source": [
        "# finding the best parameters for XGBRegressor by gridsearchcv\n",
        "lgbc_para={'n_estimators': [100,125,150],'max_depth': [3,5,7]}\n",
        "lgbc_grid=GridSearchCV(estimator=lgbc,param_grid=lgbc_para,cv=3,scoring='recall',verbose=5,n_jobs=-1)"
      ],
      "id": "iaUplSrmd3ou",
      "execution_count": null,
      "outputs": []
    },
    {
      "cell_type": "code",
      "metadata": {
        "id": "H_Va2rO3ezpF"
      },
      "source": [
        "# training and evaluating the lgbr_grid\n",
        "train_and_score(lgbc_grid,X_test, X_train, y_test, y_train)"
      ],
      "id": "H_Va2rO3ezpF",
      "execution_count": null,
      "outputs": []
    },
    {
      "cell_type": "markdown",
      "metadata": {
        "id": "israeli-sleep"
      },
      "source": [
        "### Step - 7 (Compare all the models)"
      ],
      "id": "israeli-sleep"
    },
    {
      "cell_type": "markdown",
      "metadata": {
        "id": "catholic-chinese"
      },
      "source": [
        "Conclude by following below mentioed steps -\n",
        "1. Plot a table showing all the algorithms used and corresponding performance metrics\n",
        "2. Is there any one algorithm that can be used on all the datasets? (Hint: Read about 'No Free Lunch' theorem)"
      ],
      "id": "catholic-chinese"
    },
    {
      "cell_type": "markdown",
      "metadata": {
        "id": "CNj1dOhwInnX"
      },
      "source": [
        "---\n",
        "# score matrix for all the models \n",
        "---"
      ],
      "id": "CNj1dOhwInnX"
    },
    {
      "cell_type": "code",
      "metadata": {
        "id": "rF_1zjFHQNFz"
      },
      "source": [
        "#creating dictionary to store all the metrices \n",
        "dict={'f1':model_f1_score,'train_time':model_train_time}"
      ],
      "id": "rF_1zjFHQNFz",
      "execution_count": null,
      "outputs": []
    },
    {
      "cell_type": "code",
      "metadata": {
        "id": "3aIHU-EaQyJb"
      },
      "source": [
        "# list of all models\n",
        "model_name=['Desision Tree','Random forest','Random forest Grid','XGboost','XGboost Grid','CATBoost','CATBoost Grid','lightGBM','lightGBM Grid']"
      ],
      "id": "3aIHU-EaQyJb",
      "execution_count": null,
      "outputs": []
    },
    {
      "cell_type": "code",
      "metadata": {
        "id": "44bzUsf7VIY9"
      },
      "source": [
        "# converting dictionary to dataframe\n",
        "matrix_df=pd.DataFrame.from_dict(dict,orient=\"index\",columns=model_name)"
      ],
      "id": "44bzUsf7VIY9",
      "execution_count": null,
      "outputs": []
    },
    {
      "cell_type": "code",
      "metadata": {
        "id": "MjTbExfeK0-1"
      },
      "source": [
        "# taking the transpose of the dataframe to make it more visual appealing\n",
        "matrix_df=matrix_df.transpose().reset_index().rename(columns={'index':'Models'})"
      ],
      "id": "MjTbExfeK0-1",
      "execution_count": null,
      "outputs": []
    },
    {
      "cell_type": "code",
      "metadata": {
        "id": "JOadb7KsOrBm"
      },
      "source": [
        "matrix_df"
      ],
      "id": "JOadb7KsOrBm",
      "execution_count": null,
      "outputs": []
    },
    {
      "cell_type": "code",
      "metadata": {
        "id": "10Lrio1fOk75"
      },
      "source": [
        "matrix_df.train_time.sum()"
      ],
      "id": "10Lrio1fOk75",
      "execution_count": null,
      "outputs": []
    }
  ]
}