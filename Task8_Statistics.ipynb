{
  "nbformat": 4,
  "nbformat_minor": 0,
  "metadata": {
    "colab": {
      "name": "Task8_Statistics.ipynb",
      "provenance": [],
      "authorship_tag": "ABX9TyM7wSAsDF+iFzflVIujpzOa",
      "include_colab_link": true
    },
    "kernelspec": {
      "name": "python3",
      "display_name": "Python 3"
    },
    "language_info": {
      "name": "python"
    }
  },
  "cells": [
    {
      "cell_type": "markdown",
      "metadata": {
        "id": "view-in-github",
        "colab_type": "text"
      },
      "source": [
        "<a href=\"https://colab.research.google.com/github/CodeWithSridhar/Innomatics-Internship/blob/main/Task8_Statistics.ipynb\" target=\"_parent\"><img src=\"https://colab.research.google.com/assets/colab-badge.svg\" alt=\"Open In Colab\"/></a>"
      ]
    },
    {
      "cell_type": "markdown",
      "metadata": {
        "id": "IPZcN1afyo8f"
      },
      "source": [
        "#  **Assignment:**\n",
        "# Task - 8 (Statistics) "
      ]
    },
    {
      "cell_type": "markdown",
      "metadata": {
        "id": "SX1hsDumyMkR"
      },
      "source": [
        "\n",
        "**Problem URL**\n",
        "\n",
        "\n",
        "1\n",
        "https://www.hackerrank.com/challenges/s10-binomial-distribution-1\n",
        "\n",
        "2\n",
        "https://www.hackerrank.com/challenges/s10-binomial-distribution-2\n",
        "\n",
        "3\n",
        "https://www.hackerrank.com/challenges/s10-normal-distribution-1\n",
        "\n",
        "4\n",
        "https://www.hackerrank.com/challenges/s10-normal-distribution-2\n",
        "\n",
        "5\n",
        "https://www.hackerrank.com/challenges/s10-the-central-limit-theorem-1\n",
        "\n",
        "6\n",
        "https://www.hackerrank.com/challenges/s10-the-central-limit-theorem-2\n",
        "\n",
        "7\n",
        "https://www.hackerrank.com/challenges/s10-the-central-limit-theorem-3\n",
        "\n",
        "8\n",
        "https://www.hackerrank.com/challenges/s10-pearson-correlation-coefficient\n",
        "\n",
        "9\n",
        "https://www.hackerrank.com/challenges/s10-least-square-regression-line\n",
        "\n",
        "10\n",
        "https://www.hackerrank.com/challenges/s10-multiple-linear-regression\n",
        "\n"
      ]
    },
    {
      "cell_type": "markdown",
      "metadata": {
        "id": "7LhA5oMszNHk"
      },
      "source": [
        "## Binomial Distribution I"
      ]
    },
    {
      "cell_type": "code",
      "metadata": {
        "colab": {
          "base_uri": "https://localhost:8080/"
        },
        "id": "QKvwVFEgxypW",
        "outputId": "3632204a-23c0-44fa-a059-fadb004f05b0"
      },
      "source": [
        "def factorial(n):\n",
        "    if n == 1 or n == 0:\n",
        "        return 1\n",
        "    if n > 1:\n",
        "        return factorial(n - 1) * n\n",
        "def binomial(x, n, p):\n",
        "    f = factorial(n) / (factorial(n - x) * factorial(x))\n",
        "    return (f * p**x * (1.0 - p) ** (n-x))\n",
        "\n",
        "\n",
        "values = list(map(float, input().split()))\n",
        "p = values[0] / (values[0] + values[1])\n",
        "n = 6 #child\n",
        "result = binomial(3,n,p) + binomial(4,n,p) + binomial(5,n,p) + binomial(6,n,p)\n",
        "print(round(result, 3))"
      ],
      "execution_count": 1,
      "outputs": [
        {
          "output_type": "stream",
          "name": "stdout",
          "text": [
            "1.09 1\n",
            "0.696\n"
          ]
        }
      ]
    },
    {
      "cell_type": "markdown",
      "metadata": {
        "id": "QhzTbWvQ1vfZ"
      },
      "source": [
        "## Binomial Distribution II"
      ]
    },
    {
      "cell_type": "code",
      "metadata": {
        "id": "kD-HnLfr1vx6"
      },
      "source": [
        ""
      ],
      "execution_count": null,
      "outputs": []
    }
  ]
}