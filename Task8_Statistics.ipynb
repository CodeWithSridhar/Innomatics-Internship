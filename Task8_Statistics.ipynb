{
  "nbformat": 4,
  "nbformat_minor": 0,
  "metadata": {
    "colab": {
      "name": "Task8_Statistics.ipynb",
      "provenance": [],
      "authorship_tag": "ABX9TyNbi6u5JhD2D4Z1WS/VtQJe",
      "include_colab_link": true
    },
    "kernelspec": {
      "name": "python3",
      "display_name": "Python 3"
    },
    "language_info": {
      "name": "python"
    }
  },
  "cells": [
    {
      "cell_type": "markdown",
      "metadata": {
        "id": "view-in-github",
        "colab_type": "text"
      },
      "source": [
        "<a href=\"https://colab.research.google.com/github/CodeWithSridhar/Innomatics-Internship/blob/main/Task8_Statistics.ipynb\" target=\"_parent\"><img src=\"https://colab.research.google.com/assets/colab-badge.svg\" alt=\"Open In Colab\"/></a>"
      ]
    },
    {
      "cell_type": "markdown",
      "metadata": {
        "id": "IPZcN1afyo8f"
      },
      "source": [
        "#  **Assignment:**\n",
        "# Task - 8 (Statistics) "
      ]
    },
    {
      "cell_type": "markdown",
      "metadata": {
        "id": "SX1hsDumyMkR"
      },
      "source": [
        "\n",
        "**Problem URL**\n",
        "\n",
        "\n",
        "1\n",
        "https://www.hackerrank.com/challenges/s10-binomial-distribution-1\n",
        "\n",
        "2\n",
        "https://www.hackerrank.com/challenges/s10-binomial-distribution-2\n",
        "\n",
        "3\n",
        "https://www.hackerrank.com/challenges/s10-normal-distribution-1\n",
        "\n",
        "4\n",
        "https://www.hackerrank.com/challenges/s10-normal-distribution-2\n",
        "\n",
        "5\n",
        "https://www.hackerrank.com/challenges/s10-the-central-limit-theorem-1\n",
        "\n",
        "6\n",
        "https://www.hackerrank.com/challenges/s10-the-central-limit-theorem-2\n",
        "\n",
        "7\n",
        "https://www.hackerrank.com/challenges/s10-the-central-limit-theorem-3\n",
        "\n",
        "8\n",
        "https://www.hackerrank.com/challenges/s10-pearson-correlation-coefficient\n",
        "\n",
        "9\n",
        "https://www.hackerrank.com/challenges/s10-least-square-regression-line\n",
        "\n",
        "10\n",
        "https://www.hackerrank.com/challenges/s10-multiple-linear-regression\n",
        "\n"
      ]
    },
    {
      "cell_type": "markdown",
      "metadata": {
        "id": "7LhA5oMszNHk"
      },
      "source": [
        "## Binomial Distribution I"
      ]
    },
    {
      "cell_type": "code",
      "metadata": {
        "colab": {
          "base_uri": "https://localhost:8080/"
        },
        "id": "QKvwVFEgxypW",
        "outputId": "3632204a-23c0-44fa-a059-fadb004f05b0"
      },
      "source": [
        "def factorial(n):\n",
        "    if n == 1 or n == 0:\n",
        "        return 1\n",
        "    if n > 1:\n",
        "        return factorial(n - 1) * n\n",
        "def binomial(x, n, p):\n",
        "    f = factorial(n) / (factorial(n - x) * factorial(x))\n",
        "    return (f * p**x * (1.0 - p) ** (n-x))\n",
        "\n",
        "\n",
        "values = list(map(float, input().split()))\n",
        "p = values[0] / (values[0] + values[1])\n",
        "n = 6 #child\n",
        "result = binomial(3,n,p) + binomial(4,n,p) + binomial(5,n,p) + binomial(6,n,p)\n",
        "print(round(result, 3))"
      ],
      "execution_count": null,
      "outputs": [
        {
          "output_type": "stream",
          "name": "stdout",
          "text": [
            "1.09 1\n",
            "0.696\n"
          ]
        }
      ]
    },
    {
      "cell_type": "markdown",
      "metadata": {
        "id": "QhzTbWvQ1vfZ"
      },
      "source": [
        "## Binomial Distribution II"
      ]
    },
    {
      "cell_type": "code",
      "metadata": {
        "id": "kD-HnLfr1vx6",
        "colab": {
          "base_uri": "https://localhost:8080/"
        },
        "outputId": "2cdbeec4-6cd5-47c6-f4e6-afc0c23a49f0"
      },
      "source": [
        "def factorial(n):\n",
        "    if n == 1 or n == 0:\n",
        "        return 1\n",
        "    if n > 1:\n",
        "        return factorial(n - 1) * n\n",
        "\n",
        "def binomial(x, n, p):\n",
        "    f = factorial(n) / (factorial(n - x) * factorial(x))\n",
        "    return (f * p**x * (1.0 - p)**(n-x))\n",
        "\n",
        "values = list(map(float, input().split()))\n",
        "p = (values[0] / 100)\n",
        "n = int(values[1])\n",
        "\n",
        "no_more_than_2_rejects = 0\n",
        "for i in range(n):\n",
        "    if i < 3:\n",
        "        no_more_than_2_rejects = no_more_than_2_rejects + binomial(i, n, p)\n",
        "print(round(no_more_than_2_rejects, 3))\n",
        "\n",
        "at_least_2_rejects = 0\n",
        "for i in range(n):\n",
        "    if i > 1:\n",
        "        at_least_2_rejects = at_least_2_rejects + binomial(i, n, p)\n",
        "print(round(at_least_2_rejects, 3))"
      ],
      "execution_count": 2,
      "outputs": [
        {
          "output_type": "stream",
          "name": "stdout",
          "text": [
            "12 10\n",
            "0.891\n",
            "0.342\n"
          ]
        }
      ]
    },
    {
      "cell_type": "markdown",
      "metadata": {
        "id": "_0rJF_NDVy9T"
      },
      "source": [
        "## Normal Distribution I"
      ]
    },
    {
      "cell_type": "code",
      "metadata": {
        "colab": {
          "base_uri": "https://localhost:8080/"
        },
        "id": "5d_IMHezVzX_",
        "outputId": "c8a89b7d-3b77-45cc-db60-cf8536b8760e"
      },
      "source": [
        "import math\n",
        "def cumulative(mean, std, value):\n",
        "    return 0.5 * (1 + math.erf((value - mean) / (std * (2 ** 0.5))))\n",
        "initial_values = list(map(float, input().split()))\n",
        "mean = initial_values[0]\n",
        "std = initial_values[1]\n",
        "less_period = float(input())\n",
        "between_period = list(map(float, input().split()))\n",
        "\n",
        "print(round(cumulative(mean, std, less_period),3))\n",
        "print(round(cumulative(mean, std, between_period[1]) - cumulative(mean, std, between_period[0]), 3))"
      ],
      "execution_count": 3,
      "outputs": [
        {
          "output_type": "stream",
          "name": "stdout",
          "text": [
            "20 2\n",
            "19.5\n",
            "20 22\n",
            "0.401\n",
            "0.341\n"
          ]
        }
      ]
    },
    {
      "cell_type": "markdown",
      "metadata": {
        "id": "MGrA9zWLXPiV"
      },
      "source": [
        "## Normal Distribution II"
      ]
    },
    {
      "cell_type": "code",
      "metadata": {
        "colab": {
          "base_uri": "https://localhost:8080/"
        },
        "id": "8MhkXFtCXO38",
        "outputId": "5d47fc62-511a-4cc1-e5fb-fec0d07d563b"
      },
      "source": [
        "initial_values = list(map(float, input().split()))\n",
        "mean = initial_values[0]\n",
        "std = initial_values[1]\n",
        "val_first_question = float(input())\n",
        "val_sec_third_question = float(input())\n",
        "\n",
        "print(round(100 - (cumulative(mean, std, val_first_question) * 100), 2))\n",
        "print(round(100 - (cumulative(mean, std, val_sec_third_question) * 100), 2))\n",
        "print(round(cumulative(mean, std, val_sec_third_question) * 100, 2))"
      ],
      "execution_count": 4,
      "outputs": [
        {
          "output_type": "stream",
          "name": "stdout",
          "text": [
            "70 10\n",
            "80\n",
            "60\n",
            "15.87\n",
            "84.13\n",
            "15.87\n"
          ]
        }
      ]
    }
  ]
}