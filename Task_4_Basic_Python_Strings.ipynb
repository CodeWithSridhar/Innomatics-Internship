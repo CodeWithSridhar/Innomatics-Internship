{
  "nbformat": 4,
  "nbformat_minor": 0,
  "metadata": {
    "colab": {
      "name": "Task 4_Basic_Python_Strings.ipynb",
      "provenance": [],
      "authorship_tag": "ABX9TyNc8vkHX/LrOO6LBlORyr6R",
      "include_colab_link": true
    },
    "kernelspec": {
      "name": "python3",
      "display_name": "Python 3"
    },
    "language_info": {
      "name": "python"
    }
  },
  "cells": [
    {
      "cell_type": "markdown",
      "metadata": {
        "id": "view-in-github",
        "colab_type": "text"
      },
      "source": [
        "<a href=\"https://colab.research.google.com/github/CodeWithSridhar/Innomatics-Internship/blob/main/Task_4_Basic_Python_Strings.ipynb\" target=\"_parent\"><img src=\"https://colab.research.google.com/assets/colab-badge.svg\" alt=\"Open In Colab\"/></a>"
      ]
    },
    {
      "cell_type": "markdown",
      "metadata": {
        "id": "6-iMjL6j5c7y"
      },
      "source": [
        "#  **Assignment:**\n",
        "# Task - 4 (Basic Python - Strings)\n",
        "\n",
        "Questions link:  https://www.hackerrank.com/domains/python?filters%5Bsubdomains%5D%5B%5D=py-strings"
      ]
    },
    {
      "cell_type": "markdown",
      "metadata": {
        "id": "QEJP-8KR5Z3I"
      },
      "source": [
        "## sWAP cASE"
      ]
    },
    {
      "cell_type": "code",
      "metadata": {
        "colab": {
          "base_uri": "https://localhost:8080/"
        },
        "id": "3uv_7A0C4OUx",
        "outputId": "6bb46ed0-bc72-42b9-a529-190a7505e738"
      },
      "source": [
        "def swap_case(s):\n",
        "    result = \"\"\n",
        "    for letter in s:\n",
        "        if letter == letter.upper():\n",
        "            result += letter.lower()\n",
        "        else:\n",
        "            result += letter.upper()\n",
        "    return result\n",
        "if __name__ == '__main__':\n",
        "    s = input()\n",
        "    result = swap_case(s)\n",
        "    print(result)"
      ],
      "execution_count": null,
      "outputs": [
        {
          "output_type": "stream",
          "name": "stdout",
          "text": [
            "HackerRank.com presents \"Pythonist 2\".\n",
            "hACKERrANK.COM PRESENTS \"pYTHONIST 2\".\n"
          ]
        }
      ]
    },
    {
      "cell_type": "markdown",
      "metadata": {
        "id": "9gdl6hKUhL11"
      },
      "source": [
        "## String Split and Join"
      ]
    },
    {
      "cell_type": "code",
      "metadata": {
        "colab": {
          "base_uri": "https://localhost:8080/"
        },
        "id": "e4TNamLvhLjP",
        "outputId": "cc9ae665-986a-452c-a4c9-249f184749cc"
      },
      "source": [
        "def split_and_join(line):\n",
        "    # write your code here\n",
        "    A = line.split()\n",
        "    A = \"-\".join(A)\n",
        "    return A\n",
        "\n",
        "if __name__ == '__main__':\n",
        "    line = input()\n",
        "    result = split_and_join(line)\n",
        "    print(result)"
      ],
      "execution_count": null,
      "outputs": [
        {
          "output_type": "stream",
          "name": "stdout",
          "text": [
            "this is a string\n",
            "this-is-a-string\n"
          ]
        }
      ]
    },
    {
      "cell_type": "markdown",
      "metadata": {
        "id": "UhEQ6O_-mLFL"
      },
      "source": [
        "## What's Your Name?"
      ]
    },
    {
      "cell_type": "code",
      "metadata": {
        "colab": {
          "base_uri": "https://localhost:8080/"
        },
        "id": "jsy6IAvjmK4c",
        "outputId": "8bbc0131-a7d8-401a-c0b5-0866f71d7164"
      },
      "source": [
        "# Complete the 'print_full_name' function below.\n",
        "#\n",
        "# The function is expected to return a STRING.\n",
        "# The function accepts following parameters:\n",
        "#  1. STRING first\n",
        "#  2. STRING last\n",
        "#\n",
        "\n",
        "def print_full_name(first, last):\n",
        "    # Write your code here\n",
        "    A = print('Hello ' + first_name + ' ' + last_name + '! You just delved into python.')\n",
        "    return A\n",
        "\n",
        "if __name__ == '__main__':\n",
        "    first_name = input()\n",
        "    last_name = input()\n",
        "    print_full_name(first_name, last_name)"
      ],
      "execution_count": null,
      "outputs": [
        {
          "output_type": "stream",
          "name": "stdout",
          "text": [
            "Sridhar\n",
            "Nagar\n",
            "Hello Sridhar Nagar! You just delved into python.\n"
          ]
        }
      ]
    },
    {
      "cell_type": "markdown",
      "metadata": {
        "id": "6HZlOhNMIxXx"
      },
      "source": [
        "## Capitalize!"
      ]
    },
    {
      "cell_type": "code",
      "metadata": {
        "colab": {
          "base_uri": "https://localhost:8080/",
          "height": 371
        },
        "id": "lBCl7mbMIw7-",
        "outputId": "a1370353-3a3e-462d-b4dd-67e21b9655b8"
      },
      "source": [
        "import string\n",
        "import os\n",
        "# Complete the solve function below.\n",
        "def solve(s):\n",
        "    l = s.split(\" \")\n",
        "    s=''\n",
        "    for i in l:\n",
        "        s = s+ i.capitalize()+' '\n",
        "    \n",
        "    return s\n",
        "\n",
        "if __name__ == '__main__':\n",
        "    fptr = open(os.environ['OUTPUT_PATH'], 'w')\n",
        "    s = input()\n",
        "    result = solve(s)\n",
        "    fptr.write(result + '\\n')\n",
        "    fptr.close()\n",
        "\n"
      ],
      "execution_count": null,
      "outputs": [
        {
          "output_type": "error",
          "ename": "KeyError",
          "evalue": "ignored",
          "traceback": [
            "\u001b[0;31m---------------------------------------------------------------------------\u001b[0m",
            "\u001b[0;31mKeyError\u001b[0m                                  Traceback (most recent call last)",
            "\u001b[0;32m<ipython-input-10-2916aee42cd0>\u001b[0m in \u001b[0;36m<module>\u001b[0;34m()\u001b[0m\n\u001b[1;32m     11\u001b[0m \u001b[0;34m\u001b[0m\u001b[0m\n\u001b[1;32m     12\u001b[0m \u001b[0;32mif\u001b[0m \u001b[0m__name__\u001b[0m \u001b[0;34m==\u001b[0m \u001b[0;34m'__main__'\u001b[0m\u001b[0;34m:\u001b[0m\u001b[0;34m\u001b[0m\u001b[0;34m\u001b[0m\u001b[0m\n\u001b[0;32m---> 13\u001b[0;31m     \u001b[0mfptr\u001b[0m \u001b[0;34m=\u001b[0m \u001b[0mopen\u001b[0m\u001b[0;34m(\u001b[0m\u001b[0mos\u001b[0m\u001b[0;34m.\u001b[0m\u001b[0menviron\u001b[0m\u001b[0;34m[\u001b[0m\u001b[0;34m'OUTPUT_PATH'\u001b[0m\u001b[0;34m]\u001b[0m\u001b[0;34m,\u001b[0m \u001b[0;34m'w'\u001b[0m\u001b[0;34m)\u001b[0m\u001b[0;34m\u001b[0m\u001b[0;34m\u001b[0m\u001b[0m\n\u001b[0m\u001b[1;32m     14\u001b[0m     \u001b[0ms\u001b[0m \u001b[0;34m=\u001b[0m \u001b[0minput\u001b[0m\u001b[0;34m(\u001b[0m\u001b[0;34m)\u001b[0m\u001b[0;34m\u001b[0m\u001b[0;34m\u001b[0m\u001b[0m\n\u001b[1;32m     15\u001b[0m     \u001b[0mresult\u001b[0m \u001b[0;34m=\u001b[0m \u001b[0msolve\u001b[0m\u001b[0;34m(\u001b[0m\u001b[0ms\u001b[0m\u001b[0;34m)\u001b[0m\u001b[0;34m\u001b[0m\u001b[0;34m\u001b[0m\u001b[0m\n",
            "\u001b[0;32m/usr/lib/python3.7/os.py\u001b[0m in \u001b[0;36m__getitem__\u001b[0;34m(self, key)\u001b[0m\n\u001b[1;32m    679\u001b[0m         \u001b[0;32mexcept\u001b[0m \u001b[0mKeyError\u001b[0m\u001b[0;34m:\u001b[0m\u001b[0;34m\u001b[0m\u001b[0;34m\u001b[0m\u001b[0m\n\u001b[1;32m    680\u001b[0m             \u001b[0;31m# raise KeyError with the original key value\u001b[0m\u001b[0;34m\u001b[0m\u001b[0;34m\u001b[0m\u001b[0;34m\u001b[0m\u001b[0m\n\u001b[0;32m--> 681\u001b[0;31m             \u001b[0;32mraise\u001b[0m \u001b[0mKeyError\u001b[0m\u001b[0;34m(\u001b[0m\u001b[0mkey\u001b[0m\u001b[0;34m)\u001b[0m \u001b[0;32mfrom\u001b[0m \u001b[0;32mNone\u001b[0m\u001b[0;34m\u001b[0m\u001b[0;34m\u001b[0m\u001b[0m\n\u001b[0m\u001b[1;32m    682\u001b[0m         \u001b[0;32mreturn\u001b[0m \u001b[0mself\u001b[0m\u001b[0;34m.\u001b[0m\u001b[0mdecodevalue\u001b[0m\u001b[0;34m(\u001b[0m\u001b[0mvalue\u001b[0m\u001b[0;34m)\u001b[0m\u001b[0;34m\u001b[0m\u001b[0;34m\u001b[0m\u001b[0m\n\u001b[1;32m    683\u001b[0m \u001b[0;34m\u001b[0m\u001b[0m\n",
            "\u001b[0;31mKeyError\u001b[0m: 'OUTPUT_PATH'"
          ]
        }
      ]
    },
    {
      "cell_type": "markdown",
      "metadata": {
        "id": "cUAvfWNAJXtt"
      },
      "source": [
        "## Mutations"
      ]
    },
    {
      "cell_type": "code",
      "metadata": {
        "colab": {
          "base_uri": "https://localhost:8080/"
        },
        "id": "biIbdfqzJXIc",
        "outputId": "52fbb431-e59e-4fc1-efbd-1dd42395cb2e"
      },
      "source": [
        "def mutate_string(string, position, character):\n",
        "    L = list(string)\n",
        "    L[position] = character\n",
        "    string = ''.join(L)\n",
        "    return string\n",
        "\n",
        "if __name__ == '__main__':\n",
        "    s = input()\n",
        "    i, c = input().split()\n",
        "    s_new = mutate_string(s, int(i), c)\n",
        "    print(s_new)"
      ],
      "execution_count": null,
      "outputs": [
        {
          "output_type": "stream",
          "name": "stdout",
          "text": [
            "abracadabra\n",
            "5 k\n",
            "abrackdabra\n"
          ]
        }
      ]
    },
    {
      "cell_type": "markdown",
      "metadata": {
        "id": "MP45JmgRLAIn"
      },
      "source": [
        "## Find a string"
      ]
    },
    {
      "cell_type": "code",
      "metadata": {
        "colab": {
          "base_uri": "https://localhost:8080/"
        },
        "id": "afTz0StOK__D",
        "outputId": "7b6d638b-8201-4060-e27f-088706ba31b3"
      },
      "source": [
        "def count_substring(string, sub_string):\n",
        "    count = 0\n",
        "    for i in range(len(string) - len(sub_string) + 1):\n",
        "        if (string[i : i + len(sub_string)] == sub_string):\n",
        "            count = count + 1\n",
        "    return count\n",
        "\n",
        "if __name__ == '__main__':\n",
        "    string = input().strip()\n",
        "    sub_string = input().strip()\n",
        "    \n",
        "    count = count_substring(string, sub_string)\n",
        "    print(count)"
      ],
      "execution_count": null,
      "outputs": [
        {
          "output_type": "stream",
          "name": "stdout",
          "text": [
            "ABCDCDC\n",
            "CDC\n",
            "2\n"
          ]
        }
      ]
    },
    {
      "cell_type": "markdown",
      "metadata": {
        "id": "6FZSQ9dQaYFV"
      },
      "source": [
        "## Text Wrap"
      ]
    },
    {
      "cell_type": "code",
      "metadata": {
        "id": "hy6tX2BFbI9a",
        "colab": {
          "base_uri": "https://localhost:8080/"
        },
        "outputId": "ceb35588-c447-4254-c895-646411465f85"
      },
      "source": [
        "import textwrap\n",
        "\n",
        "def wrap(string, max_width):\n",
        "    a = textwrap.fill(string, max_width)\n",
        "    return a\n",
        "\n",
        "if __name__ == '__main__':\n",
        "    string, max_width = input(), int(input())\n",
        "    result = wrap(string, max_width)\n",
        "    print(result)"
      ],
      "execution_count": 1,
      "outputs": [
        {
          "output_type": "stream",
          "name": "stdout",
          "text": [
            "ABCDEFGHIJKLIMNOQRSTUVWXYZ\n",
            "4\n",
            "ABCD\n",
            "EFGH\n",
            "IJKL\n",
            "IMNO\n",
            "QRST\n",
            "UVWX\n",
            "YZ\n"
          ]
        }
      ]
    },
    {
      "cell_type": "markdown",
      "metadata": {
        "id": "dJ20L017bw3U"
      },
      "source": [
        "## Designer Door Mat"
      ]
    },
    {
      "cell_type": "code",
      "metadata": {
        "colab": {
          "base_uri": "https://localhost:8080/"
        },
        "id": "I-zdMbyebwq_",
        "outputId": "e632cf51-adfc-41fd-be5f-8e750cc53a83"
      },
      "source": [
        "# M = 3N\n",
        "N,M = map(int,input('Enter the values of N and M keeping space : ').split())\n",
        "for i in range(1, N, 2):\n",
        "    print(str('.|.' * i).center(M, '-'))\n",
        "print('WELCOME'.center(M, '-'))\n",
        "for i in range(N-2, -1, -2):\n",
        "    print(str('.|.' * i).center(M, '-'))"
      ],
      "execution_count": 4,
      "outputs": [
        {
          "output_type": "stream",
          "name": "stdout",
          "text": [
            "Enter the values of N and M keeping space : 15 50\n",
            "-----------------------.|.------------------------\n",
            "--------------------.|..|..|.---------------------\n",
            "-----------------.|..|..|..|..|.------------------\n",
            "--------------.|..|..|..|..|..|..|.---------------\n",
            "-----------.|..|..|..|..|..|..|..|..|.------------\n",
            "--------.|..|..|..|..|..|..|..|..|..|..|.---------\n",
            "-----.|..|..|..|..|..|..|..|..|..|..|..|..|.------\n",
            "---------------------WELCOME----------------------\n",
            "-----.|..|..|..|..|..|..|..|..|..|..|..|..|.------\n",
            "--------.|..|..|..|..|..|..|..|..|..|..|.---------\n",
            "-----------.|..|..|..|..|..|..|..|..|.------------\n",
            "--------------.|..|..|..|..|..|..|.---------------\n",
            "-----------------.|..|..|..|..|.------------------\n",
            "--------------------.|..|..|.---------------------\n",
            "-----------------------.|.------------------------\n"
          ]
        }
      ]
    },
    {
      "cell_type": "markdown",
      "metadata": {
        "id": "LMot4gdocmVf"
      },
      "source": [
        "## Alphabet Rangoli"
      ]
    },
    {
      "cell_type": "code",
      "metadata": {
        "colab": {
          "base_uri": "https://localhost:8080/"
        },
        "id": "7l0FcdEFcmLe",
        "outputId": "0f48550f-9760-4773-92b8-1651a8fe4589"
      },
      "source": [
        "def print_rangoli(size):\n",
        "    Breadth  = size * 4 - 3\n",
        "    String = ''\n",
        "    for i in range(1 , size + 1):\n",
        "        for j in range(0 , i):\n",
        "            String = String + chr(96 + size - j)\n",
        "            if len(String) < Breadth:\n",
        "                String = String + '-'\n",
        "        for k in range(i - 1 , 0 , -1):    \n",
        "            String = String + chr(97 + size - k)\n",
        "            if len(String) < Breadth:\n",
        "                String = String + '-'\n",
        "        print(String.center(Breadth , '-'))\n",
        "        String = ''\n",
        "    for i in range(size - 1 , 0 , -1):\n",
        "        String = ''\n",
        "        for j in range(0,i):\n",
        "            String = String + chr(96 + size - j)\n",
        "            if len(String) < Breadth:\n",
        "                String = String + '-'\n",
        "        for k in range(i - 1 , 0 , -1):\n",
        "            String = String + chr(97 + size - k)\n",
        "            if len(String) < Breadth:\n",
        "                String = String + '-'\n",
        "        print(String.center(Breadth,'-'))\n",
        "        \n",
        "if __name__ == '__main__':\n",
        "    N = int(input('Enter number : '))\n",
        "    print_rangoli(N)"
      ],
      "execution_count": 2,
      "outputs": [
        {
          "output_type": "stream",
          "name": "stdout",
          "text": [
            "Enter number : 7\n",
            "------------g------------\n",
            "----------g-f-g----------\n",
            "--------g-f-e-f-g--------\n",
            "------g-f-e-d-e-f-g------\n",
            "----g-f-e-d-c-d-e-f-g----\n",
            "--g-f-e-d-c-b-c-d-e-f-g--\n",
            "g-f-e-d-c-b-a-b-c-d-e-f-g\n",
            "--g-f-e-d-c-b-c-d-e-f-g--\n",
            "----g-f-e-d-c-d-e-f-g----\n",
            "------g-f-e-d-e-f-g------\n",
            "--------g-f-e-f-g--------\n",
            "----------g-f-g----------\n",
            "------------g------------\n"
          ]
        }
      ]
    },
    {
      "cell_type": "markdown",
      "metadata": {
        "id": "kKKvcn8BMZyo"
      },
      "source": [
        "## Text Alignment"
      ]
    },
    {
      "cell_type": "code",
      "metadata": {
        "colab": {
          "base_uri": "https://localhost:8080/"
        },
        "id": "vg6pO1w9MZnO",
        "outputId": "b94f37da-ee8c-4f77-90d2-644a114d5363"
      },
      "source": [
        "#Replace all ______ with rjust, ljust or center. \n",
        "\n",
        "thickness = int(input('Enter width : ')) #This must be an odd number\n",
        "c = 'H'\n",
        "\n",
        "#Top Cone\n",
        "for i in range(thickness):\n",
        "    print((c*i).rjust(thickness-1)+c+(c*i).ljust(thickness-1))\n",
        "\n",
        "#Top Pillars\n",
        "for i in range(thickness+1):\n",
        "    print((c*thickness).center(thickness*2)+(c*thickness).center(thickness*6))\n",
        "\n",
        "#Middle Belt\n",
        "for i in range((thickness+1)//2):\n",
        "    print((c*thickness*5).center(thickness*6))    \n",
        "\n",
        "#Bottom Pillars\n",
        "for i in range(thickness+1):\n",
        "    print((c*thickness).center(thickness*2)+(c*thickness).center(thickness*6))    \n",
        "\n",
        "#Bottom Cone\n",
        "for i in range(thickness):\n",
        "    print(((c*(thickness-i-1)).rjust(thickness)+c+(c*(thickness-i-1)).ljust(thickness)).rjust(thickness*6))"
      ],
      "execution_count": 3,
      "outputs": [
        {
          "output_type": "stream",
          "name": "stdout",
          "text": [
            "Enter width : 5\n",
            "    H    \n",
            "   HHH   \n",
            "  HHHHH  \n",
            " HHHHHHH \n",
            "HHHHHHHHH\n",
            "  HHHHH               HHHHH             \n",
            "  HHHHH               HHHHH             \n",
            "  HHHHH               HHHHH             \n",
            "  HHHHH               HHHHH             \n",
            "  HHHHH               HHHHH             \n",
            "  HHHHH               HHHHH             \n",
            "  HHHHHHHHHHHHHHHHHHHHHHHHH   \n",
            "  HHHHHHHHHHHHHHHHHHHHHHHHH   \n",
            "  HHHHHHHHHHHHHHHHHHHHHHHHH   \n",
            "  HHHHH               HHHHH             \n",
            "  HHHHH               HHHHH             \n",
            "  HHHHH               HHHHH             \n",
            "  HHHHH               HHHHH             \n",
            "  HHHHH               HHHHH             \n",
            "  HHHHH               HHHHH             \n",
            "                    HHHHHHHHH \n",
            "                     HHHHHHH  \n",
            "                      HHHHH   \n",
            "                       HHH    \n",
            "                        H     \n"
          ]
        }
      ]
    },
    {
      "cell_type": "markdown",
      "metadata": {
        "id": "ACXA4XzCNwIB"
      },
      "source": [
        "## String Formatting"
      ]
    },
    {
      "cell_type": "code",
      "metadata": {
        "colab": {
          "base_uri": "https://localhost:8080/"
        },
        "id": "io2_a0WwNJIp",
        "outputId": "7b393e73-6bec-4673-a56a-0857fe609eab"
      },
      "source": [
        "def print_formatted(number):\n",
        "    Length = len(bin(number)[2:]) \n",
        "    for i in range(1 , number + 1): \n",
        "        print(str(i).rjust(Length , ' ') , end = \" \")\n",
        "        print(oct(i)[2:].rjust(Length,' ') , end = \" \")\n",
        "        print(((hex(i)[2:]).upper()).rjust(Length , ' ') , end = \" \")\n",
        "        print(bin(i)[2:].rjust(Length , ' ') , end = \" \")\n",
        "        print()\n",
        "if __name__ == '__main__':\n",
        "    n = int(input())\n",
        "    print_formatted(n)"
      ],
      "execution_count": 4,
      "outputs": [
        {
          "output_type": "stream",
          "name": "stdout",
          "text": [
            "17\n",
            "    1     1     1     1 \n",
            "    2     2     2    10 \n",
            "    3     3     3    11 \n",
            "    4     4     4   100 \n",
            "    5     5     5   101 \n",
            "    6     6     6   110 \n",
            "    7     7     7   111 \n",
            "    8    10     8  1000 \n",
            "    9    11     9  1001 \n",
            "   10    12     A  1010 \n",
            "   11    13     B  1011 \n",
            "   12    14     C  1100 \n",
            "   13    15     D  1101 \n",
            "   14    16     E  1110 \n",
            "   15    17     F  1111 \n",
            "   16    20    10 10000 \n",
            "   17    21    11 10001 \n"
          ]
        }
      ]
    },
    {
      "cell_type": "markdown",
      "metadata": {
        "id": "BknnC2FyOmVt"
      },
      "source": [
        "## Merge the Tools!"
      ]
    },
    {
      "cell_type": "code",
      "metadata": {
        "colab": {
          "base_uri": "https://localhost:8080/"
        },
        "id": "4RZ2O-84Omuu",
        "outputId": "108d7dbb-6e54-4e54-df5c-cdf842479d86"
      },
      "source": [
        "from collections import OrderedDict\n",
        "def merge_the_tools(string, k):\n",
        "    Length = len(string)\n",
        "    for i in range(0 , Length , k):\n",
        "        print(' '.join(OrderedDict.fromkeys(string[i : i + k])))\n",
        "\n",
        "if __name__ == '__main__':\n",
        "    string, k = input(), int(input())\n",
        "    merge_the_tools(string, k)"
      ],
      "execution_count": 5,
      "outputs": [
        {
          "output_type": "stream",
          "name": "stdout",
          "text": [
            "AABCAAADA\n",
            "3\n",
            "A B\n",
            "C A\n",
            "A D\n"
          ]
        }
      ]
    }
  ]
}