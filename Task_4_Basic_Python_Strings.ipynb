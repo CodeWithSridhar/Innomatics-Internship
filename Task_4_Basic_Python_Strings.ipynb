{
  "nbformat": 4,
  "nbformat_minor": 0,
  "metadata": {
    "colab": {
      "name": "Task 4_Basic_Python_Strings.ipynb",
      "provenance": [],
      "authorship_tag": "ABX9TyPZNt3rFem9dSNvLQfzWTG9",
      "include_colab_link": true
    },
    "kernelspec": {
      "name": "python3",
      "display_name": "Python 3"
    },
    "language_info": {
      "name": "python"
    }
  },
  "cells": [
    {
      "cell_type": "markdown",
      "metadata": {
        "id": "view-in-github",
        "colab_type": "text"
      },
      "source": [
        "<a href=\"https://colab.research.google.com/github/CodeWithSridhar/Innomatics-Internship/blob/main/Task_4_Basic_Python_Strings.ipynb\" target=\"_parent\"><img src=\"https://colab.research.google.com/assets/colab-badge.svg\" alt=\"Open In Colab\"/></a>"
      ]
    },
    {
      "cell_type": "markdown",
      "metadata": {
        "id": "6-iMjL6j5c7y"
      },
      "source": [
        "#  **Assignment:**\n",
        "# Task - 4 (Basic Python - Strings)\n",
        "\n",
        "Questions link:  https://www.hackerrank.com/domains/python?filters%5Bsubdomains%5D%5B%5D=py-strings"
      ]
    },
    {
      "cell_type": "markdown",
      "metadata": {
        "id": "QEJP-8KR5Z3I"
      },
      "source": [
        "## sWAP cASE"
      ]
    },
    {
      "cell_type": "code",
      "metadata": {
        "colab": {
          "base_uri": "https://localhost:8080/"
        },
        "id": "3uv_7A0C4OUx",
        "outputId": "b764ad07-147a-45f9-9e26-32b84d784945"
      },
      "source": [
        "def swap_case(s):\n",
        "    result = \"\"\n",
        "    for letter in s:\n",
        "        if letter == letter.upper():\n",
        "            result += letter.lower()\n",
        "        else:\n",
        "            result += letter.upper()\n",
        "    return result\n",
        "if __name__ == '__main__':\n",
        "    s = input()\n",
        "    result = swap_case(s)\n",
        "    print(result)"
      ],
      "execution_count": 1,
      "outputs": [
        {
          "output_type": "stream",
          "name": "stdout",
          "text": [
            "HackerRank.com presents \"Pythonist 2\".\n",
            "hACKERrANK.COM PRESENTS \"pYTHONIST 2\".\n"
          ]
        }
      ]
    },
    {
      "cell_type": "markdown",
      "metadata": {
        "id": "9gdl6hKUhL11"
      },
      "source": [
        "## String Split and Join"
      ]
    },
    {
      "cell_type": "code",
      "metadata": {
        "colab": {
          "base_uri": "https://localhost:8080/"
        },
        "id": "e4TNamLvhLjP",
        "outputId": "60f6d7ab-7832-4682-a02d-065dc66b7414"
      },
      "source": [
        "def split_and_join(line):\n",
        "    # write your code here\n",
        "    A = line.split()\n",
        "    A = \"-\".join(A)\n",
        "    return A\n",
        "\n",
        "if __name__ == '__main__':\n",
        "    line = input()\n",
        "    result = split_and_join(line)\n",
        "    print(result)"
      ],
      "execution_count": 1,
      "outputs": [
        {
          "output_type": "stream",
          "name": "stdout",
          "text": [
            "this is a string\n",
            "this-is-a-string\n"
          ]
        }
      ]
    },
    {
      "cell_type": "markdown",
      "metadata": {
        "id": "UhEQ6O_-mLFL"
      },
      "source": [
        "## What's Your Name?"
      ]
    },
    {
      "cell_type": "code",
      "metadata": {
        "colab": {
          "base_uri": "https://localhost:8080/"
        },
        "id": "jsy6IAvjmK4c",
        "outputId": "85e35657-9ca5-4679-ecd0-96bb7c355703"
      },
      "source": [
        "# Complete the 'print_full_name' function below.\n",
        "#\n",
        "# The function is expected to return a STRING.\n",
        "# The function accepts following parameters:\n",
        "#  1. STRING first\n",
        "#  2. STRING last\n",
        "#\n",
        "\n",
        "def print_full_name(first, last):\n",
        "    # Write your code here\n",
        "    A = print('Hello ' + first_name + ' ' + last_name + '! You just delved into python.')\n",
        "    return A\n",
        "\n",
        "if __name__ == '__main__':\n",
        "    first_name = input()\n",
        "    last_name = input()\n",
        "    print_full_name(first_name, last_name)"
      ],
      "execution_count": 2,
      "outputs": [
        {
          "output_type": "stream",
          "name": "stdout",
          "text": [
            "Sridhar\n",
            "Nagar\n",
            "Hello Sridhar Nagar! You just delved into python.\n"
          ]
        }
      ]
    }
  ]
}