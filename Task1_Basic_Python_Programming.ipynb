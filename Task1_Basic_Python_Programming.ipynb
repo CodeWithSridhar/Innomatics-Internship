{
  "nbformat": 4,
  "nbformat_minor": 0,
  "metadata": {
    "colab": {
      "name": "Task1_Basic_Python_Programming.ipynb",
      "provenance": [],
      "authorship_tag": "ABX9TyO3WqH2B2gKFi4gXE9blyqm",
      "include_colab_link": true
    },
    "kernelspec": {
      "name": "python3",
      "display_name": "Python 3"
    },
    "language_info": {
      "name": "python"
    }
  },
  "cells": [
    {
      "cell_type": "markdown",
      "metadata": {
        "id": "view-in-github",
        "colab_type": "text"
      },
      "source": [
        "<a href=\"https://colab.research.google.com/github/CodeWithSridhar/Innomatics-Internship/blob/main/Task1_Basic_Python_Programming.ipynb\" target=\"_parent\"><img src=\"https://colab.research.google.com/assets/colab-badge.svg\" alt=\"Open In Colab\"/></a>"
      ]
    },
    {
      "cell_type": "markdown",
      "metadata": {
        "id": "GTD4jzkih4Dq"
      },
      "source": [
        "# 1. Print Hello, World! to stdout."
      ]
    },
    {
      "cell_type": "code",
      "metadata": {
        "colab": {
          "base_uri": "https://localhost:8080/"
        },
        "id": "IU6A7Vs4hgos",
        "outputId": "62e9d1a3-339b-4e90-fa63-f37b41868dda"
      },
      "source": [
        "print(\"Hello, World!\")"
      ],
      "execution_count": 2,
      "outputs": [
        {
          "output_type": "stream",
          "name": "stdout",
          "text": [
            "Hello, World!\n"
          ]
        }
      ]
    },
    {
      "cell_type": "markdown",
      "metadata": {
        "id": "vkp8R3XIi5AI"
      },
      "source": [
        "# 2. Given an integer n, perform the following conditional actions:\n",
        "\n",
        "    If n is odd, print Weird.\n",
        "\n",
        "    If n is even and in inclusive range of 2 to 5, print Not Weird\n",
        "\n",
        "    If n is even and in the inclusive range of 6 to 20, print Weird\n",
        "\n",
        "    If n is even and greater than 20, print Not Weird\n",
        "\n"
      ]
    },
    {
      "cell_type": "code",
      "metadata": {
        "id": "3OClfPE02yX_"
      },
      "source": [
        ""
      ],
      "execution_count": null,
      "outputs": []
    },
    {
      "cell_type": "markdown",
      "metadata": {
        "id": "uK0-aFX51GYk"
      },
      "source": [
        "The provided code stub reads two integers from STDIN, and\n",
        "\n",
        ". Add code to print three lines where:\n",
        "\n",
        "    The first line contains the sum of the two numbers.\n",
        "    The second line contains the difference of the two numbers (first - second).\n",
        "    The third line contains the product of the two numbers.\n"
      ]
    },
    {
      "cell_type": "code",
      "metadata": {
        "id": "jG73LfBQiU9O"
      },
      "source": [
        ""
      ],
      "execution_count": null,
      "outputs": []
    },
    {
      "cell_type": "code",
      "metadata": {
        "id": "e4yBfRWFiUt_"
      },
      "source": [
        ""
      ],
      "execution_count": null,
      "outputs": []
    }
  ]
}