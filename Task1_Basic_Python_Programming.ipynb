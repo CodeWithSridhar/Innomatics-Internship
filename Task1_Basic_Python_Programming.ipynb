{
  "nbformat": 4,
  "nbformat_minor": 0,
  "metadata": {
    "colab": {
      "name": "Task1_Basic_Python_Programming.ipynb",
      "provenance": [],
      "authorship_tag": "ABX9TyNzwCQkGEm208MgUDLKWDD+",
      "include_colab_link": true
    },
    "kernelspec": {
      "name": "python3",
      "display_name": "Python 3"
    },
    "language_info": {
      "name": "python"
    }
  },
  "cells": [
    {
      "cell_type": "markdown",
      "metadata": {
        "id": "view-in-github",
        "colab_type": "text"
      },
      "source": [
        "<a href=\"https://colab.research.google.com/github/CodeWithSridhar/Innomatics-Internship/blob/main/Task1_Basic_Python_Programming.ipynb\" target=\"_parent\"><img src=\"https://colab.research.google.com/assets/colab-badge.svg\" alt=\"Open In Colab\"/></a>"
      ]
    },
    {
      "cell_type": "markdown",
      "metadata": {
        "id": "GTD4jzkih4Dq"
      },
      "source": [
        "## 1. Print Hello, World! to stdout."
      ]
    },
    {
      "cell_type": "code",
      "metadata": {
        "colab": {
          "base_uri": "https://localhost:8080/"
        },
        "id": "IU6A7Vs4hgos",
        "outputId": "62e9d1a3-339b-4e90-fa63-f37b41868dda"
      },
      "source": [
        "#Solution\n",
        "print(\"Hello, World!\")"
      ],
      "execution_count": 2,
      "outputs": [
        {
          "output_type": "stream",
          "name": "stdout",
          "text": [
            "Hello, World!\n"
          ]
        }
      ]
    },
    {
      "cell_type": "markdown",
      "metadata": {
        "id": "vkp8R3XIi5AI"
      },
      "source": [
        "## 2. Python If-Else\n",
        " Given an integer n, perform the following conditional actions:\n",
        "\n",
        "    If n is odd, print Weird.\n",
        "\n",
        "    If n is even and in inclusive range of 2 to 5, print Not Weird\n",
        "\n",
        "    If n is even and in the inclusive range of 6 to 20, print Weird\n",
        "\n",
        "    If n is even and greater than 20, print Not Weird\n",
        "\n"
      ]
    },
    {
      "cell_type": "code",
      "metadata": {
        "colab": {
          "base_uri": "https://localhost:8080/"
        },
        "id": "3OClfPE02yX_",
        "outputId": "b8c36a4d-a49d-4303-bb17-e59c81041ae7"
      },
      "source": [
        "#Solution\n",
        "n= int(input(\"Enter the number: \"))\n",
        "if n % 2 != 0:\n",
        "  print(\"Weird\")\n",
        "elif n%2 == 0 and 2<= n>= 5:\n",
        "  print('Not Weird')\n",
        "elif n%2==0 and 6<=n>=20:\n",
        "  print('Weird')\n",
        "elif n%2==0 and n>20:\n",
        "  print('Not Weird')\n",
        "else:\n",
        "  print(\"Enter the number again\")"
      ],
      "execution_count": 12,
      "outputs": [
        {
          "output_type": "stream",
          "name": "stdout",
          "text": [
            "Enter the number: 65\n",
            "Weird\n"
          ]
        }
      ]
    },
    {
      "cell_type": "markdown",
      "metadata": {
        "id": "9XBWMrOU2-8z"
      },
      "source": [
        "## 3. Arithmetic Operators\n",
        "\n",
        "    The provided code stub reads two integers from STDIN, a and b. Add code to print three lines where:\n",
        "\n",
        "    The first line contains the sum of the two numbers.\n",
        "    The second line contains the difference of the two numbers (first - second).\n",
        "    The third line contains the product of the two numbers.\n",
        "\n"
      ]
    },
    {
      "cell_type": "code",
      "metadata": {
        "colab": {
          "base_uri": "https://localhost:8080/"
        },
        "id": "BumO9y6J2-NL",
        "outputId": "c56fff6a-33e9-43ed-d52b-0ed2d4eb8ee4"
      },
      "source": [
        "#Solution\n",
        "a = int(input(\"Enter the number: \"))\n",
        "b = int(input(\"Enter the number: \"))\n",
        "\n",
        "sum= a+b\n",
        "difference= a-b\n",
        "product= a*b\n",
        "\n",
        "print(f'The sum is: {sum}')\n",
        "print(f'The difference is: {difference}')\n",
        "print(f'The product is {product}')"
      ],
      "execution_count": 16,
      "outputs": [
        {
          "output_type": "stream",
          "name": "stdout",
          "text": [
            "Enter the number: 3\n",
            "Enter the number: 2\n",
            "The sum is: 5\n",
            "The difference is: 1\n",
            "The product is 6\n"
          ]
        }
      ]
    },
    {
      "cell_type": "markdown",
      "metadata": {
        "id": "-jIZK-9X6M8Z"
      },
      "source": [
        "## 4. Division\n",
        "\n",
        "    The provided code stub reads two integers, a and b, from STDIN.\n",
        "\n",
        "    Add logic to print two lines. \n",
        "    The first line should contain the result of integer division, a // b. \n",
        "    The second line should contain the result of float division, a / b.\n",
        "    No rounding or formatting is necessary.\n",
        "\n"
      ]
    },
    {
      "cell_type": "code",
      "metadata": {
        "colab": {
          "base_uri": "https://localhost:8080/"
        },
        "id": "jG73LfBQiU9O",
        "outputId": "f346d52f-66d5-44ce-e5a2-84cf854b6466"
      },
      "source": [
        "# Solution\n",
        "a = int(input('Enter first number: '))\n",
        "b = int(input('Enter second number: '))\n",
        "\n",
        "print(f'The result in integer: {(a//b)}')\n",
        "print(f'The result in float: {float(a/b)}')"
      ],
      "execution_count": 21,
      "outputs": [
        {
          "output_type": "stream",
          "name": "stdout",
          "text": [
            "Enter first number: 10\n",
            "Enter second number: 3\n",
            "The result in integer: 3\n",
            "The result in float: 3.3333333333333335\n"
          ]
        }
      ]
    },
    {
      "cell_type": "markdown",
      "metadata": {
        "id": "wHsCf8vwBRiF"
      },
      "source": [
        "## 5. Loops\n",
        "    The provided code stub reads and integer,N, from STDIN. \n",
        "    For all non-negative integers i < n, print (n)^2.\n",
        "    Constraints : 1 <= N <= 20"
      ]
    },
    {
      "cell_type": "code",
      "metadata": {
        "colab": {
          "base_uri": "https://localhost:8080/"
        },
        "id": "e4yBfRWFiUt_",
        "outputId": "7d8d8234-b2d3-4c5b-fe15-55a9a5dbeddb"
      },
      "source": [
        "# Solution\n",
        "n = int(input('Enter the number: '))\n",
        "for i in range(n):\n",
        "  result= i**2\n",
        "  print(result)"
      ],
      "execution_count": 22,
      "outputs": [
        {
          "output_type": "stream",
          "name": "stdout",
          "text": [
            "Enter the number: 5\n",
            "0\n",
            "1\n",
            "4\n",
            "9\n",
            "16\n"
          ]
        }
      ]
    },
    {
      "cell_type": "markdown",
      "metadata": {
        "id": "pPFJKDkKGRuB"
      },
      "source": [
        "## 6. Write a function\n",
        "\n",
        "An extra day is added to the calendar almost every four years as February 29, and the day is called a leap day. It corrects the calendar for the fact that our planet takes approximately 365.25 days to orbit the sun. A leap year contains a leap day.\n",
        "\n",
        "In the Gregorian calendar, three conditions are used to identify leap years:\n",
        "\n",
        "    The year can be evenly divided by 4, is a leap year, unless:\n",
        "        The year can be evenly divided by 100, it is NOT a leap year, unless:\n",
        "            The year is also evenly divisible by 400. Then it is a leap year.\n",
        "\n",
        "This means that in the Gregorian calendar, the years 2000 and 2400 are leap years, while 1800, 1900, 2100, 2200, 2300 and 2500 are NOT leap years\n",
        "\n",
        "    Given a year, determine whether it is a leap year. \n",
        "    If it is a leap year, return the Boolean True, otherwise return False.\n",
        "    Note that the code stub provided reads from STDIN and passes arguments to the is_leap function. \n",
        "    It is only necessary to complete the is_leap function. "
      ]
    },
    {
      "cell_type": "code",
      "metadata": {
        "colab": {
          "base_uri": "https://localhost:8080/"
        },
        "id": "Z_necJYjDlp3",
        "outputId": "ea86073c-619f-43fa-8c28-bf79c6c72231"
      },
      "source": [
        "# Solution\n",
        "def leap_year(year):\n",
        "  if year % 4 == 0:\n",
        "    return True\n",
        "  if year % 100 == 0:\n",
        "    return False\n",
        "  if year % 400 == 0:\n",
        "    return True\n",
        "  return False\n",
        "\n",
        "leap_year(2031)\n"
      ],
      "execution_count": 33,
      "outputs": [
        {
          "output_type": "execute_result",
          "data": {
            "text/plain": [
              "False"
            ]
          },
          "metadata": {},
          "execution_count": 33
        }
      ]
    },
    {
      "cell_type": "markdown",
      "metadata": {
        "id": "uatH0mdnK-HU"
      },
      "source": [
        "## 7. Print Function\n",
        "\n",
        "The included code stub will read an integer,n, from STDIN. \n",
        "Without using any string methods, try to print the following: 1234...n\n",
        "\n",
        "Note that \"....\" represents the consecutive values in between."
      ]
    },
    {
      "cell_type": "code",
      "metadata": {
        "colab": {
          "base_uri": "https://localhost:8080/"
        },
        "id": "lzeuS2F-DCPq",
        "outputId": "47ab6498-95f6-45ab-8f3b-d03bf2c8422f"
      },
      "source": [
        "n= int(input('Enter the number: '))\n",
        "for i in range(1,n+1):\n",
        "  print(i, end='')"
      ],
      "execution_count": 34,
      "outputs": [
        {
          "output_type": "stream",
          "name": "stdout",
          "text": [
            "Enter the number: 5\n",
            "12345"
          ]
        }
      ]
    }
  ]
}