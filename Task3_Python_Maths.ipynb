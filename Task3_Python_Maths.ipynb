{
  "nbformat": 4,
  "nbformat_minor": 0,
  "metadata": {
    "colab": {
      "name": "Task3_Python_Maths.ipynb",
      "provenance": [],
      "authorship_tag": "ABX9TyM6+kMAW10IlsH4imwsvkYs",
      "include_colab_link": true
    },
    "kernelspec": {
      "name": "python3",
      "display_name": "Python 3"
    },
    "language_info": {
      "name": "python"
    }
  },
  "cells": [
    {
      "cell_type": "markdown",
      "metadata": {
        "id": "view-in-github",
        "colab_type": "text"
      },
      "source": [
        "<a href=\"https://colab.research.google.com/github/CodeWithSridhar/Innomatics-Internship/blob/main/Task3_Python_Maths.ipynb\" target=\"_parent\"><img src=\"https://colab.research.google.com/assets/colab-badge.svg\" alt=\"Open In Colab\"/></a>"
      ]
    },
    {
      "cell_type": "markdown",
      "metadata": {
        "id": "5dB6kP7CyBK7"
      },
      "source": [
        "# **Task - 3 (Python Maths)**"
      ]
    },
    {
      "cell_type": "markdown",
      "metadata": {
        "id": "823NaCiGyLG3"
      },
      "source": [
        "## Polar Coordinates"
      ]
    },
    {
      "cell_type": "code",
      "metadata": {
        "colab": {
          "base_uri": "https://localhost:8080/"
        },
        "id": "n_L-yVwmxsdd",
        "outputId": "bedbd67f-575e-409b-df9e-b271a9242429"
      },
      "source": [
        "import cmath\n",
        "c= complex(input().strip())\n",
        "res= cmath.polar(c)\n",
        "\n",
        "print(res[0])\n",
        "print(res[1])"
      ],
      "execution_count": 1,
      "outputs": [
        {
          "output_type": "stream",
          "name": "stdout",
          "text": [
            "1+2j\n",
            "2.23606797749979\n",
            "1.1071487177940904\n"
          ]
        }
      ]
    },
    {
      "cell_type": "markdown",
      "metadata": {
        "id": "nFxZ9Zo3LKEF"
      },
      "source": [
        "## Mod Divmod"
      ]
    },
    {
      "cell_type": "code",
      "metadata": {
        "colab": {
          "base_uri": "https://localhost:8080/"
        },
        "id": "QSwkpGwqzA70",
        "outputId": "dcd841c9-464c-4ad5-d8e2-b5570047883a"
      },
      "source": [
        "a= int(input())\n",
        "b= int(input())\n",
        "q,r = divmod(a,b)\n",
        "\n",
        "print(q,r,(q,r),sep='\\n')"
      ],
      "execution_count": 1,
      "outputs": [
        {
          "output_type": "stream",
          "name": "stdout",
          "text": [
            "177\n",
            "10\n",
            "17\n",
            "7\n",
            "(17, 7)\n"
          ]
        }
      ]
    }
  ]
}