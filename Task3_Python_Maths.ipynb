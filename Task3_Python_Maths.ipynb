{
  "nbformat": 4,
  "nbformat_minor": 0,
  "metadata": {
    "colab": {
      "name": "Task3_Python_Maths.ipynb",
      "provenance": [],
      "authorship_tag": "ABX9TyO6RKMfM6BrmHP6Kb9ycUrv",
      "include_colab_link": true
    },
    "kernelspec": {
      "name": "python3",
      "display_name": "Python 3"
    },
    "language_info": {
      "name": "python"
    }
  },
  "cells": [
    {
      "cell_type": "markdown",
      "metadata": {
        "id": "view-in-github",
        "colab_type": "text"
      },
      "source": [
        "<a href=\"https://colab.research.google.com/github/CodeWithSridhar/Innomatics-Internship/blob/main/Task3_Python_Maths.ipynb\" target=\"_parent\"><img src=\"https://colab.research.google.com/assets/colab-badge.svg\" alt=\"Open In Colab\"/></a>"
      ]
    },
    {
      "cell_type": "markdown",
      "metadata": {
        "id": "5dB6kP7CyBK7"
      },
      "source": [
        "# **Task - 3 (Python Maths)**"
      ]
    },
    {
      "cell_type": "markdown",
      "metadata": {
        "id": "823NaCiGyLG3"
      },
      "source": [
        "## Polar Coordinates"
      ]
    },
    {
      "cell_type": "code",
      "metadata": {
        "colab": {
          "base_uri": "https://localhost:8080/"
        },
        "id": "n_L-yVwmxsdd",
        "outputId": "bedbd67f-575e-409b-df9e-b271a9242429"
      },
      "source": [
        "import cmath\n",
        "c= complex(input().strip())\n",
        "res= cmath.polar(c)\n",
        "\n",
        "print(res[0])\n",
        "print(res[1])"
      ],
      "execution_count": 1,
      "outputs": [
        {
          "output_type": "stream",
          "name": "stdout",
          "text": [
            "1+2j\n",
            "2.23606797749979\n",
            "1.1071487177940904\n"
          ]
        }
      ]
    },
    {
      "cell_type": "markdown",
      "metadata": {
        "id": "nFxZ9Zo3LKEF"
      },
      "source": [
        "## Mod Divmod"
      ]
    },
    {
      "cell_type": "code",
      "metadata": {
        "colab": {
          "base_uri": "https://localhost:8080/"
        },
        "id": "QSwkpGwqzA70",
        "outputId": "dcd841c9-464c-4ad5-d8e2-b5570047883a"
      },
      "source": [
        "a= int(input())\n",
        "b= int(input())\n",
        "q,r = divmod(a,b)\n",
        "\n",
        "print(q,r,(q,r),sep='\\n')"
      ],
      "execution_count": 1,
      "outputs": [
        {
          "output_type": "stream",
          "name": "stdout",
          "text": [
            "177\n",
            "10\n",
            "17\n",
            "7\n",
            "(17, 7)\n"
          ]
        }
      ]
    },
    {
      "cell_type": "markdown",
      "metadata": {
        "id": "y4c15MWNUfJS"
      },
      "source": [
        "## Triangle Quest"
      ]
    },
    {
      "cell_type": "code",
      "metadata": {
        "colab": {
          "base_uri": "https://localhost:8080/"
        },
        "id": "U1lbNgtsUff-",
        "outputId": "d784a1e0-25fd-495e-96d3-5f3da68fe826"
      },
      "source": [
        "for i in range(1,int(input())): #More than 2 lines will result in 0 score. Do not leave a blank line also\n",
        "    print(((10**i)//9)*i)"
      ],
      "execution_count": 2,
      "outputs": [
        {
          "output_type": "stream",
          "name": "stdout",
          "text": [
            "5\n",
            "1\n",
            "22\n",
            "333\n",
            "4444\n"
          ]
        }
      ]
    },
    {
      "cell_type": "markdown",
      "metadata": {
        "id": "jmNcFLuBXb1C"
      },
      "source": [
        "## Triangle Quest 2"
      ]
    },
    {
      "cell_type": "code",
      "metadata": {
        "colab": {
          "base_uri": "https://localhost:8080/"
        },
        "id": "TvxkEbooXaVC",
        "outputId": "2c231c9c-f4dd-44f7-a18e-72e06462a766"
      },
      "source": [
        "for i in range(1,int(input())+1): #More than 2 lines will result in 0 score. Do not leave a blank line also\n",
        "    print(((10**i)//9)**2)"
      ],
      "execution_count": 3,
      "outputs": [
        {
          "output_type": "stream",
          "name": "stdout",
          "text": [
            "5\n",
            "1\n",
            "121\n",
            "12321\n",
            "1234321\n",
            "123454321\n"
          ]
        }
      ]
    },
    {
      "cell_type": "markdown",
      "metadata": {
        "id": "znVUcAFqXlZU"
      },
      "source": [
        "## Integers Come In All Sizes"
      ]
    },
    {
      "cell_type": "code",
      "metadata": {
        "colab": {
          "base_uri": "https://localhost:8080/"
        },
        "id": "3HVpcYWKXlwh",
        "outputId": "38754f51-f66c-4c6b-e4a8-78d8d6d8c83c"
      },
      "source": [
        "a,b,c,d = int(input()),int(input()),int(input()),int(input())\n",
        "print((a**b)+(c**d))"
      ],
      "execution_count": 4,
      "outputs": [
        {
          "output_type": "stream",
          "name": "stdout",
          "text": [
            "9\n",
            "29\n",
            "7\n",
            "27\n",
            "4710194409608608369201743232\n"
          ]
        }
      ]
    },
    {
      "cell_type": "markdown",
      "metadata": {
        "id": "YkWgFLfpYnit"
      },
      "source": [
        "## Power - Mod Power"
      ]
    },
    {
      "cell_type": "code",
      "metadata": {
        "colab": {
          "base_uri": "https://localhost:8080/"
        },
        "id": "4v0jd6b_Yn5M",
        "outputId": "75bc1029-25b1-4b48-8e46-be5ad8f1c72a"
      },
      "source": [
        "a= int(input())\n",
        "b= int(input())\n",
        "m= int(input())\n",
        "\n",
        "print(pow(a,b),pow(a,b,m),sep=\"\\n\")"
      ],
      "execution_count": 6,
      "outputs": [
        {
          "output_type": "stream",
          "name": "stdout",
          "text": [
            "3\n",
            "4\n",
            "5\n",
            "81\n",
            "1\n"
          ]
        }
      ]
    },
    {
      "cell_type": "markdown",
      "metadata": {
        "id": "N_6zukVvbS9D"
      },
      "source": [
        "## Find Angle MBC"
      ]
    },
    {
      "cell_type": "code",
      "metadata": {
        "colab": {
          "base_uri": "https://localhost:8080/"
        },
        "id": "ysy1CniIbSdD",
        "outputId": "96a78877-e84f-44d8-9009-e565842e0f3b"
      },
      "source": [
        "import math\n",
        "\n",
        "AB = int(input())\n",
        "BC= int(input())\n",
        "\n",
        "theta = (math.atan(AB/BC))\n",
        "theta_to_degree = round(math.degrees(theta))\n",
        "\n",
        "print(theta_to_degree,chr(176),sep='')"
      ],
      "execution_count": 7,
      "outputs": [
        {
          "output_type": "stream",
          "name": "stdout",
          "text": [
            "10\n",
            "10\n",
            "45°\n"
          ]
        }
      ]
    }
  ]
}