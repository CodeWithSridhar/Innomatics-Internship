{
  "nbformat": 4,
  "nbformat_minor": 0,
  "metadata": {
    "colab": {
      "name": "Task2_Data_Types.ipynb",
      "provenance": [],
      "collapsed_sections": [],
      "authorship_tag": "ABX9TyPV9z3WKi2P/8sn7D23r4Un",
      "include_colab_link": true
    },
    "kernelspec": {
      "name": "python3",
      "display_name": "Python 3"
    },
    "language_info": {
      "name": "python"
    }
  },
  "cells": [
    {
      "cell_type": "markdown",
      "metadata": {
        "id": "view-in-github",
        "colab_type": "text"
      },
      "source": [
        "<a href=\"https://colab.research.google.com/github/CodeWithSridhar/Innomatics-Internship/blob/main/Task2_Data_Types.ipynb\" target=\"_parent\"><img src=\"https://colab.research.google.com/assets/colab-badge.svg\" alt=\"Open In Colab\"/></a>"
      ]
    },
    {
      "cell_type": "markdown",
      "metadata": {
        "id": "8vXW5cvH7i3P"
      },
      "source": [
        "## List Comprehensions"
      ]
    },
    {
      "cell_type": "code",
      "metadata": {
        "colab": {
          "base_uri": "https://localhost:8080/"
        },
        "id": "NETYDmQK7E26",
        "outputId": "92a2a32b-f727-40ca-bb55-6b3a6ef73843"
      },
      "source": [
        "if __name__ == '__main__':\n",
        "    x = int(input())\n",
        "    y = int(input())\n",
        "    z = int(input())\n",
        "    n = int(input())\n",
        "    l= list()\n",
        "    for i in range(x+1):\n",
        "        for j in range(y+1):\n",
        "            for k in range(z+1):\n",
        "                if (i+j+k != n):\n",
        "                    l.append([i,j,k])\n",
        "    print(l)"
      ],
      "execution_count": 1,
      "outputs": [
        {
          "output_type": "stream",
          "name": "stdout",
          "text": [
            "1\n",
            "1\n",
            "1\n",
            "2\n",
            "[[0, 0, 0], [0, 0, 1], [0, 1, 0], [1, 0, 0], [1, 1, 1]]\n"
          ]
        }
      ]
    },
    {
      "cell_type": "markdown",
      "metadata": {
        "id": "zmlCgb2zk3lp"
      },
      "source": [
        "## Nested Lists"
      ]
    },
    {
      "cell_type": "code",
      "metadata": {
        "colab": {
          "base_uri": "https://localhost:8080/"
        },
        "id": "fx4h_Zg7ks9f",
        "outputId": "45aa6754-48a4-4d36-d9fc-d3312cfcd3f0"
      },
      "source": [
        "n=int(input())\n",
        "res=[]\n",
        "grade=[]\n",
        "for i in range(n):\n",
        "    name=input()\n",
        "    marks=float(input())\n",
        "    res.append([name,marks])\n",
        "    grade.append(marks)\n",
        "grade=sorted(set(grade))\n",
        "a=grade[1]\n",
        "name=[]\n",
        "for val in res:\n",
        "    if a==val[1]:\n",
        "        name.append(val[0])\n",
        "name.sort()\n",
        "for nme in name:\n",
        "    print(nme)"
      ],
      "execution_count": 2,
      "outputs": [
        {
          "output_type": "stream",
          "name": "stdout",
          "text": [
            "5\n",
            "Harry\n",
            "37.21\n",
            "Berry\n",
            "37.21\n",
            "Tina\n",
            "37.2\n",
            "Akriti\n",
            "41\n",
            "Harsh\n",
            "39\n",
            "Berry\n",
            "Harry\n"
          ]
        }
      ]
    },
    {
      "cell_type": "markdown",
      "metadata": {
        "id": "S6_OM1FD6bOL"
      },
      "source": [
        "## Find the Runner-Up Score!"
      ]
    },
    {
      "cell_type": "code",
      "metadata": {
        "colab": {
          "base_uri": "https://localhost:8080/"
        },
        "id": "VTZwu58j5wYm",
        "outputId": "9670e4fe-2b40-4dd8-9e77-9f3cb5e7c8e1"
      },
      "source": [
        "n = int(input())\n",
        "arr = list(map(int, input().split()))\n",
        "arr.sort()\n",
        "print(arr[arr.index(max(arr))-1])"
      ],
      "execution_count": 6,
      "outputs": [
        {
          "output_type": "stream",
          "name": "stdout",
          "text": [
            "5\n",
            "2 3 6 6 5\n",
            "5\n"
          ]
        }
      ]
    },
    {
      "cell_type": "markdown",
      "metadata": {
        "id": "GlAhW-WF7-vE"
      },
      "source": [
        "## Tuples"
      ]
    },
    {
      "cell_type": "code",
      "metadata": {
        "colab": {
          "base_uri": "https://localhost:8080/"
        },
        "id": "tCfGEEWF5zmb",
        "outputId": "9e49b6d6-90d7-4ee2-888e-88f3082a2f66"
      },
      "source": [
        "n = int(input())\n",
        "t = tuple(map(int, input().split()))\n",
        "print(hash(t))"
      ],
      "execution_count": 7,
      "outputs": [
        {
          "output_type": "stream",
          "name": "stdout",
          "text": [
            "2\n",
            "1 2\n",
            "3713081631934410656\n"
          ]
        }
      ]
    },
    {
      "cell_type": "markdown",
      "metadata": {
        "id": "T0Q5VON_8K6u"
      },
      "source": [
        "## Finding the percentage"
      ]
    },
    {
      "cell_type": "code",
      "metadata": {
        "colab": {
          "base_uri": "https://localhost:8080/"
        },
        "id": "H96ebjam8Lk5",
        "outputId": "ded02644-a48d-4ae8-8b82-5ce2e51f1b47"
      },
      "source": [
        "n = int(input())\n",
        "student_marks = {}\n",
        "for _ in range(n):\n",
        "  name, *line = input().split()\n",
        "  scores = list(map(float, line))\n",
        "  student_marks[name] = scores\n",
        "query_name = input()\n",
        "marks = student_marks[query_name]\n",
        "print(format(sum(marks)/len(marks),'.2f'))"
      ],
      "execution_count": 9,
      "outputs": [
        {
          "output_type": "stream",
          "name": "stdout",
          "text": [
            "3\n",
            "Krishna 67 68 69\n",
            "Arjun 70 98 63\n",
            "Malika 52 56 60\n",
            "Malika\n",
            "56.00\n"
          ]
        }
      ]
    },
    {
      "cell_type": "markdown",
      "metadata": {
        "id": "wiyZDxtE-AW6"
      },
      "source": [
        "## Introduction to Sets"
      ]
    },
    {
      "cell_type": "code",
      "metadata": {
        "colab": {
          "base_uri": "https://localhost:8080/"
        },
        "id": "jOugMv_t-A1a",
        "outputId": "88f782c1-f304-4f2a-b5ce-d0d7042aaa54"
      },
      "source": [
        "def average(array):\n",
        "    average = sum(set(arr))/len(set(arr))\n",
        "    return average\n",
        "\n",
        "if __name__ == '__main__':\n",
        "    n = int(input())\n",
        "    arr = list(map(int, input().split()))\n",
        "    result = average(arr)\n",
        "    print(result)"
      ],
      "execution_count": 10,
      "outputs": [
        {
          "output_type": "stream",
          "name": "stdout",
          "text": [
            "10\n",
            "161 182 161 154 176 170 167 171 170 174\n",
            "169.375\n"
          ]
        }
      ]
    },
    {
      "cell_type": "markdown",
      "metadata": {
        "id": "itUWQ_PGAgx6"
      },
      "source": [
        "## No Idea!"
      ]
    },
    {
      "cell_type": "code",
      "metadata": {
        "colab": {
          "base_uri": "https://localhost:8080/"
        },
        "id": "etSpiyvwAhJ-",
        "outputId": "444c0ed1-4de3-4a17-fbf9-fb66b92e1402"
      },
      "source": [
        "a=input().split(' ')\n",
        "l=([int(i) for i in input().split(' ')])\n",
        "firstset=set([int(i) for i in input(\"Enter Set A: \").split(' ')])\n",
        "secondset=set([int(i) for i in input(\"Enter Set B: \").split(' ')])\n",
        "p=0\n",
        "for i in l:\n",
        "    if i in firstset:\n",
        "        p+=1\n",
        "    if i in secondset:\n",
        "        p-=1\n",
        "print(f'happiness meter is: {p}')"
      ],
      "execution_count": 13,
      "outputs": [
        {
          "output_type": "stream",
          "name": "stdout",
          "text": [
            "3 2\n",
            "1 5 3\n",
            "Enter Set A: 3 1\n",
            "Enter Set B: 5 7\n",
            "happiness meter is: 1\n"
          ]
        }
      ]
    },
    {
      "cell_type": "markdown",
      "metadata": {
        "id": "eI0xjJ0kFgG7"
      },
      "source": [
        "## Symmetric Difference"
      ]
    },
    {
      "cell_type": "code",
      "metadata": {
        "colab": {
          "base_uri": "https://localhost:8080/"
        },
        "id": "pftc6UVzIo2W",
        "outputId": "8cb470dd-965b-4876-98d5-664a1efc7c77"
      },
      "source": [
        "m= int(input())\n",
        "m_set= set(map(int,input().split()))\n",
        "n = int(input())\n",
        "n_set= set(map(int,input().split()))\n",
        "\n",
        "m_difference_n = m_set.difference(n_set)\n",
        "n_difference_m = n_set.difference(m_set)\n",
        "\n",
        "result = list(m_difference_n) + list(n_difference_m)\n",
        "sorted_result = sorted(result)\n",
        "\n",
        "print(*sorted_result,sep = '\\n')"
      ],
      "execution_count": 14,
      "outputs": [
        {
          "output_type": "stream",
          "name": "stdout",
          "text": [
            "4\n",
            "2 4 5 9\n",
            "4\n",
            "2 4 11 12\n",
            "5\n",
            "9\n",
            "11\n",
            "12\n"
          ]
        }
      ]
    },
    {
      "cell_type": "markdown",
      "metadata": {
        "id": "U0sIC2X2MG3b"
      },
      "source": [
        "## Set .add()"
      ]
    },
    {
      "cell_type": "code",
      "metadata": {
        "colab": {
          "base_uri": "https://localhost:8080/"
        },
        "id": "F_QrC6QYMJwL",
        "outputId": "c04b0148-22ee-4df2-8877-ba2277373c74"
      },
      "source": [
        "n= int(input())\n",
        "set_1 = set()\n",
        "for i in range(n):\n",
        "    set_1.add(input())\n",
        "print(len(set_1))"
      ],
      "execution_count": 15,
      "outputs": [
        {
          "output_type": "stream",
          "name": "stdout",
          "text": [
            "7\n",
            "UK\n",
            "China\n",
            "USA\n",
            "France\n",
            "New Zealand\n",
            "UK\n",
            "France\n",
            "5\n"
          ]
        }
      ]
    }
  ]
}