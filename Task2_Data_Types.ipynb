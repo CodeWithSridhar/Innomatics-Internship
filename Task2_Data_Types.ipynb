{
  "nbformat": 4,
  "nbformat_minor": 0,
  "metadata": {
    "colab": {
      "name": "Task2_Data_Types.ipynb",
      "provenance": [],
      "collapsed_sections": [],
      "authorship_tag": "ABX9TyMOXHgw2747qvo7IfQiEhgm",
      "include_colab_link": true
    },
    "kernelspec": {
      "name": "python3",
      "display_name": "Python 3"
    },
    "language_info": {
      "name": "python"
    }
  },
  "cells": [
    {
      "cell_type": "markdown",
      "metadata": {
        "id": "view-in-github",
        "colab_type": "text"
      },
      "source": [
        "<a href=\"https://colab.research.google.com/github/CodeWithSridhar/Innomatics-Internship/blob/main/Task2_Data_Types.ipynb\" target=\"_parent\"><img src=\"https://colab.research.google.com/assets/colab-badge.svg\" alt=\"Open In Colab\"/></a>"
      ]
    },
    {
      "cell_type": "markdown",
      "metadata": {
        "id": "8vXW5cvH7i3P"
      },
      "source": [
        "## List Comprehensions"
      ]
    },
    {
      "cell_type": "code",
      "metadata": {
        "colab": {
          "base_uri": "https://localhost:8080/"
        },
        "id": "NETYDmQK7E26",
        "outputId": "92a2a32b-f727-40ca-bb55-6b3a6ef73843"
      },
      "source": [
        "if __name__ == '__main__':\n",
        "    x = int(input())\n",
        "    y = int(input())\n",
        "    z = int(input())\n",
        "    n = int(input())\n",
        "    l= list()\n",
        "    for i in range(x+1):\n",
        "        for j in range(y+1):\n",
        "            for k in range(z+1):\n",
        "                if (i+j+k != n):\n",
        "                    l.append([i,j,k])\n",
        "    print(l)"
      ],
      "execution_count": null,
      "outputs": [
        {
          "output_type": "stream",
          "name": "stdout",
          "text": [
            "1\n",
            "1\n",
            "1\n",
            "2\n",
            "[[0, 0, 0], [0, 0, 1], [0, 1, 0], [1, 0, 0], [1, 1, 1]]\n"
          ]
        }
      ]
    },
    {
      "cell_type": "markdown",
      "metadata": {
        "id": "zmlCgb2zk3lp"
      },
      "source": [
        "## Nested Lists"
      ]
    },
    {
      "cell_type": "code",
      "metadata": {
        "colab": {
          "base_uri": "https://localhost:8080/"
        },
        "id": "fx4h_Zg7ks9f",
        "outputId": "45aa6754-48a4-4d36-d9fc-d3312cfcd3f0"
      },
      "source": [
        "n=int(input())\n",
        "res=[]\n",
        "grade=[]\n",
        "for i in range(n):\n",
        "    name=input()\n",
        "    marks=float(input())\n",
        "    res.append([name,marks])\n",
        "    grade.append(marks)\n",
        "grade=sorted(set(grade))\n",
        "a=grade[1]\n",
        "name=[]\n",
        "for val in res:\n",
        "    if a==val[1]:\n",
        "        name.append(val[0])\n",
        "name.sort()\n",
        "for nme in name:\n",
        "    print(nme)"
      ],
      "execution_count": null,
      "outputs": [
        {
          "output_type": "stream",
          "name": "stdout",
          "text": [
            "5\n",
            "Harry\n",
            "37.21\n",
            "Berry\n",
            "37.21\n",
            "Tina\n",
            "37.2\n",
            "Akriti\n",
            "41\n",
            "Harsh\n",
            "39\n",
            "Berry\n",
            "Harry\n"
          ]
        }
      ]
    },
    {
      "cell_type": "markdown",
      "metadata": {
        "id": "S6_OM1FD6bOL"
      },
      "source": [
        "## Find the Runner-Up Score!"
      ]
    },
    {
      "cell_type": "code",
      "metadata": {
        "colab": {
          "base_uri": "https://localhost:8080/"
        },
        "id": "VTZwu58j5wYm",
        "outputId": "9670e4fe-2b40-4dd8-9e77-9f3cb5e7c8e1"
      },
      "source": [
        "n = int(input())\n",
        "arr = list(map(int, input().split()))\n",
        "arr.sort()\n",
        "print(arr[arr.index(max(arr))-1])"
      ],
      "execution_count": null,
      "outputs": [
        {
          "output_type": "stream",
          "name": "stdout",
          "text": [
            "5\n",
            "2 3 6 6 5\n",
            "5\n"
          ]
        }
      ]
    },
    {
      "cell_type": "markdown",
      "metadata": {
        "id": "GlAhW-WF7-vE"
      },
      "source": [
        "## Tuples"
      ]
    },
    {
      "cell_type": "code",
      "metadata": {
        "colab": {
          "base_uri": "https://localhost:8080/"
        },
        "id": "tCfGEEWF5zmb",
        "outputId": "9e49b6d6-90d7-4ee2-888e-88f3082a2f66"
      },
      "source": [
        "n = int(input())\n",
        "t = tuple(map(int, input().split()))\n",
        "print(hash(t))"
      ],
      "execution_count": null,
      "outputs": [
        {
          "output_type": "stream",
          "name": "stdout",
          "text": [
            "2\n",
            "1 2\n",
            "3713081631934410656\n"
          ]
        }
      ]
    },
    {
      "cell_type": "markdown",
      "metadata": {
        "id": "T0Q5VON_8K6u"
      },
      "source": [
        "## Finding the percentage"
      ]
    },
    {
      "cell_type": "code",
      "metadata": {
        "colab": {
          "base_uri": "https://localhost:8080/"
        },
        "id": "H96ebjam8Lk5",
        "outputId": "ded02644-a48d-4ae8-8b82-5ce2e51f1b47"
      },
      "source": [
        "n = int(input())\n",
        "student_marks = {}\n",
        "for _ in range(n):\n",
        "  name, *line = input().split()\n",
        "  scores = list(map(float, line))\n",
        "  student_marks[name] = scores\n",
        "query_name = input()\n",
        "marks = student_marks[query_name]\n",
        "print(format(sum(marks)/len(marks),'.2f'))"
      ],
      "execution_count": null,
      "outputs": [
        {
          "output_type": "stream",
          "name": "stdout",
          "text": [
            "3\n",
            "Krishna 67 68 69\n",
            "Arjun 70 98 63\n",
            "Malika 52 56 60\n",
            "Malika\n",
            "56.00\n"
          ]
        }
      ]
    },
    {
      "cell_type": "markdown",
      "metadata": {
        "id": "wiyZDxtE-AW6"
      },
      "source": [
        "## Introduction to Sets"
      ]
    },
    {
      "cell_type": "code",
      "metadata": {
        "colab": {
          "base_uri": "https://localhost:8080/"
        },
        "id": "jOugMv_t-A1a",
        "outputId": "88f782c1-f304-4f2a-b5ce-d0d7042aaa54"
      },
      "source": [
        "def average(array):\n",
        "    average = sum(set(arr))/len(set(arr))\n",
        "    return average\n",
        "\n",
        "if __name__ == '__main__':\n",
        "    n = int(input())\n",
        "    arr = list(map(int, input().split()))\n",
        "    result = average(arr)\n",
        "    print(result)"
      ],
      "execution_count": null,
      "outputs": [
        {
          "output_type": "stream",
          "name": "stdout",
          "text": [
            "10\n",
            "161 182 161 154 176 170 167 171 170 174\n",
            "169.375\n"
          ]
        }
      ]
    },
    {
      "cell_type": "markdown",
      "metadata": {
        "id": "itUWQ_PGAgx6"
      },
      "source": [
        "## No Idea!"
      ]
    },
    {
      "cell_type": "code",
      "metadata": {
        "colab": {
          "base_uri": "https://localhost:8080/"
        },
        "id": "etSpiyvwAhJ-",
        "outputId": "444c0ed1-4de3-4a17-fbf9-fb66b92e1402"
      },
      "source": [
        "a=input().split(' ')\n",
        "l=([int(i) for i in input().split(' ')])\n",
        "firstset=set([int(i) for i in input(\"Enter Set A: \").split(' ')])\n",
        "secondset=set([int(i) for i in input(\"Enter Set B: \").split(' ')])\n",
        "p=0\n",
        "for i in l:\n",
        "    if i in firstset:\n",
        "        p+=1\n",
        "    if i in secondset:\n",
        "        p-=1\n",
        "print(f'happiness meter is: {p}')"
      ],
      "execution_count": null,
      "outputs": [
        {
          "output_type": "stream",
          "name": "stdout",
          "text": [
            "3 2\n",
            "1 5 3\n",
            "Enter Set A: 3 1\n",
            "Enter Set B: 5 7\n",
            "happiness meter is: 1\n"
          ]
        }
      ]
    },
    {
      "cell_type": "markdown",
      "metadata": {
        "id": "eI0xjJ0kFgG7"
      },
      "source": [
        "## Symmetric Difference"
      ]
    },
    {
      "cell_type": "code",
      "metadata": {
        "colab": {
          "base_uri": "https://localhost:8080/"
        },
        "id": "pftc6UVzIo2W",
        "outputId": "8cb470dd-965b-4876-98d5-664a1efc7c77"
      },
      "source": [
        "m= int(input())\n",
        "m_set= set(map(int,input().split()))\n",
        "n = int(input())\n",
        "n_set= set(map(int,input().split()))\n",
        "\n",
        "m_difference_n = m_set.difference(n_set)\n",
        "n_difference_m = n_set.difference(m_set)\n",
        "\n",
        "result = list(m_difference_n) + list(n_difference_m)\n",
        "sorted_result = sorted(result)\n",
        "\n",
        "print(*sorted_result,sep = '\\n')"
      ],
      "execution_count": null,
      "outputs": [
        {
          "output_type": "stream",
          "name": "stdout",
          "text": [
            "4\n",
            "2 4 5 9\n",
            "4\n",
            "2 4 11 12\n",
            "5\n",
            "9\n",
            "11\n",
            "12\n"
          ]
        }
      ]
    },
    {
      "cell_type": "markdown",
      "metadata": {
        "id": "U0sIC2X2MG3b"
      },
      "source": [
        "## Set .add()"
      ]
    },
    {
      "cell_type": "code",
      "metadata": {
        "colab": {
          "base_uri": "https://localhost:8080/"
        },
        "id": "F_QrC6QYMJwL",
        "outputId": "c04b0148-22ee-4df2-8877-ba2277373c74"
      },
      "source": [
        "n= int(input())\n",
        "set_1 = set()\n",
        "for i in range(n):\n",
        "    set_1.add(input())\n",
        "print(len(set_1))"
      ],
      "execution_count": null,
      "outputs": [
        {
          "output_type": "stream",
          "name": "stdout",
          "text": [
            "7\n",
            "UK\n",
            "China\n",
            "USA\n",
            "France\n",
            "New Zealand\n",
            "UK\n",
            "France\n",
            "5\n"
          ]
        }
      ]
    },
    {
      "cell_type": "markdown",
      "metadata": {
        "id": "58BYy6gSeTFW"
      },
      "source": [
        "## Set .union() Operation"
      ]
    },
    {
      "cell_type": "code",
      "metadata": {
        "colab": {
          "base_uri": "https://localhost:8080/"
        },
        "id": "iIRsr8e7eTk1",
        "outputId": "7d9d3e9d-4fe9-4b7f-ba95-e327e72fb474"
      },
      "source": [
        "en= int(input(\"Number of students: \"))\n",
        "english= set(map(int,input(\"Roll num Seperated by space: \").split()))\n",
        "\n",
        "fr= int(int(input(\"Number of students: \")))\n",
        "french= set(map(int,input(\"Roll num seperated by space: \").split()))\n",
        "\n",
        "print(len(english.union(french)))"
      ],
      "execution_count": null,
      "outputs": [
        {
          "output_type": "stream",
          "name": "stdout",
          "text": [
            "Number of students: 9\n",
            "Roll num Seperated by space: 1 2 3 4 5 6 7 8 9\n",
            "Number of students: 9\n",
            "Roll num seperated by space: 10 1 2 3 11 21 55 6 8\n",
            "13\n"
          ]
        }
      ]
    },
    {
      "cell_type": "markdown",
      "metadata": {
        "id": "t-FJdRK_g3pD"
      },
      "source": [
        "## Set .discard(), .remove() & .pop()"
      ]
    },
    {
      "cell_type": "code",
      "metadata": {
        "colab": {
          "base_uri": "https://localhost:8080/"
        },
        "id": "zCYohUnuhsIG",
        "outputId": "6c2b99f5-7a06-426e-a70e-285bc99244af"
      },
      "source": [
        "n = int(input())\n",
        "s = set(map(int, input().split()))\n",
        "for i in range(int(input())):\n",
        "    inp= input()\n",
        "    if inp == \"pop\":\n",
        "        s.pop()\n",
        "    else:\n",
        "        command , value = inp.split()\n",
        "        if command == \"discard\":\n",
        "            s.discard(int(value))\n",
        "        else:\n",
        "            s.remove(int(value))\n",
        "print(sum(s))"
      ],
      "execution_count": null,
      "outputs": [
        {
          "output_type": "stream",
          "name": "stdout",
          "text": [
            "9\n",
            " 1 2 3 4 5 6 7 8 9\n",
            "10\n",
            "pop\n",
            "remove 9\n",
            "discard 9\n",
            "discard 8\n",
            "remove 7\n",
            "pop\n",
            "discard 6\n",
            "remove 5\n",
            "pop\n",
            "discard 5\n",
            "4\n"
          ]
        }
      ]
    },
    {
      "cell_type": "markdown",
      "metadata": {
        "id": "Zxl9w5zBmF3k"
      },
      "source": [
        "## Set .intersection() Operation"
      ]
    },
    {
      "cell_type": "code",
      "metadata": {
        "colab": {
          "base_uri": "https://localhost:8080/"
        },
        "id": "1c67LQjbkBeb",
        "outputId": "42950886-e58e-4ced-9bf0-467c3fe7f502"
      },
      "source": [
        "eng = int(input())\n",
        "roll_eng = set(map(int,input().split()))\n",
        "\n",
        "french = int(input())\n",
        "roll_french = set(map(int,input().split()))\n",
        "\n",
        "print(len(roll_eng.intersection(roll_french)))"
      ],
      "execution_count": null,
      "outputs": [
        {
          "output_type": "stream",
          "name": "stdout",
          "text": [
            "9\n",
            "1 2 3 4 5 6 7 8 9\n",
            "9\n",
            "10 1 2 3 11 21 55 6 8\n",
            "5\n"
          ]
        }
      ]
    },
    {
      "cell_type": "markdown",
      "metadata": {
        "id": "anaq7BUXmkDe"
      },
      "source": [
        "## Set .difference() Operation"
      ]
    },
    {
      "cell_type": "code",
      "metadata": {
        "colab": {
          "base_uri": "https://localhost:8080/"
        },
        "id": "NnC4VDX6mkZ0",
        "outputId": "351d0700-3999-454c-b3a1-afafb611efd3"
      },
      "source": [
        "eng= int(input())\n",
        "roll_eng= set(map(int, input().split()))\n",
        "\n",
        "french= int(input())\n",
        "roll_french= set(map(int, input().split()))\n",
        "\n",
        "print(f'Number of students who are subscribed to the English newspaper only : {len(roll_eng.difference(roll_french))}')"
      ],
      "execution_count": null,
      "outputs": [
        {
          "output_type": "stream",
          "name": "stdout",
          "text": [
            "9\n",
            "1 2 3 4 5 6 7 8 9\n",
            "9\n",
            "10 1 2 3 11 21 55 6 8\n",
            "Number of students who are subscribed to the English newspaper only : 4\n"
          ]
        }
      ]
    },
    {
      "cell_type": "markdown",
      "metadata": {
        "id": "XDTh6eWspdz_"
      },
      "source": [
        "## Set .symmetric_difference() Operation"
      ]
    },
    {
      "cell_type": "code",
      "metadata": {
        "colab": {
          "base_uri": "https://localhost:8080/"
        },
        "id": "n-yHnwoso4o5",
        "outputId": "8619e046-dd1e-4762-dd5f-fc7e804cd4ac"
      },
      "source": [
        "_,a = input(),set(input().split())\n",
        "_,b = input(),set(input().split())\n",
        "\n",
        "print(len(a.symmetric_difference(b)))"
      ],
      "execution_count": null,
      "outputs": [
        {
          "output_type": "stream",
          "name": "stdout",
          "text": [
            "9\n",
            "1 2 3 4 5 6 7 8 9\n",
            "9\n",
            "10 1 2 3 11 21 55 6 8\n",
            "8\n"
          ]
        }
      ]
    },
    {
      "cell_type": "markdown",
      "metadata": {
        "id": "nFUrr4Oy9TfG"
      },
      "source": [
        "## The Captain's Room"
      ]
    },
    {
      "cell_type": "code",
      "metadata": {
        "id": "x5181fzR9UOv",
        "colab": {
          "base_uri": "https://localhost:8080/"
        },
        "outputId": "2fd5e699-70a1-4281-a6fb-f99da0edf141"
      },
      "source": [
        "k= int(input())\n",
        "lst= list(map(int,input().split()))\n",
        "\n",
        "s1= set() #unique room list\n",
        "s2= set()  #room num which appear more than once\n",
        "\n",
        "for i in lst:\n",
        "    if i in s1:\n",
        "        s2.add(i)\n",
        "    else:\n",
        "        s1.add(i)\n",
        "        \n",
        "s = s1.difference(s2)\n",
        "print(*s)"
      ],
      "execution_count": 1,
      "outputs": [
        {
          "output_type": "stream",
          "name": "stdout",
          "text": [
            "5\n",
            "1 2 3 6 5 4 4 2 5 3 6 1 6 5 3 2 4 1 2 5 1 4 3 6 8 4 3 1 5 6 2 \n",
            "8\n"
          ]
        }
      ]
    },
    {
      "cell_type": "markdown",
      "metadata": {
        "id": "pZk2N38TPTL7"
      },
      "source": [
        "## Check Subset"
      ]
    },
    {
      "cell_type": "code",
      "metadata": {
        "colab": {
          "base_uri": "https://localhost:8080/"
        },
        "id": "-zmUbTOfPTnP",
        "outputId": "af6fa6ef-b9ac-4aea-cb43-0311aeff08b2"
      },
      "source": [
        "for _ in range(int(input())):\n",
        "    x,a,z,b = input(), set(input().split()), input(), set(input().split())\n",
        "    print(a.issubset(b))"
      ],
      "execution_count": 2,
      "outputs": [
        {
          "output_type": "stream",
          "name": "stdout",
          "text": [
            "3\n",
            "5\n",
            "1 2 3 5 6\n",
            "9\n",
            "9 8 5 6 3 2 1 4 7\n",
            "True\n",
            "1\n",
            "2\n",
            "5\n",
            "3 6 5 4 1\n",
            "False\n",
            "7\n",
            "1 2 3 5 6 8 9\n",
            "3\n",
            "9 8 2\n",
            "False\n"
          ]
        }
      ]
    },
    {
      "cell_type": "markdown",
      "metadata": {
        "id": "MKKwcuNrQ5bX"
      },
      "source": [
        "## Check Strict Superset"
      ]
    },
    {
      "cell_type": "code",
      "metadata": {
        "colab": {
          "base_uri": "https://localhost:8080/"
        },
        "id": "GGmzqKNzQ6Bb",
        "outputId": "4f478a8f-81ce-4ec4-bc43-cbe10366035c"
      },
      "source": [
        "a = set(input().split())\n",
        "print(all(a>set(input().split()) for _ in range(int(input()))))"
      ],
      "execution_count": 3,
      "outputs": [
        {
          "output_type": "stream",
          "name": "stdout",
          "text": [
            "1 2 3 4 5 6 7 8 9 10 11 12 23 45 84 78\n",
            "2\n",
            "1 2 3 4 5\n",
            "100 11 12\n",
            "False\n"
          ]
        }
      ]
    }
  ]
}