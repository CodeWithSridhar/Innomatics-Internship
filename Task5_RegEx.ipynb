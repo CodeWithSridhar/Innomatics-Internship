{
  "nbformat": 4,
  "nbformat_minor": 0,
  "metadata": {
    "colab": {
      "name": "Task5_RegEx.ipynb",
      "provenance": [],
      "authorship_tag": "ABX9TyOusjEVN3VrOuzDJKGvTCF/",
      "include_colab_link": true
    },
    "kernelspec": {
      "name": "python3",
      "display_name": "Python 3"
    },
    "language_info": {
      "name": "python"
    }
  },
  "cells": [
    {
      "cell_type": "markdown",
      "metadata": {
        "id": "view-in-github",
        "colab_type": "text"
      },
      "source": [
        "<a href=\"https://colab.research.google.com/github/CodeWithSridhar/Innomatics-Internship/blob/main/Task5_RegEx.ipynb\" target=\"_parent\"><img src=\"https://colab.research.google.com/assets/colab-badge.svg\" alt=\"Open In Colab\"/></a>"
      ]
    },
    {
      "cell_type": "markdown",
      "metadata": {
        "id": "7kqg-qvEW_E2"
      },
      "source": [
        "\n",
        "# **Task - 5 (RegEx)**"
      ]
    },
    {
      "cell_type": "markdown",
      "metadata": {
        "id": "9q-pnI4EXJpp"
      },
      "source": [
        "**Questions Link**: https://www.hackerrank.com/domains/python?filters%5Bsubdomains%5D%5B%5D=py-regex "
      ]
    },
    {
      "cell_type": "markdown",
      "metadata": {
        "id": "V1AWRdQkXh65"
      },
      "source": [
        "## Detect Floating Point Number"
      ]
    },
    {
      "cell_type": "code",
      "metadata": {
        "colab": {
          "base_uri": "https://localhost:8080/"
        },
        "id": "tcBQlbH0WV0R",
        "outputId": "f5d450f1-06d2-42b2-db58-0575b050826e"
      },
      "source": [
        "import re\n",
        "class Main():\n",
        "    def __init__(self):\n",
        "        self.n = int(input())\n",
        "        for i in range(self.n):\n",
        "            self.s = input()\n",
        "            print(bool(re.match(r'^[-+]?[0-9]*\\.[0-9]+$', self.s)))\n",
        "                    \n",
        "if __name__ == '__main__':\n",
        "    Answer = Main()"
      ],
      "execution_count": null,
      "outputs": [
        {
          "output_type": "stream",
          "name": "stdout",
          "text": [
            "4\n",
            "4.0O0\n",
            "False\n",
            "-1.00\n",
            "True\n",
            "+4.54\n",
            "True\n",
            "SomeRandomStuff\n",
            "False\n"
          ]
        }
      ]
    },
    {
      "cell_type": "markdown",
      "metadata": {
        "id": "mQBkacojkLM6"
      },
      "source": [
        "Explanation:\n",
        "\n",
        "4.0O0 : O is not a digit.\n",
        "\n",
        "\n",
        "-1.00 : is valid.\n",
        "\n",
        "+4.54 : is valid.\n",
        "\n",
        "SomeRandomStuff: is not a number."
      ]
    },
    {
      "cell_type": "markdown",
      "metadata": {
        "id": "dWI_d2Jvh2M-"
      },
      "source": [
        "## Group(), Groups() & Groupdict()"
      ]
    },
    {
      "cell_type": "code",
      "metadata": {
        "colab": {
          "base_uri": "https://localhost:8080/"
        },
        "id": "-PofxlyMh2g_",
        "outputId": "03dea5d7-692b-4b2d-ec25-3167e160b414"
      },
      "source": [
        "import re\n",
        "\n",
        "expression = r\"([a-zA-Z0-9])\\1+\"\n",
        "String = re.search(expression,input('Enter string : '))\n",
        "if String:\n",
        "    print(String.group(1))\n",
        "else:\n",
        "    print(-1)"
      ],
      "execution_count": null,
      "outputs": [
        {
          "output_type": "stream",
          "name": "stdout",
          "text": [
            "Enter string : ..12345678910111213141516171820212223\n",
            "1\n"
          ]
        }
      ]
    },
    {
      "cell_type": "markdown",
      "metadata": {
        "id": "RrAST-CdimlL"
      },
      "source": [
        "Here, .. is the first repeating character, but it is not alphanumeric.\n",
        "1 is the first (from left to right) alphanumeric repeating character of the string in the substring 111."
      ]
    },
    {
      "cell_type": "markdown",
      "metadata": {
        "id": "w40G5BbXi2AM"
      },
      "source": [
        "## Re.findall() & Re.finditer()"
      ]
    },
    {
      "cell_type": "code",
      "metadata": {
        "colab": {
          "base_uri": "https://localhost:8080/"
        },
        "id": "8cOQrQfwiqXc",
        "outputId": "32a1768a-e041-4471-f17f-55ed4ef64af2"
      },
      "source": [
        "import re\n",
        "String = re.findall(r'(?<=[qwrtypsdfghjklzxcvbnm])([aeiou]{2,})(?=[qwrtypsdfghjklzxcvbnm])', input().strip(), re.IGNORECASE)\n",
        "\n",
        "if String:\n",
        "    for i in String:\n",
        "        print(i)\n",
        "else:\n",
        "    print(-1)"
      ],
      "execution_count": null,
      "outputs": [
        {
          "output_type": "stream",
          "name": "stdout",
          "text": [
            "rabcdeefgyYhFjkIoomnpOeorteeeeet\n",
            "ee\n",
            "Ioo\n",
            "Oeo\n",
            "eeeee\n"
          ]
        }
      ]
    },
    {
      "cell_type": "markdown",
      "metadata": {
        "id": "UpOEGERijs5-"
      },
      "source": [
        "Explanation\n",
        "\n",
        "ee is located between consonant d and f.\n",
        "\n",
        "Ioo is located between consonant k and m.\n",
        "\n",
        "Oeo is located between consonant p and r.\n",
        "\n",
        "eeeee is located between consonant t and t."
      ]
    },
    {
      "cell_type": "markdown",
      "metadata": {
        "id": "bW2IGtheKIzy"
      },
      "source": [
        "## Re.start() & Re.end()"
      ]
    },
    {
      "cell_type": "code",
      "metadata": {
        "colab": {
          "base_uri": "https://localhost:8080/"
        },
        "id": "bsuDtF6EKIng",
        "outputId": "f3855d59-2e6b-4aa3-f597-cfac5e7127c0"
      },
      "source": [
        "import re\n",
        "\n",
        "String, k = input(), input()\n",
        "matches = re.finditer(r'(?=(' + k + '))', String)\n",
        "\n",
        "Foundanymatch = False\n",
        "for match in matches:\n",
        "    Foundanymatch = True\n",
        "    print((match.start(1), match.end(1) - 1))\n",
        "\n",
        "if Foundanymatch == False:\n",
        "    print((-1, -1))"
      ],
      "execution_count": null,
      "outputs": [
        {
          "output_type": "stream",
          "name": "stdout",
          "text": [
            "aaadaa\n",
            "aa\n",
            "(0, 1)\n",
            "(1, 2)\n",
            "(4, 5)\n"
          ]
        }
      ]
    },
    {
      "cell_type": "markdown",
      "metadata": {
        "id": "yq6l3rCyKiDQ"
      },
      "source": [
        "## Regex Substitution"
      ]
    },
    {
      "cell_type": "code",
      "metadata": {
        "id": "d4D2ypbGL5cx"
      },
      "source": [
        "import re\n",
        "\n",
        "def Word(any_match):\n",
        "    if any_match.group(1) == '&&':\n",
        "        return 'and'\n",
        "    else:\n",
        "        return 'or'\n",
        "\n",
        "for _ in range(int(input('Enter number of lines: '))):\n",
        "    print(re.sub(r\"(?<= )(\\|\\||&&)(?= )\", Word,input('Enter string: ')))"
      ],
      "execution_count": null,
      "outputs": []
    },
    {
      "cell_type": "markdown",
      "metadata": {
        "id": "rv1BWfY0NZ9C"
      },
      "source": [
        "## Validating phone numbers"
      ]
    },
    {
      "cell_type": "code",
      "metadata": {
        "colab": {
          "base_uri": "https://localhost:8080/"
        },
        "id": "Oqjp5XgBNaiV",
        "outputId": "da0be0fd-5daf-4d14-fc27-7ee8a9ebf6e0"
      },
      "source": [
        "import re\n",
        "N = int(input('Enter num of lines: '))\n",
        "\n",
        "for i in range(N):\n",
        "    Phone_number = input('Enter your phone number : ')\n",
        "    if(len(Phone_number)==10 and Phone_number.isdigit()):\n",
        "        Valid = re.findall(r\"^[789]\\d{9}$\",Phone_number)\n",
        "        if(len(Valid)==1):\n",
        "            print(\"YES\")\n",
        "        else:\n",
        "            print(\"NO\")\n",
        "    else:\n",
        "        print(\"NO\")"
      ],
      "execution_count": null,
      "outputs": [
        {
          "output_type": "stream",
          "name": "stdout",
          "text": [
            "Enter num of lines: 2\n",
            "Enter your phone number : 9587456281\n",
            "YES\n",
            "Enter your phone number : 1252478965\n",
            "NO\n"
          ]
        }
      ]
    },
    {
      "cell_type": "markdown",
      "metadata": {
        "id": "VpY62sOHcwBn"
      },
      "source": [
        "## Validating Roman Numerals"
      ]
    },
    {
      "cell_type": "markdown",
      "metadata": {
        "id": "Z9Zc1cNddkhi"
      },
      "source": [
        "You are given a string, and you have to validate whether it's a valid Roman numeral. If it is valid, print True. Otherwise, print False. Try to create a regular expression for a valid Roman numeral."
      ]
    },
    {
      "cell_type": "code",
      "metadata": {
        "colab": {
          "base_uri": "https://localhost:8080/"
        },
        "id": "Ysf6hb8Mcv08",
        "outputId": "e1d20bac-94b4-4c2c-f2fa-49df83d7c9b1"
      },
      "source": [
        "regex_pattern = r\"\"\t# Do not delete 'r'.\n",
        "Thousands = 'M{0,3}'\n",
        "Hundreds = '(C[MD]|D?C{0,3})'\n",
        "Tens = '(X[CL]|L?X{0,3})'\n",
        "Ones = '(I[VX]|V?I{0,3})'\n",
        "regex_pattern = r\"%s%s%s%s$\" % (Thousands, Hundreds, Tens, Ones)    \n",
        "\n",
        "import re\n",
        "print(str(bool(re.match(regex_pattern, input()))))"
      ],
      "execution_count": null,
      "outputs": [
        {
          "output_type": "stream",
          "name": "stdout",
          "text": [
            "CDXXI\n",
            "True\n"
          ]
        }
      ]
    },
    {
      "cell_type": "markdown",
      "metadata": {
        "id": "qM__sYn-dq15"
      },
      "source": [
        "## Validating and Parsing Email Addresses"
      ]
    },
    {
      "cell_type": "code",
      "metadata": {
        "colab": {
          "base_uri": "https://localhost:8080/"
        },
        "id": "FFQ-ONL9dqrc",
        "outputId": "81901e38-e240-4e20-f97f-47858c3c0c9f"
      },
      "source": [
        "import re\n",
        "N = int(input('Enter number of lines : '))\n",
        "\n",
        "for i in range(N):\n",
        "    Name, E_mail = input('Enter Name and E-mail: ').split()\n",
        "    Regular_pattern = \"<[a-z][a-zA-Z0-9\\-\\.\\_]+@[a-zA-Z]+\\.[a-zA-Z]{1,3}>\"\n",
        "    if bool(re.match(Regular_pattern, E_mail)):\n",
        "        print(Name,E_mail)"
      ],
      "execution_count": null,
      "outputs": [
        {
          "name": "stdout",
          "output_type": "stream",
          "text": [
            "Enter number of lines : 2\n",
            "Enter Name and E-mail: DEXTER <dexter@hotmail.com>\n",
            "DEXTER <dexter@hotmail.com>\n",
            "Enter Name and E-mail: VIRUS <virus!@variable.:p>\n"
          ]
        }
      ]
    },
    {
      "cell_type": "markdown",
      "metadata": {
        "id": "f1CcLqUv6MXk"
      },
      "source": [
        "## Hex Color Code"
      ]
    },
    {
      "cell_type": "code",
      "metadata": {
        "id": "IFmN5HOJepb5"
      },
      "source": [
        "import re\n",
        "Line = int(input())\n",
        "in_css = False\n",
        "for _ in range(Line):\n",
        "    s = input()\n",
        "    if '{' in s:\n",
        "        in_css = True\n",
        "    elif '}' in s:\n",
        "        in_css = False\n",
        "    elif in_css:\n",
        "        for color in re.findall('#[0-9a-fA-F]{3,6}', s):\n",
        "            print(color)"
      ],
      "execution_count": null,
      "outputs": []
    },
    {
      "cell_type": "markdown",
      "metadata": {
        "id": "BMsaBvz2YxeN"
      },
      "source": [
        "## Validating UID"
      ]
    },
    {
      "cell_type": "code",
      "metadata": {
        "id": "NxpYOd2g6TC8",
        "colab": {
          "base_uri": "https://localhost:8080/"
        },
        "outputId": "0ff3acb4-6927-4155-ac31-88dccadd7323"
      },
      "source": [
        "import re\n",
        "\n",
        "for i in range(int(input())):\n",
        "    N = input().strip()\n",
        "    if N.isalnum() and len(N) == 10:\n",
        "        if bool(re.search(r'(.*[A-Z]){2,}',N)) and bool(re.search(r'(.*[0-9]){3,}',N)):\n",
        "            if re.search(r'.*(.).*\\1+.*',N):\n",
        "                print('Invalid')\n",
        "            else:\n",
        "                print('Valid')\n",
        "        else:\n",
        "            print('Invalid')\n",
        "    else:\n",
        "        print('Invalid')"
      ],
      "execution_count": null,
      "outputs": [
        {
          "output_type": "stream",
          "name": "stdout",
          "text": [
            "2\n",
            "Enter your UID : B1CD102354\n",
            "Invalid\n",
            "Enter your UID : B1CDEF2354\n",
            "Valid\n"
          ]
        }
      ]
    },
    {
      "cell_type": "markdown",
      "metadata": {
        "id": "aqmxJ5TXZ8_O"
      },
      "source": [
        "Explanation\n",
        "\n",
        "B1CD102354:1 is repeating → Invalid\n",
        "\n",
        "B1CDEF2354: Valid"
      ]
    },
    {
      "cell_type": "markdown",
      "metadata": {
        "id": "Y-Rvr6RuZsEm"
      },
      "source": [
        "## Validating Postal Codes"
      ]
    },
    {
      "cell_type": "code",
      "metadata": {
        "colab": {
          "base_uri": "https://localhost:8080/"
        },
        "id": "B5h0K0e0Zr5-",
        "outputId": "636a7a95-cf6b-4919-d835-e1d130065670"
      },
      "source": [
        "regex_integer_in_range = r\"^[1-9][\\d]{5}$\"\t# Do not delete 'r'.\n",
        "regex_alternating_repetitive_digit_pair = r\"(\\d)(?=\\d\\1)\"\t# Do not delete 'r'.\n",
        "\n",
        "\n",
        "import re\n",
        "P = input()\n",
        "\n",
        "print (bool(re.match(regex_integer_in_range, P)) \n",
        "and len(re.findall(regex_alternating_repetitive_digit_pair, P)) < 2)"
      ],
      "execution_count": null,
      "outputs": [
        {
          "output_type": "stream",
          "name": "stdout",
          "text": [
            "110000\n",
            "False\n"
          ]
        }
      ]
    },
    {
      "cell_type": "markdown",
      "metadata": {
        "id": "0hr13PgCcYI4"
      },
      "source": [
        "Explanation 0\n",
        "\n",
        "110000 : (0, 0) and (0, 0) are two alternating digit pairs.\n",
        "\n",
        "Hence, it is an invalid postal code.\n",
        "\n",
        "Note:\n",
        "A score of 0 will be awarded for using 'if' conditions in your code.\n",
        "You have to pass all the testcases to get a positive score."
      ]
    },
    {
      "cell_type": "markdown",
      "metadata": {
        "id": "a9ZS6rIXcpVh"
      },
      "source": [
        ""
      ]
    },
    {
      "cell_type": "code",
      "metadata": {
        "id": "mRZW5MDrcoxk"
      },
      "source": [
        ""
      ],
      "execution_count": null,
      "outputs": []
    }
  ]
}