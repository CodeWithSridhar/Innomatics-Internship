{
  "nbformat": 4,
  "nbformat_minor": 0,
  "metadata": {
    "colab": {
      "name": "Task5_RegEx.ipynb",
      "provenance": [],
      "authorship_tag": "ABX9TyMDEbAZ/g3UvsXkiIAFz4ry",
      "include_colab_link": true
    },
    "kernelspec": {
      "name": "python3",
      "display_name": "Python 3"
    },
    "language_info": {
      "name": "python"
    }
  },
  "cells": [
    {
      "cell_type": "markdown",
      "metadata": {
        "id": "view-in-github",
        "colab_type": "text"
      },
      "source": [
        "<a href=\"https://colab.research.google.com/github/CodeWithSridhar/Innomatics-Internship/blob/main/Task5_RegEx.ipynb\" target=\"_parent\"><img src=\"https://colab.research.google.com/assets/colab-badge.svg\" alt=\"Open In Colab\"/></a>"
      ]
    },
    {
      "cell_type": "markdown",
      "metadata": {
        "id": "7kqg-qvEW_E2"
      },
      "source": [
        "\n",
        "# **Task - 5 (RegEx)**"
      ]
    },
    {
      "cell_type": "markdown",
      "metadata": {
        "id": "9q-pnI4EXJpp"
      },
      "source": [
        "**Questions Link**: https://www.hackerrank.com/domains/python?filters%5Bsubdomains%5D%5B%5D=py-regex "
      ]
    },
    {
      "cell_type": "markdown",
      "metadata": {
        "id": "V1AWRdQkXh65"
      },
      "source": [
        "## Detect Floating Point Number"
      ]
    },
    {
      "cell_type": "code",
      "metadata": {
        "colab": {
          "base_uri": "https://localhost:8080/"
        },
        "id": "tcBQlbH0WV0R",
        "outputId": "f5d450f1-06d2-42b2-db58-0575b050826e"
      },
      "source": [
        "import re\n",
        "class Main():\n",
        "    def __init__(self):\n",
        "        self.n = int(input())\n",
        "        for i in range(self.n):\n",
        "            self.s = input()\n",
        "            print(bool(re.match(r'^[-+]?[0-9]*\\.[0-9]+$', self.s)))\n",
        "                    \n",
        "if __name__ == '__main__':\n",
        "    Answer = Main()"
      ],
      "execution_count": 1,
      "outputs": [
        {
          "output_type": "stream",
          "name": "stdout",
          "text": [
            "4\n",
            "4.0O0\n",
            "False\n",
            "-1.00\n",
            "True\n",
            "+4.54\n",
            "True\n",
            "SomeRandomStuff\n",
            "False\n"
          ]
        }
      ]
    }
  ]
}