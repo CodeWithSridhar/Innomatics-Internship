{
  "nbformat": 4,
  "nbformat_minor": 0,
  "metadata": {
    "colab": {
      "name": "Task5_RegEx.ipynb",
      "provenance": [],
      "authorship_tag": "ABX9TyMH5XE1c9Fxh35qCipxMDkd",
      "include_colab_link": true
    },
    "kernelspec": {
      "name": "python3",
      "display_name": "Python 3"
    },
    "language_info": {
      "name": "python"
    }
  },
  "cells": [
    {
      "cell_type": "markdown",
      "metadata": {
        "id": "view-in-github",
        "colab_type": "text"
      },
      "source": [
        "<a href=\"https://colab.research.google.com/github/CodeWithSridhar/Innomatics-Internship/blob/main/Task5_RegEx.ipynb\" target=\"_parent\"><img src=\"https://colab.research.google.com/assets/colab-badge.svg\" alt=\"Open In Colab\"/></a>"
      ]
    },
    {
      "cell_type": "markdown",
      "metadata": {
        "id": "7kqg-qvEW_E2"
      },
      "source": [
        "\n",
        "# **Task - 5 (RegEx)**"
      ]
    },
    {
      "cell_type": "markdown",
      "metadata": {
        "id": "9q-pnI4EXJpp"
      },
      "source": [
        "**Questions Link**: https://www.hackerrank.com/domains/python?filters%5Bsubdomains%5D%5B%5D=py-regex "
      ]
    },
    {
      "cell_type": "markdown",
      "metadata": {
        "id": "V1AWRdQkXh65"
      },
      "source": [
        "## Detect Floating Point Number"
      ]
    },
    {
      "cell_type": "code",
      "metadata": {
        "colab": {
          "base_uri": "https://localhost:8080/"
        },
        "id": "tcBQlbH0WV0R",
        "outputId": "f5d450f1-06d2-42b2-db58-0575b050826e"
      },
      "source": [
        "import re\n",
        "class Main():\n",
        "    def __init__(self):\n",
        "        self.n = int(input())\n",
        "        for i in range(self.n):\n",
        "            self.s = input()\n",
        "            print(bool(re.match(r'^[-+]?[0-9]*\\.[0-9]+$', self.s)))\n",
        "                    \n",
        "if __name__ == '__main__':\n",
        "    Answer = Main()"
      ],
      "execution_count": null,
      "outputs": [
        {
          "output_type": "stream",
          "name": "stdout",
          "text": [
            "4\n",
            "4.0O0\n",
            "False\n",
            "-1.00\n",
            "True\n",
            "+4.54\n",
            "True\n",
            "SomeRandomStuff\n",
            "False\n"
          ]
        }
      ]
    },
    {
      "cell_type": "markdown",
      "metadata": {
        "id": "mQBkacojkLM6"
      },
      "source": [
        "Explanation:\n",
        "\n",
        "4.0O0 : O is not a digit.\n",
        "\n",
        "\n",
        "-1.00 : is valid.\n",
        "\n",
        "+4.54 : is valid.\n",
        "\n",
        "SomeRandomStuff: is not a number."
      ]
    },
    {
      "cell_type": "markdown",
      "metadata": {
        "id": "dWI_d2Jvh2M-"
      },
      "source": [
        "## Group(), Groups() & Groupdict()"
      ]
    },
    {
      "cell_type": "code",
      "metadata": {
        "colab": {
          "base_uri": "https://localhost:8080/"
        },
        "id": "-PofxlyMh2g_",
        "outputId": "03dea5d7-692b-4b2d-ec25-3167e160b414"
      },
      "source": [
        "import re\n",
        "\n",
        "expression = r\"([a-zA-Z0-9])\\1+\"\n",
        "String = re.search(expression,input('Enter string : '))\n",
        "if String:\n",
        "    print(String.group(1))\n",
        "else:\n",
        "    print(-1)"
      ],
      "execution_count": 1,
      "outputs": [
        {
          "output_type": "stream",
          "name": "stdout",
          "text": [
            "Enter string : ..12345678910111213141516171820212223\n",
            "1\n"
          ]
        }
      ]
    },
    {
      "cell_type": "markdown",
      "metadata": {
        "id": "RrAST-CdimlL"
      },
      "source": [
        "Here, .. is the first repeating character, but it is not alphanumeric.\n",
        "1 is the first (from left to right) alphanumeric repeating character of the string in the substring 111."
      ]
    },
    {
      "cell_type": "markdown",
      "metadata": {
        "id": "w40G5BbXi2AM"
      },
      "source": [
        "## Re.findall() & Re.finditer()"
      ]
    },
    {
      "cell_type": "code",
      "metadata": {
        "colab": {
          "base_uri": "https://localhost:8080/"
        },
        "id": "8cOQrQfwiqXc",
        "outputId": "32a1768a-e041-4471-f17f-55ed4ef64af2"
      },
      "source": [
        "import re\n",
        "String = re.findall(r'(?<=[qwrtypsdfghjklzxcvbnm])([aeiou]{2,})(?=[qwrtypsdfghjklzxcvbnm])', input().strip(), re.IGNORECASE)\n",
        "\n",
        "if String:\n",
        "    for i in String:\n",
        "        print(i)\n",
        "else:\n",
        "    print(-1)"
      ],
      "execution_count": 2,
      "outputs": [
        {
          "output_type": "stream",
          "name": "stdout",
          "text": [
            "rabcdeefgyYhFjkIoomnpOeorteeeeet\n",
            "ee\n",
            "Ioo\n",
            "Oeo\n",
            "eeeee\n"
          ]
        }
      ]
    },
    {
      "cell_type": "markdown",
      "metadata": {
        "id": "UpOEGERijs5-"
      },
      "source": [
        "Explanation\n",
        "\n",
        "ee is located between consonant d and f.\n",
        "\n",
        "Ioo is located between consonant k and m.\n",
        "\n",
        "Oeo is located between consonant p and r.\n",
        "\n",
        "eeeee is located between consonant t and t."
      ]
    }
  ]
}