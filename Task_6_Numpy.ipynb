{
  "nbformat": 4,
  "nbformat_minor": 0,
  "metadata": {
    "colab": {
      "name": "Task 6_Numpy.ipynb",
      "provenance": [],
      "authorship_tag": "ABX9TyMo0oLtYg4uyBhkQR6moHYR",
      "include_colab_link": true
    },
    "kernelspec": {
      "name": "python3",
      "display_name": "Python 3"
    },
    "language_info": {
      "name": "python"
    }
  },
  "cells": [
    {
      "cell_type": "markdown",
      "metadata": {
        "id": "view-in-github",
        "colab_type": "text"
      },
      "source": [
        "<a href=\"https://colab.research.google.com/github/CodeWithSridhar/Innomatics-Internship/blob/main/Task_6_Numpy.ipynb\" target=\"_parent\"><img src=\"https://colab.research.google.com/assets/colab-badge.svg\" alt=\"Open In Colab\"/></a>"
      ]
    },
    {
      "cell_type": "markdown",
      "metadata": {
        "id": "GfiRRES32fqg"
      },
      "source": [
        "#  **Assignment:**\n",
        " **Task - 6 (Numpy - Both for Basic and Adv User)**"
      ]
    },
    {
      "cell_type": "markdown",
      "metadata": {
        "id": "zLBf6DB52ky3"
      },
      "source": [
        "Questions Link:  https://www.hackerrank.com/domains/python?filters%5Bsubdomains%5D%5B%5D=numpy "
      ]
    },
    {
      "cell_type": "markdown",
      "metadata": {
        "id": "bDlPmkPT9kaL"
      },
      "source": [
        "## Arrays"
      ]
    },
    {
      "cell_type": "code",
      "metadata": {
        "colab": {
          "base_uri": "https://localhost:8080/"
        },
        "id": "RrOUexZD2cro",
        "outputId": "b8290e06-c8ff-427f-9c2e-d884a2797c70"
      },
      "source": [
        "import numpy\n",
        "\n",
        "def arrays(arr):\n",
        "    numpy_array = numpy.array(arr, float)\n",
        "    return numpy_array[::-1]\n",
        "\n",
        "arr = input().strip().split(' ')\n",
        "result = arrays(arr)\n",
        "print(result)"
      ],
      "execution_count": null,
      "outputs": [
        {
          "output_type": "stream",
          "name": "stdout",
          "text": [
            "1 2 3 4 -8 -10\n",
            "[-10.  -8.   4.   3.   2.   1.]\n"
          ]
        }
      ]
    },
    {
      "cell_type": "markdown",
      "metadata": {
        "id": "JtS0JTqK9_XO"
      },
      "source": [
        "## Shape and Reshape"
      ]
    },
    {
      "cell_type": "code",
      "metadata": {
        "colab": {
          "base_uri": "https://localhost:8080/"
        },
        "id": "5Kv4si9S9_yS",
        "outputId": "f97a989c-3dfc-409b-e056-1c7cc0fe6e34"
      },
      "source": [
        "import numpy\n",
        "A = numpy.array(input().split(),int)\n",
        "A = A.reshape(3,3)\n",
        "print(A)"
      ],
      "execution_count": null,
      "outputs": [
        {
          "output_type": "stream",
          "name": "stdout",
          "text": [
            "1 2 3 4 5 6 7 8 9\n",
            "[[1 2 3]\n",
            " [4 5 6]\n",
            " [7 8 9]]\n"
          ]
        }
      ]
    },
    {
      "cell_type": "markdown",
      "metadata": {
        "id": "7NbClCRqBOcr"
      },
      "source": [
        "## Transpose and Flatten"
      ]
    },
    {
      "cell_type": "code",
      "metadata": {
        "id": "ckItOhNCA4gV",
        "colab": {
          "base_uri": "https://localhost:8080/"
        },
        "outputId": "1e1398e0-8779-4a20-e1a8-d70ee6a4f979"
      },
      "source": [
        "import numpy\n",
        "N,M = map(int, input().split())\n",
        "A = numpy.array([input().split() for _ in range(N)],int) \n",
        "print(A.transpose())\n",
        "print(A.flatten())"
      ],
      "execution_count": null,
      "outputs": [
        {
          "output_type": "stream",
          "name": "stdout",
          "text": [
            "2 2\n",
            "1 2\n",
            "3 4\n",
            "[[1 3]\n",
            " [2 4]]\n",
            "[1 2 3 4]\n"
          ]
        }
      ]
    },
    {
      "cell_type": "markdown",
      "metadata": {
        "id": "H2Xl3NQc9anW"
      },
      "source": [
        "## Concatenate"
      ]
    },
    {
      "cell_type": "code",
      "metadata": {
        "colab": {
          "base_uri": "https://localhost:8080/"
        },
        "id": "jEmXcbHm9ZHv",
        "outputId": "c7f83f2c-3b92-4f77-b02d-dca2c03b5c63"
      },
      "source": [
        "import numpy\n",
        "P,N,M = map(int, input().split())\n",
        "A = numpy.array([input().split() for _ in range(P)],int)\n",
        "B = numpy.array([input().split() for _ in range(N)],int)\n",
        "C = numpy.concatenate((A,B),axis = 0)\n",
        "print(C)"
      ],
      "execution_count": null,
      "outputs": [
        {
          "output_type": "stream",
          "name": "stdout",
          "text": [
            "4 3 2\n",
            "1 2\n",
            "1 2\n",
            "1 2\n",
            "1 2\n",
            "3 4\n",
            "3 4\n",
            "3 4\n",
            "[[1 2]\n",
            " [1 2]\n",
            " [1 2]\n",
            " [1 2]\n",
            " [3 4]\n",
            " [3 4]\n",
            " [3 4]]\n"
          ]
        }
      ]
    },
    {
      "cell_type": "markdown",
      "metadata": {
        "id": "P9gkGmaa90Jt"
      },
      "source": [
        "## Zeros and Ones"
      ]
    },
    {
      "cell_type": "code",
      "metadata": {
        "colab": {
          "base_uri": "https://localhost:8080/"
        },
        "id": "HeRNsiev9zbk",
        "outputId": "87b009fb-77b8-423e-deec-cabc7c1474a1"
      },
      "source": [
        "import numpy\n",
        "\n",
        "A = tuple(map(int, input().split()))\n",
        "print(numpy.zeros(A, int))\n",
        "print(numpy.ones(A, int))"
      ],
      "execution_count": null,
      "outputs": [
        {
          "output_type": "stream",
          "name": "stdout",
          "text": [
            "3 3 3\n",
            "[[[0 0 0]\n",
            "  [0 0 0]\n",
            "  [0 0 0]]\n",
            "\n",
            " [[0 0 0]\n",
            "  [0 0 0]\n",
            "  [0 0 0]]\n",
            "\n",
            " [[0 0 0]\n",
            "  [0 0 0]\n",
            "  [0 0 0]]]\n",
            "[[[1 1 1]\n",
            "  [1 1 1]\n",
            "  [1 1 1]]\n",
            "\n",
            " [[1 1 1]\n",
            "  [1 1 1]\n",
            "  [1 1 1]]\n",
            "\n",
            " [[1 1 1]\n",
            "  [1 1 1]\n",
            "  [1 1 1]]]\n"
          ]
        }
      ]
    },
    {
      "cell_type": "markdown",
      "metadata": {
        "id": "OI14lKou-suW"
      },
      "source": [
        "## Eye and Identity"
      ]
    },
    {
      "cell_type": "code",
      "metadata": {
        "colab": {
          "base_uri": "https://localhost:8080/"
        },
        "id": "-v79A4jY-s9e",
        "outputId": "ccab9e12-bafc-401f-af47-8e41069ed0d8"
      },
      "source": [
        "import numpy\n",
        "N,M = map(int, input().split())\n",
        "print(numpy.eye(N,M))"
      ],
      "execution_count": null,
      "outputs": [
        {
          "output_type": "stream",
          "name": "stdout",
          "text": [
            "3 3\n",
            "[[1. 0. 0.]\n",
            " [0. 1. 0.]\n",
            " [0. 0. 1.]]\n"
          ]
        }
      ]
    },
    {
      "cell_type": "markdown",
      "metadata": {
        "id": "aq9izNrB_sMZ"
      },
      "source": [
        "## Array Mathematics"
      ]
    },
    {
      "cell_type": "code",
      "metadata": {
        "colab": {
          "base_uri": "https://localhost:8080/"
        },
        "id": "y16boesT_scC",
        "outputId": "853738e2-922e-4aeb-e600-b56a629b143c"
      },
      "source": [
        "import numpy\n",
        "N,M = map(int, input().split())\n",
        "A = numpy.array([list(map(int, input().split())) for n in range(N)])\n",
        "B = numpy.array([list(map(int, input().split())) for n in range(N)])\n",
        "\n",
        "print(numpy.add(A,B))\n",
        "print(numpy.subtract(A,B))\n",
        "print(numpy.multiply(A,B))\n",
        "print(numpy.divide(A,B))\n",
        "print(numpy.mod(A,B))\n",
        "print(numpy.power(A,B))"
      ],
      "execution_count": null,
      "outputs": [
        {
          "output_type": "stream",
          "name": "stdout",
          "text": [
            "1 4\n",
            "1 2 3 4\n",
            "5 6 7 8\n",
            "[[ 6  8 10 12]]\n",
            "[[-4 -4 -4 -4]]\n",
            "[[ 5 12 21 32]]\n",
            "[[0.2        0.33333333 0.42857143 0.5       ]]\n",
            "[[1 2 3 4]]\n",
            "[[    1    64  2187 65536]]\n"
          ]
        }
      ]
    },
    {
      "cell_type": "markdown",
      "metadata": {
        "id": "lJ1wXp6CE4gB"
      },
      "source": [
        "## Floor, Ceil and Rint"
      ]
    },
    {
      "cell_type": "code",
      "metadata": {
        "colab": {
          "base_uri": "https://localhost:8080/"
        },
        "id": "FZdmkGjEERU8",
        "outputId": "b1a2f0ea-96b0-45c2-9af2-80731cbd4f48"
      },
      "source": [
        "import numpy\n",
        "A = numpy.array(list(map(float, input().split())))\n",
        "print(numpy.floor(A))\n",
        "print(numpy.ceil(A))\n",
        "print(numpy.rint(A))"
      ],
      "execution_count": null,
      "outputs": [
        {
          "output_type": "stream",
          "name": "stdout",
          "text": [
            "1.1 2.2 3.3 4.4 5.5 6.6 7.7 8.8 9.9\n",
            "[1. 2. 3. 4. 5. 6. 7. 8. 9.]\n",
            "[ 2.  3.  4.  5.  6.  7.  8.  9. 10.]\n",
            "[ 1.  2.  3.  4.  6.  7.  8.  9. 10.]\n"
          ]
        }
      ]
    },
    {
      "cell_type": "markdown",
      "metadata": {
        "id": "NwLr32JmFgLK"
      },
      "source": [
        "## Sum and Prod"
      ]
    },
    {
      "cell_type": "code",
      "metadata": {
        "colab": {
          "base_uri": "https://localhost:8080/"
        },
        "id": "UZ9Pt6flFf-6",
        "outputId": "69ab48c3-f38f-4003-947f-a2fb0366378c"
      },
      "source": [
        "import numpy\n",
        "N, M = map(int, input().split())\n",
        "A = numpy.array([input().split() for _ in range(N)], int)\n",
        "Sum = numpy.sum(A,axis = 0)\n",
        "Prod = numpy.prod(Sum,axis = 0)\n",
        "print(Prod)"
      ],
      "execution_count": null,
      "outputs": [
        {
          "output_type": "stream",
          "name": "stdout",
          "text": [
            "2 2\n",
            "1 2\n",
            "3 4\n",
            "24\n"
          ]
        }
      ]
    },
    {
      "cell_type": "markdown",
      "metadata": {
        "id": "eWxpj3E4GF1q"
      },
      "source": [
        "## Min and Max"
      ]
    },
    {
      "cell_type": "code",
      "metadata": {
        "colab": {
          "base_uri": "https://localhost:8080/"
        },
        "id": "DJzeWtLaGFr0",
        "outputId": "a2ebd888-8760-44a4-fad1-19571be4d3ed"
      },
      "source": [
        "import numpy\n",
        "N, M = map(int, input().split())\n",
        "A = numpy.array([input().split() for _ in range(N)], int)\n",
        "Min = numpy.min(A,axis = 1)\n",
        "print(numpy.max(Min))\n"
      ],
      "execution_count": null,
      "outputs": [
        {
          "output_type": "stream",
          "name": "stdout",
          "text": [
            "4 2\n",
            "2 5\n",
            "3 7\n",
            "1 3\n",
            "4 7\n",
            "4\n"
          ]
        }
      ]
    },
    {
      "cell_type": "markdown",
      "metadata": {
        "id": "0VuPb7dJGnm5"
      },
      "source": [
        "## Mean, Var, and Std"
      ]
    },
    {
      "cell_type": "code",
      "metadata": {
        "colab": {
          "base_uri": "https://localhost:8080/"
        },
        "id": "_yGrJarvGnOu",
        "outputId": "39b8d7fa-110f-4a19-dfea-0e0efcd8fd96"
      },
      "source": [
        "import numpy\n",
        "N, M = map(int, input().split())\n",
        "A = numpy.array([input().split() for _ in range(N)], int)\n",
        "print(numpy.mean(A,axis = 1))\n",
        "print(numpy.var(A,axis = 0))\n",
        "numpy.set_printoptions(legacy='1.13')\n",
        "print(numpy.std(A))"
      ],
      "execution_count": null,
      "outputs": [
        {
          "output_type": "stream",
          "name": "stdout",
          "text": [
            "2 2\n",
            "1 2\n",
            "3 4\n",
            "[1.5 3.5]\n",
            "[1. 1.]\n",
            "1.11803398875\n"
          ]
        }
      ]
    },
    {
      "cell_type": "markdown",
      "metadata": {
        "id": "1hSN0Z2IcgCT"
      },
      "source": [
        "## Dot and Cross"
      ]
    },
    {
      "cell_type": "code",
      "metadata": {
        "colab": {
          "base_uri": "https://localhost:8080/"
        },
        "id": "Fd_IjtgYcfxM",
        "outputId": "4dc80a0e-88a5-45cd-96fc-c5d3822a3850"
      },
      "source": [
        "import numpy\n",
        "N = int(input())\n",
        "A = numpy.array([input().split() for _ in range(N)], int)\n",
        "B = numpy.array([input().split() for _ in range(N)], int)\n",
        "print(numpy.dot(A,B))"
      ],
      "execution_count": null,
      "outputs": [
        {
          "output_type": "stream",
          "name": "stdout",
          "text": [
            "2\n",
            "1 2\n",
            "3 4\n",
            "1 2\n",
            "3 4\n",
            "[[ 7 10]\n",
            " [15 22]]\n"
          ]
        }
      ]
    },
    {
      "cell_type": "markdown",
      "metadata": {
        "id": "zCzRrmq1cqhz"
      },
      "source": [
        "## Inner and Outer"
      ]
    },
    {
      "cell_type": "code",
      "metadata": {
        "id": "lDWoNYCKcrDF",
        "colab": {
          "base_uri": "https://localhost:8080/"
        },
        "outputId": "7bff07e9-56d2-45b3-ef38-a0debc1ad53a"
      },
      "source": [
        "import numpy\n",
        "A = numpy.array(input().split(),int)\n",
        "B = numpy.array(input().split(),int)\n",
        "print(numpy.inner(A,B))\n",
        "print(numpy.outer(A,B))"
      ],
      "execution_count": 1,
      "outputs": [
        {
          "output_type": "stream",
          "name": "stdout",
          "text": [
            "0 1\n",
            "2 3\n",
            "3\n",
            "[[0 0]\n",
            " [2 3]]\n"
          ]
        }
      ]
    },
    {
      "cell_type": "markdown",
      "metadata": {
        "id": "TpbchtPV1CIB"
      },
      "source": [
        "## Polynomials"
      ]
    },
    {
      "cell_type": "code",
      "metadata": {
        "colab": {
          "base_uri": "https://localhost:8080/"
        },
        "id": "tpjVKHyn0eIx",
        "outputId": "9ba29dd8-0c5a-498f-d657-b4219a4387df"
      },
      "source": [
        "import numpy\n",
        "A,B,C = map(float, input().split())\n",
        "X = int(input()) \n",
        "print(numpy.polyval([A,B,C],X))"
      ],
      "execution_count": 2,
      "outputs": [
        {
          "output_type": "stream",
          "name": "stdout",
          "text": [
            "1.1 2 3\n",
            "0\n",
            "3.0\n"
          ]
        }
      ]
    },
    {
      "cell_type": "markdown",
      "metadata": {
        "id": "IIq6fWj41ERt"
      },
      "source": [
        "## Linear Algebra"
      ]
    },
    {
      "cell_type": "code",
      "metadata": {
        "colab": {
          "base_uri": "https://localhost:8080/"
        },
        "id": "j-g6NomI07OT",
        "outputId": "0eadfc8c-6910-4e05-af8d-ac141aab828d"
      },
      "source": [
        "import numpy\n",
        "N = int(input()) \n",
        "A = numpy.array([input().split() for _ in range(N)],float)\n",
        "# Output needs to be round to 2 decimal points\n",
        "print(round(numpy.linalg.det(A),2))"
      ],
      "execution_count": 3,
      "outputs": [
        {
          "output_type": "stream",
          "name": "stdout",
          "text": [
            "2\n",
            "1.1 1.1\n",
            "1.1 1.1\n",
            "0.0\n"
          ]
        }
      ]
    }
  ]
}