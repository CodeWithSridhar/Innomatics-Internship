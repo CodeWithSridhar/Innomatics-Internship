{
  "nbformat": 4,
  "nbformat_minor": 0,
  "metadata": {
    "colab": {
      "name": "Task 6_Numpy.ipynb",
      "provenance": [],
      "authorship_tag": "ABX9TyP0HTSpfmNWE5N68JtPXPBf",
      "include_colab_link": true
    },
    "kernelspec": {
      "name": "python3",
      "display_name": "Python 3"
    },
    "language_info": {
      "name": "python"
    }
  },
  "cells": [
    {
      "cell_type": "markdown",
      "metadata": {
        "id": "view-in-github",
        "colab_type": "text"
      },
      "source": [
        "<a href=\"https://colab.research.google.com/github/CodeWithSridhar/Innomatics-Internship/blob/main/Task_6_Numpy.ipynb\" target=\"_parent\"><img src=\"https://colab.research.google.com/assets/colab-badge.svg\" alt=\"Open In Colab\"/></a>"
      ]
    },
    {
      "cell_type": "markdown",
      "metadata": {
        "id": "GfiRRES32fqg"
      },
      "source": [
        "#  **Assignment:**\n",
        " **Task - 6 (Numpy - Both for Basic and Adv User)**"
      ]
    },
    {
      "cell_type": "markdown",
      "metadata": {
        "id": "zLBf6DB52ky3"
      },
      "source": [
        "Questions Link:  https://www.hackerrank.com/domains/python?filters%5Bsubdomains%5D%5B%5D=numpy "
      ]
    },
    {
      "cell_type": "markdown",
      "metadata": {
        "id": "bDlPmkPT9kaL"
      },
      "source": [
        "## Arrays"
      ]
    },
    {
      "cell_type": "code",
      "metadata": {
        "colab": {
          "base_uri": "https://localhost:8080/"
        },
        "id": "RrOUexZD2cro",
        "outputId": "b8290e06-c8ff-427f-9c2e-d884a2797c70"
      },
      "source": [
        "import numpy\n",
        "\n",
        "def arrays(arr):\n",
        "    numpy_array = numpy.array(arr, float)\n",
        "    return numpy_array[::-1]\n",
        "\n",
        "arr = input().strip().split(' ')\n",
        "result = arrays(arr)\n",
        "print(result)"
      ],
      "execution_count": null,
      "outputs": [
        {
          "output_type": "stream",
          "name": "stdout",
          "text": [
            "1 2 3 4 -8 -10\n",
            "[-10.  -8.   4.   3.   2.   1.]\n"
          ]
        }
      ]
    },
    {
      "cell_type": "markdown",
      "metadata": {
        "id": "JtS0JTqK9_XO"
      },
      "source": [
        "## Shape and Reshape"
      ]
    },
    {
      "cell_type": "code",
      "metadata": {
        "colab": {
          "base_uri": "https://localhost:8080/"
        },
        "id": "5Kv4si9S9_yS",
        "outputId": "f97a989c-3dfc-409b-e056-1c7cc0fe6e34"
      },
      "source": [
        "import numpy\n",
        "A = numpy.array(input().split(),int)\n",
        "A = A.reshape(3,3)\n",
        "print(A)"
      ],
      "execution_count": null,
      "outputs": [
        {
          "output_type": "stream",
          "name": "stdout",
          "text": [
            "1 2 3 4 5 6 7 8 9\n",
            "[[1 2 3]\n",
            " [4 5 6]\n",
            " [7 8 9]]\n"
          ]
        }
      ]
    },
    {
      "cell_type": "markdown",
      "metadata": {
        "id": "7NbClCRqBOcr"
      },
      "source": [
        "## Transpose and Flatten"
      ]
    },
    {
      "cell_type": "code",
      "metadata": {
        "id": "ckItOhNCA4gV",
        "colab": {
          "base_uri": "https://localhost:8080/"
        },
        "outputId": "1e1398e0-8779-4a20-e1a8-d70ee6a4f979"
      },
      "source": [
        "import numpy\n",
        "N,M = map(int, input().split())\n",
        "A = numpy.array([input().split() for _ in range(N)],int) \n",
        "print(A.transpose())\n",
        "print(A.flatten())"
      ],
      "execution_count": 2,
      "outputs": [
        {
          "output_type": "stream",
          "name": "stdout",
          "text": [
            "2 2\n",
            "1 2\n",
            "3 4\n",
            "[[1 3]\n",
            " [2 4]]\n",
            "[1 2 3 4]\n"
          ]
        }
      ]
    },
    {
      "cell_type": "markdown",
      "metadata": {
        "id": "H2Xl3NQc9anW"
      },
      "source": [
        "## Concatenate"
      ]
    },
    {
      "cell_type": "code",
      "metadata": {
        "colab": {
          "base_uri": "https://localhost:8080/"
        },
        "id": "jEmXcbHm9ZHv",
        "outputId": "c7f83f2c-3b92-4f77-b02d-dca2c03b5c63"
      },
      "source": [
        "import numpy\n",
        "P,N,M = map(int, input().split())\n",
        "A = numpy.array([input().split() for _ in range(P)],int)\n",
        "B = numpy.array([input().split() for _ in range(N)],int)\n",
        "C = numpy.concatenate((A,B),axis = 0)\n",
        "print(C)"
      ],
      "execution_count": 4,
      "outputs": [
        {
          "output_type": "stream",
          "name": "stdout",
          "text": [
            "4 3 2\n",
            "1 2\n",
            "1 2\n",
            "1 2\n",
            "1 2\n",
            "3 4\n",
            "3 4\n",
            "3 4\n",
            "[[1 2]\n",
            " [1 2]\n",
            " [1 2]\n",
            " [1 2]\n",
            " [3 4]\n",
            " [3 4]\n",
            " [3 4]]\n"
          ]
        }
      ]
    },
    {
      "cell_type": "markdown",
      "metadata": {
        "id": "P9gkGmaa90Jt"
      },
      "source": [
        ""
      ]
    },
    {
      "cell_type": "code",
      "metadata": {
        "id": "HeRNsiev9zbk"
      },
      "source": [
        ""
      ],
      "execution_count": null,
      "outputs": []
    }
  ]
}