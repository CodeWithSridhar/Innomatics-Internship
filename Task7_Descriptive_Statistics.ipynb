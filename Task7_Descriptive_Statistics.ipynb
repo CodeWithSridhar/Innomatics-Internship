{
  "nbformat": 4,
  "nbformat_minor": 0,
  "metadata": {
    "colab": {
      "name": "Task7_Descriptive_Statistics.ipynb",
      "provenance": [],
      "authorship_tag": "ABX9TyO/MEarn4ErZPPjtQsq0T8v",
      "include_colab_link": true
    },
    "kernelspec": {
      "name": "python3",
      "display_name": "Python 3"
    },
    "language_info": {
      "name": "python"
    }
  },
  "cells": [
    {
      "cell_type": "markdown",
      "metadata": {
        "id": "view-in-github",
        "colab_type": "text"
      },
      "source": [
        "<a href=\"https://colab.research.google.com/github/CodeWithSridhar/Innomatics-Internship/blob/main/Task7_Descriptive_Statistics.ipynb\" target=\"_parent\"><img src=\"https://colab.research.google.com/assets/colab-badge.svg\" alt=\"Open In Colab\"/></a>"
      ]
    },
    {
      "cell_type": "markdown",
      "metadata": {
        "id": "srbECJIa7JU_"
      },
      "source": [
        "# **Assignment**\n",
        "# Task 7 - Descriptive Statistics"
      ]
    },
    {
      "cell_type": "markdown",
      "metadata": {
        "id": "tgFRLNWN7GJS"
      },
      "source": [
        "## Descriptive Statistics and Python Implementation😧"
      ]
    },
    {
      "cell_type": "markdown",
      "metadata": {
        "id": "211XIlNm7yqF"
      },
      "source": [
        "Dataset: https://drive.google.com/file/d/1l040PTRmQ9fw5VULbwG-qM6P2A5xZIBQ/view "
      ]
    },
    {
      "cell_type": "markdown",
      "metadata": {
        "id": "2_vXXTko7dfr"
      },
      "source": [
        "Write a Jupyter Notebook explaining all the Descriptive Statistics.\n",
        " \n",
        "    Mean\n",
        "    Median\n",
        "    Mode\n",
        "    Variance\n",
        "    Standard Deviation\n",
        "    Correlation\n",
        "    Normal Distribution (use references)\n",
        "    Feature of Normal Distribution\n",
        "    Positively Skewed & Negatively Skewed Normal Distribution\n",
        "    Effect on Mean, Median and Mode due to Skewness\n",
        "    Explain QQ Plot and show the implementation of the same\n",
        "    Explain Box Cox and show the implementation of the same\n",
        "\n",
        "\n",
        "Explain each topic (mentioned above) with the help of images, code examples (with and without library functions) and formulas (written using LaTeX"
      ]
    },
    {
      "cell_type": "code",
      "metadata": {
        "id": "4cqrAc0_64x5"
      },
      "source": [
        "# importing libraries\n",
        "\n",
        "import numpy as np\n",
        "import pandas as pd\n",
        "import seaborn as sns\n",
        "import matplotlib.pyplot as plt\n",
        "from scipy import stats\n"
      ],
      "execution_count": null,
      "outputs": []
    },
    {
      "cell_type": "code",
      "metadata": {
        "id": "CtU4D_gr9XZm"
      },
      "source": [
        "# importing dataset\n",
        "\n",
        "data = pd.read_csv(\"https://raw.githubusercontent.com/CodeWithSridhar/Innomatics-Internship/main/data.csv\")"
      ],
      "execution_count": null,
      "outputs": []
    },
    {
      "cell_type": "code",
      "metadata": {
        "colab": {
          "base_uri": "https://localhost:8080/",
          "height": 206
        },
        "id": "xn5SxaAd9frs",
        "outputId": "59533973-88dd-46e1-ae12-9e83e1174857"
      },
      "source": [
        "data.head()"
      ],
      "execution_count": null,
      "outputs": [
        {
          "output_type": "execute_result",
          "data": {
            "text/html": [
              "<div>\n",
              "<style scoped>\n",
              "    .dataframe tbody tr th:only-of-type {\n",
              "        vertical-align: middle;\n",
              "    }\n",
              "\n",
              "    .dataframe tbody tr th {\n",
              "        vertical-align: top;\n",
              "    }\n",
              "\n",
              "    .dataframe thead th {\n",
              "        text-align: right;\n",
              "    }\n",
              "</style>\n",
              "<table border=\"1\" class=\"dataframe\">\n",
              "  <thead>\n",
              "    <tr style=\"text-align: right;\">\n",
              "      <th></th>\n",
              "      <th>Mthly_HH_Income</th>\n",
              "      <th>Mthly_HH_Expense</th>\n",
              "      <th>No_of_Fly_Members</th>\n",
              "      <th>Emi_or_Rent_Amt</th>\n",
              "      <th>Annual_HH_Income</th>\n",
              "      <th>Highest_Qualified_Member</th>\n",
              "      <th>No_of_Earning_Members</th>\n",
              "    </tr>\n",
              "  </thead>\n",
              "  <tbody>\n",
              "    <tr>\n",
              "      <th>0</th>\n",
              "      <td>5000</td>\n",
              "      <td>8000</td>\n",
              "      <td>3</td>\n",
              "      <td>2000</td>\n",
              "      <td>64200</td>\n",
              "      <td>Under-Graduate</td>\n",
              "      <td>1</td>\n",
              "    </tr>\n",
              "    <tr>\n",
              "      <th>1</th>\n",
              "      <td>6000</td>\n",
              "      <td>7000</td>\n",
              "      <td>2</td>\n",
              "      <td>3000</td>\n",
              "      <td>79920</td>\n",
              "      <td>Illiterate</td>\n",
              "      <td>1</td>\n",
              "    </tr>\n",
              "    <tr>\n",
              "      <th>2</th>\n",
              "      <td>10000</td>\n",
              "      <td>4500</td>\n",
              "      <td>2</td>\n",
              "      <td>0</td>\n",
              "      <td>112800</td>\n",
              "      <td>Under-Graduate</td>\n",
              "      <td>1</td>\n",
              "    </tr>\n",
              "    <tr>\n",
              "      <th>3</th>\n",
              "      <td>10000</td>\n",
              "      <td>2000</td>\n",
              "      <td>1</td>\n",
              "      <td>0</td>\n",
              "      <td>97200</td>\n",
              "      <td>Illiterate</td>\n",
              "      <td>1</td>\n",
              "    </tr>\n",
              "    <tr>\n",
              "      <th>4</th>\n",
              "      <td>12500</td>\n",
              "      <td>12000</td>\n",
              "      <td>2</td>\n",
              "      <td>3000</td>\n",
              "      <td>147000</td>\n",
              "      <td>Graduate</td>\n",
              "      <td>1</td>\n",
              "    </tr>\n",
              "  </tbody>\n",
              "</table>\n",
              "</div>"
            ],
            "text/plain": [
              "   Mthly_HH_Income  ...  No_of_Earning_Members\n",
              "0             5000  ...                      1\n",
              "1             6000  ...                      1\n",
              "2            10000  ...                      1\n",
              "3            10000  ...                      1\n",
              "4            12500  ...                      1\n",
              "\n",
              "[5 rows x 7 columns]"
            ]
          },
          "metadata": {},
          "execution_count": 4
        }
      ]
    },
    {
      "cell_type": "code",
      "metadata": {
        "colab": {
          "base_uri": "https://localhost:8080/",
          "height": 206
        },
        "id": "nhmMztVq9hTf",
        "outputId": "b891be29-7e70-485e-92de-b4e8602dae36"
      },
      "source": [
        "data.tail()"
      ],
      "execution_count": null,
      "outputs": [
        {
          "output_type": "execute_result",
          "data": {
            "text/html": [
              "<div>\n",
              "<style scoped>\n",
              "    .dataframe tbody tr th:only-of-type {\n",
              "        vertical-align: middle;\n",
              "    }\n",
              "\n",
              "    .dataframe tbody tr th {\n",
              "        vertical-align: top;\n",
              "    }\n",
              "\n",
              "    .dataframe thead th {\n",
              "        text-align: right;\n",
              "    }\n",
              "</style>\n",
              "<table border=\"1\" class=\"dataframe\">\n",
              "  <thead>\n",
              "    <tr style=\"text-align: right;\">\n",
              "      <th></th>\n",
              "      <th>Mthly_HH_Income</th>\n",
              "      <th>Mthly_HH_Expense</th>\n",
              "      <th>No_of_Fly_Members</th>\n",
              "      <th>Emi_or_Rent_Amt</th>\n",
              "      <th>Annual_HH_Income</th>\n",
              "      <th>Highest_Qualified_Member</th>\n",
              "      <th>No_of_Earning_Members</th>\n",
              "    </tr>\n",
              "  </thead>\n",
              "  <tbody>\n",
              "    <tr>\n",
              "      <th>45</th>\n",
              "      <td>90000</td>\n",
              "      <td>48000</td>\n",
              "      <td>7</td>\n",
              "      <td>0</td>\n",
              "      <td>885600</td>\n",
              "      <td>Post-Graduate</td>\n",
              "      <td>3</td>\n",
              "    </tr>\n",
              "    <tr>\n",
              "      <th>46</th>\n",
              "      <td>98000</td>\n",
              "      <td>25000</td>\n",
              "      <td>5</td>\n",
              "      <td>0</td>\n",
              "      <td>1152480</td>\n",
              "      <td>Professional</td>\n",
              "      <td>2</td>\n",
              "    </tr>\n",
              "    <tr>\n",
              "      <th>47</th>\n",
              "      <td>100000</td>\n",
              "      <td>30000</td>\n",
              "      <td>6</td>\n",
              "      <td>0</td>\n",
              "      <td>1404000</td>\n",
              "      <td>Graduate</td>\n",
              "      <td>3</td>\n",
              "    </tr>\n",
              "    <tr>\n",
              "      <th>48</th>\n",
              "      <td>100000</td>\n",
              "      <td>50000</td>\n",
              "      <td>4</td>\n",
              "      <td>20000</td>\n",
              "      <td>1032000</td>\n",
              "      <td>Professional</td>\n",
              "      <td>2</td>\n",
              "    </tr>\n",
              "    <tr>\n",
              "      <th>49</th>\n",
              "      <td>100000</td>\n",
              "      <td>40000</td>\n",
              "      <td>6</td>\n",
              "      <td>10000</td>\n",
              "      <td>1320000</td>\n",
              "      <td>Post-Graduate</td>\n",
              "      <td>1</td>\n",
              "    </tr>\n",
              "  </tbody>\n",
              "</table>\n",
              "</div>"
            ],
            "text/plain": [
              "    Mthly_HH_Income  ...  No_of_Earning_Members\n",
              "45            90000  ...                      3\n",
              "46            98000  ...                      2\n",
              "47           100000  ...                      3\n",
              "48           100000  ...                      2\n",
              "49           100000  ...                      1\n",
              "\n",
              "[5 rows x 7 columns]"
            ]
          },
          "metadata": {},
          "execution_count": 5
        }
      ]
    },
    {
      "cell_type": "code",
      "metadata": {
        "colab": {
          "base_uri": "https://localhost:8080/"
        },
        "id": "0BoxV1pY9jnG",
        "outputId": "f65295e7-0750-44d3-d433-c19598fa0922"
      },
      "source": [
        "data.info()"
      ],
      "execution_count": null,
      "outputs": [
        {
          "output_type": "stream",
          "name": "stdout",
          "text": [
            "<class 'pandas.core.frame.DataFrame'>\n",
            "RangeIndex: 50 entries, 0 to 49\n",
            "Data columns (total 7 columns):\n",
            " #   Column                    Non-Null Count  Dtype \n",
            "---  ------                    --------------  ----- \n",
            " 0   Mthly_HH_Income           50 non-null     int64 \n",
            " 1   Mthly_HH_Expense          50 non-null     int64 \n",
            " 2   No_of_Fly_Members         50 non-null     int64 \n",
            " 3   Emi_or_Rent_Amt           50 non-null     int64 \n",
            " 4   Annual_HH_Income          50 non-null     int64 \n",
            " 5   Highest_Qualified_Member  50 non-null     object\n",
            " 6   No_of_Earning_Members     50 non-null     int64 \n",
            "dtypes: int64(6), object(1)\n",
            "memory usage: 2.9+ KB\n"
          ]
        }
      ]
    },
    {
      "cell_type": "code",
      "metadata": {
        "colab": {
          "base_uri": "https://localhost:8080/",
          "height": 300
        },
        "id": "s3WqsvUF9on8",
        "outputId": "267fad94-6a8c-4dbe-ac4e-2cafea45d0ad"
      },
      "source": [
        "data.describe()"
      ],
      "execution_count": null,
      "outputs": [
        {
          "output_type": "execute_result",
          "data": {
            "text/html": [
              "<div>\n",
              "<style scoped>\n",
              "    .dataframe tbody tr th:only-of-type {\n",
              "        vertical-align: middle;\n",
              "    }\n",
              "\n",
              "    .dataframe tbody tr th {\n",
              "        vertical-align: top;\n",
              "    }\n",
              "\n",
              "    .dataframe thead th {\n",
              "        text-align: right;\n",
              "    }\n",
              "</style>\n",
              "<table border=\"1\" class=\"dataframe\">\n",
              "  <thead>\n",
              "    <tr style=\"text-align: right;\">\n",
              "      <th></th>\n",
              "      <th>Mthly_HH_Income</th>\n",
              "      <th>Mthly_HH_Expense</th>\n",
              "      <th>No_of_Fly_Members</th>\n",
              "      <th>Emi_or_Rent_Amt</th>\n",
              "      <th>Annual_HH_Income</th>\n",
              "      <th>No_of_Earning_Members</th>\n",
              "    </tr>\n",
              "  </thead>\n",
              "  <tbody>\n",
              "    <tr>\n",
              "      <th>count</th>\n",
              "      <td>50.000000</td>\n",
              "      <td>50.000000</td>\n",
              "      <td>50.000000</td>\n",
              "      <td>50.000000</td>\n",
              "      <td>5.000000e+01</td>\n",
              "      <td>50.000000</td>\n",
              "    </tr>\n",
              "    <tr>\n",
              "      <th>mean</th>\n",
              "      <td>41558.000000</td>\n",
              "      <td>18818.000000</td>\n",
              "      <td>4.060000</td>\n",
              "      <td>3060.000000</td>\n",
              "      <td>4.900190e+05</td>\n",
              "      <td>1.460000</td>\n",
              "    </tr>\n",
              "    <tr>\n",
              "      <th>std</th>\n",
              "      <td>26097.908979</td>\n",
              "      <td>12090.216824</td>\n",
              "      <td>1.517382</td>\n",
              "      <td>6241.434948</td>\n",
              "      <td>3.201358e+05</td>\n",
              "      <td>0.734291</td>\n",
              "    </tr>\n",
              "    <tr>\n",
              "      <th>min</th>\n",
              "      <td>5000.000000</td>\n",
              "      <td>2000.000000</td>\n",
              "      <td>1.000000</td>\n",
              "      <td>0.000000</td>\n",
              "      <td>6.420000e+04</td>\n",
              "      <td>1.000000</td>\n",
              "    </tr>\n",
              "    <tr>\n",
              "      <th>25%</th>\n",
              "      <td>23550.000000</td>\n",
              "      <td>10000.000000</td>\n",
              "      <td>3.000000</td>\n",
              "      <td>0.000000</td>\n",
              "      <td>2.587500e+05</td>\n",
              "      <td>1.000000</td>\n",
              "    </tr>\n",
              "    <tr>\n",
              "      <th>50%</th>\n",
              "      <td>35000.000000</td>\n",
              "      <td>15500.000000</td>\n",
              "      <td>4.000000</td>\n",
              "      <td>0.000000</td>\n",
              "      <td>4.474200e+05</td>\n",
              "      <td>1.000000</td>\n",
              "    </tr>\n",
              "    <tr>\n",
              "      <th>75%</th>\n",
              "      <td>50375.000000</td>\n",
              "      <td>25000.000000</td>\n",
              "      <td>5.000000</td>\n",
              "      <td>3500.000000</td>\n",
              "      <td>5.947200e+05</td>\n",
              "      <td>2.000000</td>\n",
              "    </tr>\n",
              "    <tr>\n",
              "      <th>max</th>\n",
              "      <td>100000.000000</td>\n",
              "      <td>50000.000000</td>\n",
              "      <td>7.000000</td>\n",
              "      <td>35000.000000</td>\n",
              "      <td>1.404000e+06</td>\n",
              "      <td>4.000000</td>\n",
              "    </tr>\n",
              "  </tbody>\n",
              "</table>\n",
              "</div>"
            ],
            "text/plain": [
              "       Mthly_HH_Income  ...  No_of_Earning_Members\n",
              "count        50.000000  ...              50.000000\n",
              "mean      41558.000000  ...               1.460000\n",
              "std       26097.908979  ...               0.734291\n",
              "min        5000.000000  ...               1.000000\n",
              "25%       23550.000000  ...               1.000000\n",
              "50%       35000.000000  ...               1.000000\n",
              "75%       50375.000000  ...               2.000000\n",
              "max      100000.000000  ...               4.000000\n",
              "\n",
              "[8 rows x 6 columns]"
            ]
          },
          "metadata": {},
          "execution_count": 7
        }
      ]
    },
    {
      "cell_type": "code",
      "metadata": {
        "colab": {
          "base_uri": "https://localhost:8080/"
        },
        "id": "Z-T3wa2H9sur",
        "outputId": "01a3d7ca-6cde-4c98-f970-d8835c4ce644"
      },
      "source": [
        "data.shape"
      ],
      "execution_count": null,
      "outputs": [
        {
          "output_type": "execute_result",
          "data": {
            "text/plain": [
              "(50, 7)"
            ]
          },
          "metadata": {},
          "execution_count": 9
        }
      ]
    },
    {
      "cell_type": "code",
      "metadata": {
        "id": "EKS-XHY79vOe"
      },
      "source": [
        ""
      ],
      "execution_count": null,
      "outputs": []
    }
  ]
}